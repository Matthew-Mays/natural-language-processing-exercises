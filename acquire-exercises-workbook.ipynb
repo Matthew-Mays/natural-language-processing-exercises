{
 "cells": [
  {
   "cell_type": "code",
   "execution_count": 2,
   "metadata": {},
   "outputs": [],
   "source": [
    "from requests import get\n",
    "from bs4 import BeautifulSoup\n",
    "import os"
   ]
  },
  {
   "cell_type": "markdown",
   "metadata": {},
   "source": [
    "## 1. Codeup Blog Articles"
   ]
  },
  {
   "cell_type": "markdown",
   "metadata": {},
   "source": [
    "Scrape the article text from the following pages:\n",
    "* https://codeup.com/codeups-data-science-career-accelerator-is-here/\n",
    "* https://codeup.com/data-science-myths/\n",
    "* https://codeup.com/data-science-vs-data-analytics-whats-the-difference/\n",
    "* https://codeup.com/10-tips-to-crush-it-at-the-sa-tech-job-fair/\n",
    "* https://codeup.com/competitor-bootcamps-are-closing-is-the-model-in-danger/"
   ]
  },
  {
   "cell_type": "markdown",
   "metadata": {},
   "source": [
    "### Encapsulate your work in a function named get_blog_articles that will return a list of dictionaries, with each dictionary representing one article. The shape of each dictionary should look like this:"
   ]
  },
  {
   "cell_type": "code",
   "execution_count": 1,
   "metadata": {},
   "outputs": [],
   "source": [
    "# {\n",
    "#     'title': 'the title of the article',\n",
    "#     'content': 'the full text content of the article'\n",
    "# }"
   ]
  },
  {
   "cell_type": "code",
   "execution_count": 5,
   "metadata": {},
   "outputs": [],
   "source": [
    "def get_article_career():\n",
    "    d = {}\n",
    "    url = 'https://codeup.com/codeups-data-science-career-accelerator-is-here/'\n",
    "    headers = {'User-Agent': 'Codeup Data Science'}\n",
    "    response = get(url, headers=headers)\n",
    "    soup = BeautifulSoup(response.text)\n",
    "    article = soup.find('div', class_='jupiterx-post-content')\n",
    "    title = soup.find('h1').text\n",
    "    d['title'] = title\n",
    "    d['article'] = article.text\n",
    "    return d"
   ]
  },
  {
   "cell_type": "code",
   "execution_count": 6,
   "metadata": {},
   "outputs": [
    {
     "data": {
      "text/plain": [
       "{'title': 'Codeup’s Data Science Career Accelerator is Here!',\n",
       " 'article': 'The rumors are true! The time has arrived. Codeup has officially opened applications to our new Data Science career accelerator, with only 25 seats available! This immersive program is one of a kind in San Antonio, and will help you land a job in\\xa0Glassdoor’s #1 Best Job in America.\\nData Science is a method of providing actionable intelligence from data.\\xa0The data revolution has hit San Antonio,\\xa0resulting in an explosion in Data Scientist positions\\xa0across companies like USAA, Accenture, Booz Allen Hamilton, and HEB. We’ve even seen\\xa0UTSA invest $70 M for a Cybersecurity Center and School of Data Science.\\xa0We built a program to specifically meet the growing demands of this industry.\\nOur program will be 18 weeks long, full-time, hands-on, and project-based. Our curriculum development and instruction is led by Senior Data Scientist, Maggie Giust, who has worked at HEB, Capital Group, and Rackspace, along with input from dozens of practitioners and hiring partners. Students will work with real data sets, realistic problems, and the entire data science pipeline from collection to deployment. They will receive professional development training in resume writing, interviewing, and continuing education to prepare for a smooth transition to the workforce.\\nWe focus on applied data science for immediate impact and ROI in a business, which is how we can back it all up with a 6 month tuition refund guarantee – just like our existing Web Dev program. We’re focusing on Data Science with Python, SQL, and ML, covered in\\xa014 modules: 1) Fundamentals; 2) Applied statistics; 3) SQL; 4) Python; 5) Supervised machine learning – regression; 6) Supervised machine learning – classification; 7) Unsupervised machine learning – clustering; 8) Time series analysis; 9) Anomaly detection; 10) Natural language processing; 11) Distributed machine learning; 12) Advanced topics (deep learning, NoSQL, cloud deployment, etc.); 13) Storytelling with data; and 14) Domain expertise development.\\nApplications are now open\\xa0for Codeup’s first Data Science cohort, which will start class on February 4, 2019. Hurry – there are only 25 seats available! To further our mission of cultivating inclusive growth, scholarships will be available to women, minorities, LGBTQIA+ individuals, veterans, first responders, and people relocating to San Antonio.\\nIf you want to learn about joining our program or hiring our graduates, email datascience@codeup.com!\\n\\n'}"
      ]
     },
     "execution_count": 6,
     "metadata": {},
     "output_type": "execute_result"
    }
   ],
   "source": [
    "get_article_career()"
   ]
  },
  {
   "cell_type": "code",
   "execution_count": 9,
   "metadata": {},
   "outputs": [],
   "source": [
    "def get_article_myths():\n",
    "    d = {}\n",
    "    url = 'https://codeup.com/data-science-myths/'\n",
    "    headers = {'User-Agent': 'Codeup Data Science'}\n",
    "    response = get(url, headers=headers)\n",
    "    soup = BeautifulSoup(response.text)\n",
    "    article = soup.find('div', class_='jupiterx-post-content')\n",
    "    title = soup.find('h1').text\n",
    "    d['title'] = title\n",
    "    d['article'] = article.text\n",
    "    return d"
   ]
  },
  {
   "cell_type": "code",
   "execution_count": 10,
   "metadata": {},
   "outputs": [
    {
     "data": {
      "text/plain": [
       "{'title': 'Data Science Myths',\n",
       " 'article': 'By Dimitri Antoniou and Maggie Giust\\nData Science, Big Data, Machine Learning, NLP, Neural Networks…these buzzwords have rapidly spread into mainstream use over the last few years. Unfortunately, definitions are varied and sources of truth are limited. Data Scientists are in fact not magical unicorn wizards who can snap their fingers and turn a business around! Today, we’ll take a cue from our favorite Mythbusters to tackle some common myths and misconceptions in the field of Data Science.\\n\\nvia GIPHY\\nMyth #1: Data Science = Statistics\\nAt first glance, this one doesn’t sound unreasonable. Statistics is defined as, “A branch of mathematics dealing with the collection, analysis, interpretation, and presentation of masses of numerical data.” That sounds a lot like our definition of Data Science: a method of drawing actionable intelligence from data. \\nIn truth, statistics is actually one small piece of Data Science. As our Senior Data Scientist puts it, “Statistics forces us to make assumptions about the nature of the relationship between variables, the distribution of the data, etc.” In the traditional Data Science venn diagram, you’ll see that math/stats make up ⅓ of a working professional. These are tools and skills to leverage, but data science itself is about drawing intelligence from data.\\nBUSTED\\n\\nvia GIPHY\\n\\xa0\\nMyth #2: Data Scientist = Business/Data Analyst\\nThis one is so common that we wrote a whole post about it! These are separate and different roles within the data field. While a data scientist will often do analytics, their spectrum of work is wider. A data analyst will use structured data to create dashboards and KPIs, while a Data Scientist deals with unstructured and messy data for a range of outputs. If they’re interested, business analysts will often progress to data scientists.\\nBUSTED\\n\\nvia GIPHY\\n\\xa0\\nMyth #3: Data Science = Data Science\\nThis one’s tricky, because it’s impossible to either confirm or bust! The ‘myth’ is that one person or company using the term Data Science is not necessarily the same as another person or company using the same term. Depending on organizational capacity, individual experience, educational background, and many other variables, we might be using the same name for different animals.\\nTl;dr: don’t assume a common understanding across hiring managers, recruiters, and practitioners. Look instead for specifics of tools, techniques, methodologies, and outputs. That being said, this one falls in the “plausible” category, because it may actually be true in some circumstances, while false in others.\\nPLAUSIBLE\\n\\nvia GIPHY\\n\\xa0\\nMyth #4: Data Science curricula are well-defined and consistent.\\nWe recommend checking this one out for yourself! A quick google search for bootcamps, master’s degree programs, and online courses will reveal that different organizations teach different things. There is no commonly accepted framework for teaching data science! Some focus more on the engineering, others focus more on machine learning, some think deep learning is foundational, and some prefer to use R. \\nOur curriculum was built through employer interviews, practitioner interviews, market research, and company partnerships. But we’re based in San Antonio! A bootcamp in New York might follow the same process and end up with a different syllabus. Keep in mind, whatever your learning path, that there will be gaps in your learning. The most important thing is to recognize those gaps.\\nBUSTED\\n\\nvia GIPHY\\n\\xa0\\nMyth #5: If I want to be a data scientist, I just need to learn Python or R.\\nThis one is common and dangerous! Just like statistics, programming languages like Python and R are tools. They’re just pieces of a larger puzzle! Knowing Python without understanding the data science pipeline is like knowing how to build a floor without having a floor plan. Of course, these are valuable technical skills that give you a leg up, but they’re second in importance to asking the right questions, knowing what tools to use when, and communicating your findings.\\nBUSTED\\n\\nvia GIPHY\\nStill have questions? Reach out to us! We’re always here to help.\\n\\n'}"
      ]
     },
     "execution_count": 10,
     "metadata": {},
     "output_type": "execute_result"
    }
   ],
   "source": [
    "get_article_myths()"
   ]
  },
  {
   "cell_type": "code",
   "execution_count": 13,
   "metadata": {},
   "outputs": [],
   "source": [
    "def get_article_diff():\n",
    "    d = {}\n",
    "    url = 'https://codeup.com/data-science-vs-data-analytics-whats-the-difference/'\n",
    "    headers = {'User-Agent': 'Codeup Data Science'}\n",
    "    response = get(url, headers=headers)\n",
    "    soup = BeautifulSoup(response.text)\n",
    "    article = soup.find('div', class_='jupiterx-post-content')\n",
    "    title = soup.find('h1').text\n",
    "    d['title'] = title\n",
    "    d['article'] = article.text\n",
    "    return d"
   ]
  },
  {
   "cell_type": "code",
   "execution_count": 14,
   "metadata": {},
   "outputs": [
    {
     "data": {
      "text/plain": [
       "{'title': 'Data Science VS Data Analytics: What’s The Difference?',\n",
       " 'article': 'By Dimitri Antoniou\\nA week ago, Codeup launched our immersive Data Science career accelerator! With our first-class kicking off in February and only 25 seats available, we’ve been answering a lot of questions from prospective students. One, in particular, has come up so many times we decided to dedicate a blog post to it. What is the difference between data science and data analytics?\\nFirst, let’s define some of our terms! Take a look at this blog to understand what Data Science is. In short, it is a method of turning raw data into action, leading to the desired outcome. Big Data refers to data sets that are large and complex, usually exceeding the capacity of computers and normal processing power to deal with. Machine Learning is the process of ‘learning’ underlying patterns of data in order to automate the extraction of intelligence from that data.\\n\\xa0\\n\\xa0\\nNow, let’s look at the data pipeline that data scientists work through to reach the actionable insights and outcomes we mentioned:\\n\\nWe start by collecting data, which may come from social media channels, network logs, financials, employee records, or more.\\nWe then process that data into usable information stored in databases or streamed.\\nNext, we look back on the history of that data to summarize, describe, and explain, turning the data into meaningful knowledge. Here we’re primarily using mathematics, statistics, and visualization methods.\\nNow we convert that knowledge into intelligence, seeking to predict future events so that we can make decisions in the present. This is where practitioners will introduce mathematical/statistical modeling through machine learning to their data.\\nFinally, we enable action by building automations, running tests, building visualizations, monitoring new data, etc.\\n\\nData professionals work at different stages of the spectrum to move data through the pipeline. On the left, Big Data Engineers specialize in collecting, storing, and processing data, getting it from Data to Information. In the middle, analysts work to understand and convert that information to knowledge. Lastly, a Machine Learning Engineer utilizes machine learning algorithms to turn intelligence into action by building automations, visualizations, recommendations, and predictions.\\nData Scientists span multiple stages of this pipeline, from information to action. They will spend about 70% of their time wrangling data in the information stage. They will conduct a statistical analysis to derive knowledge. Lastly, they predict future events and build automations using machine learning.\\nFor those technical folk out there, data science is to data engineering or machine learning engineering as full-stack development is to front-end or back-end development. For the non-technical folk, data science is the umbrella term that houses data analytics, machine learning, and other data professions.\\nSo what’s the biggest difference between a data analyst and a data scientist? Data scientists utilize computer programming and machine learning in addition to mathematics and statistics. \\nStill have questions? Reach out to us.\\xa0Wondering which of Codeup’s programs is right for you? We’ve got you covered. And of course, if data science gets you excited, get started with us today!\\n\\n'}"
      ]
     },
     "execution_count": 14,
     "metadata": {},
     "output_type": "execute_result"
    }
   ],
   "source": [
    "get_article_diff()"
   ]
  },
  {
   "cell_type": "code",
   "execution_count": 18,
   "metadata": {},
   "outputs": [],
   "source": [
    "def get_article_fair():\n",
    "    d = {}\n",
    "    url = 'https://codeup.com/10-tips-to-crush-it-at-the-sa-tech-job-fair/'\n",
    "    headers = {'User-Agent': 'Codeup Data Science'}\n",
    "    response = get(url, headers=headers)\n",
    "    soup = BeautifulSoup(response.text)\n",
    "    article = soup.find('div', class_='jupiterx-post-content')\n",
    "    title = soup.find('h1').text\n",
    "    d['title'] = title\n",
    "    d['article'] = article.text\n",
    "    return d"
   ]
  },
  {
   "cell_type": "code",
   "execution_count": 16,
   "metadata": {},
   "outputs": [
    {
     "data": {
      "text/plain": [
       "{'title': '10 Tips to Crush It at the SA Tech Job Fair',\n",
       " 'article': 'SA Tech Job Fair\\nThe third bi-annual San Antonio Tech Job Fair is just around the corner. Over 25 companies will be at The Jack Guenther Pavilion\\xa0on April 10th, and they are hungry for new tech team members!\\nAt the job fair, companies want to quickly source a list of new talent leads. AKA they need to find qualified employees they can begin interviewing for jobs. Recruiters will represent their organization at tables with informational handouts and company swag. Your goal at a job fair is to set yourself apart from other candidates and ensure your name makes it to the top of those lead lists.\\nThink of your interaction with the company as a mini screening interview. The company rep will subtly evaluate basic qualities like your professionalism, communication and interpersonal skills, work experience, and interest level in the organization. Job fairs are also an opportunity for you to gain information about companies that may not be easily accessible online. \\xa0\\nAt Codeup, we’re passionate about bridging the gap between talent and demand, so we’ve outlined 10 tips to ensure you bring your A-game and leave a lasting impression!\\n10 Tips for Totally Crushing it at the SA Tech Job Fair\\n\\nUse keywords to describe your skills, but don’t go overboard. You’ll probably be talking to a recruiter or talent acquisition specialist. As a technical candidate, recognize these individuals usually aren’t developers or network administrators. They know terms like “JavaScript” and “Apache,” but haven’t written a line of code or spun up a server, so don’t get too caught up in industry jargon.\\nResearch the companies ahead of time. Review the list of attending companies and make sure you know what the company does and whether or not they hire people in your desired role. Look up recent news on the company and mention it during your conversation.\\nDefine your own goals for the job fair. Are you searching for a specific type of role or company culture? What matters most in your job search? Are there companies you want to prioritize? \\xa0Develop a game plan and be intentional with your time.\\nPrepare a stellar résumé. Bring about 20 copies of your résumé to the event, printed on nice paper. We won’t cover resume writing in this post, but there are a plethora of online resources you can consult. For job fairs, don’t worry about cover letters.\\nPolish your online profiles. If recruiters have a copy of your resume, you can be sure they will stalk you online soon. Make sure your online presence is professional and appropriate. A good place to start is by Googling yourself. Update your LinkedIn, and clean up any social media profiles.\\nCraft a 30-60 second elevator pitch. You may only have a few minutes with an employer. What will you say if they ask, “Tell me about yourself?” Consider structuring your pitch like this: Who you are + What you do + What your goals are + Why that matters to the company.\\nDon’t show up in a t-shirt, but trade in your suit for something more chill. Always keep it professional, but remember: tech is typically more casual than other industries. You’ll likely feel out of place if you look like you belong on Wall St., so refer to this guide on dressing for tech interviews.\\nDon’t forget the basics. Start and end each conversation with a firm handshake. Make eye contact while conversing. Smile! Thank the recruiter before you move on to the next table.\\nAsk educated questions. Don’t waste valuable face time with recruiters by asking questions like, “What does [Insert Company here] do?” They hate that question! Instead, try some of these:\\n\\nWhat are the top 3-5 examples of knowledge, skills, and abilities you look for in candidates?\\nWhat’s the best advice you have for someone who wants to work here?\\nWhat is your interview process like?\\nAre you hiring for any roles not currently listed on your websites?\\n\\n\\nFollow up. Collect business cards from each table. The next day, send a short note expressing your interest in the company’s opportunities and thanking the recruiter for his or her time.\\n\\nRSVP for the SA Tech Job Fair taking place at the Jack Guenther Pavilion – September 18th starting at 4 pm.\\xa0\\n\\n'}"
      ]
     },
     "execution_count": 16,
     "metadata": {},
     "output_type": "execute_result"
    }
   ],
   "source": [
    "get_article_fair()"
   ]
  },
  {
   "cell_type": "code",
   "execution_count": 19,
   "metadata": {},
   "outputs": [],
   "source": [
    "def get_article_comp():\n",
    "    d = {}\n",
    "    url = 'https://codeup.com/competitor-bootcamps-are-closing-is-the-model-in-danger/'\n",
    "    headers = {'User-Agent': 'Codeup Data Science'}\n",
    "    response = get(url, headers=headers)\n",
    "    soup = BeautifulSoup(response.text)\n",
    "    article = soup.find('div', class_='jupiterx-post-content')\n",
    "    title = soup.find('h1').text\n",
    "    d['title'] = title\n",
    "    d['article'] = article.text\n",
    "    return d"
   ]
  },
  {
   "cell_type": "code",
   "execution_count": 20,
   "metadata": {},
   "outputs": [
    {
     "data": {
      "text/plain": [
       "{'title': 'Competitor Bootcamps Are Closing. Is the Model in Danger?',\n",
       " 'article': 'Competitor Bootcamps Are Closing. Is the Model in Danger?\\n\\xa0\\n\\nIs the programming bootcamp model in danger?\\nIn recent news, DevBootcamp and The Iron Yard announced that they are closing their doors. This is big news. DevBootcamp was the first programming bootcamp model and The Iron Yard is a national player with 15 campuses across the U.S. In both cases, the companies cited an unsustainable business model. Does that mean the boot-camp model is dead?\\n\\ntl;dr “Nope!”\\nBootcamps exist because traditional education models have failed to provide students job-ready skills for the 21st century. Students demand better employment options from their education. Employers demand skilled and job ready candidates. Big Education’s failure to meet those needs through traditional methods created the fertile ground for the new business model of the programming bootcamp.\\nEducation giant Kaplan and Apollo Education Group (owner of University of Phoenix) bought their way into this new educational model when they purchased The Iron Yard and DevBootcamp. They purchased their competition with the intent to scale up the model. Unfortunately, Big Education is too habituated to coming up short for students. They bought the upstarts that challenged them, tried making changes to run those bootcamps in the “Big Education” way, and, sadly, they’ve closed the doors when they realized that scaling education is more challenging when student outcomes truly matter.\\nThe bootcamp model is still new and there will be plenty consolidation, competition, and changes in the future. This model is based on actually being adaptive, innovative, and sustainable. And there’s always room for innovation.\\n\\n\\nWhat we’ve learned at Codeup…\\n\\n\\nEducation is challenging to scale.\\nPrioritizing quality over growth pays off.\\n\\nWhat we’re doing at Codeup…\\n\\nHigher standards in our application process are leading to better student outcomes.\\nOur reputation and commitment to quality is opening new doors to previously uninterested/unreachable employers.\\nIn the beginning, the majority of Codeup graduates went to work with startups and small businesses. We’re now seeing a larger amount of our graduates place at medium to large sized businesses.\\nDemand is growing and employers are learning that the results are in the graduates.\\nCodeup’s model is sustainable, inclusive, and works.\\n\\nCall or contact us today to see how Codeup’s commitment to quality and approach to being a career accelerator can make a profound difference in your life.\\n\\n'}"
      ]
     },
     "execution_count": 20,
     "metadata": {},
     "output_type": "execute_result"
    }
   ],
   "source": [
    "get_article_comp()"
   ]
  },
  {
   "cell_type": "code",
   "execution_count": 53,
   "metadata": {},
   "outputs": [],
   "source": [
    "def get_all_blogs():\n",
    "    urls = ['https://codeup.com/codeups-data-science-career-accelerator-is-here/', \n",
    "            'https://codeup.com/data-science-myths/',\n",
    "            'https://codeup.com/data-science-vs-data-analytics-whats-the-difference/',\n",
    "            'https://codeup.com/10-tips-to-crush-it-at-the-sa-tech-job-fair/',\n",
    "            'https://codeup.com/competitor-bootcamps-are-closing-is-the-model-in-danger/']\n",
    "    l = []\n",
    "    for url in urls:\n",
    "        d = {}\n",
    "        headers = {'User-Agent': 'Codeup Data Science'}\n",
    "        response = get(url, headers=headers)\n",
    "        soup = BeautifulSoup(response.text)\n",
    "        article = soup.find('div', class_='jupiterx-post-content')\n",
    "        title = soup.find('h1').text\n",
    "        d['title'] = title\n",
    "        d['article'] = article.text\n",
    "        l.append(d)\n",
    "    return l"
   ]
  },
  {
   "cell_type": "code",
   "execution_count": 54,
   "metadata": {},
   "outputs": [
    {
     "data": {
      "text/plain": [
       "[{'title': 'Codeup’s Data Science Career Accelerator is Here!',\n",
       "  'article': 'The rumors are true! The time has arrived. Codeup has officially opened applications to our new Data Science career accelerator, with only 25 seats available! This immersive program is one of a kind in San Antonio, and will help you land a job in\\xa0Glassdoor’s #1 Best Job in America.\\nData Science is a method of providing actionable intelligence from data.\\xa0The data revolution has hit San Antonio,\\xa0resulting in an explosion in Data Scientist positions\\xa0across companies like USAA, Accenture, Booz Allen Hamilton, and HEB. We’ve even seen\\xa0UTSA invest $70 M for a Cybersecurity Center and School of Data Science.\\xa0We built a program to specifically meet the growing demands of this industry.\\nOur program will be 18 weeks long, full-time, hands-on, and project-based. Our curriculum development and instruction is led by Senior Data Scientist, Maggie Giust, who has worked at HEB, Capital Group, and Rackspace, along with input from dozens of practitioners and hiring partners. Students will work with real data sets, realistic problems, and the entire data science pipeline from collection to deployment. They will receive professional development training in resume writing, interviewing, and continuing education to prepare for a smooth transition to the workforce.\\nWe focus on applied data science for immediate impact and ROI in a business, which is how we can back it all up with a 6 month tuition refund guarantee – just like our existing Web Dev program. We’re focusing on Data Science with Python, SQL, and ML, covered in\\xa014 modules: 1) Fundamentals; 2) Applied statistics; 3) SQL; 4) Python; 5) Supervised machine learning – regression; 6) Supervised machine learning – classification; 7) Unsupervised machine learning – clustering; 8) Time series analysis; 9) Anomaly detection; 10) Natural language processing; 11) Distributed machine learning; 12) Advanced topics (deep learning, NoSQL, cloud deployment, etc.); 13) Storytelling with data; and 14) Domain expertise development.\\nApplications are now open\\xa0for Codeup’s first Data Science cohort, which will start class on February 4, 2019. Hurry – there are only 25 seats available! To further our mission of cultivating inclusive growth, scholarships will be available to women, minorities, LGBTQIA+ individuals, veterans, first responders, and people relocating to San Antonio.\\nIf you want to learn about joining our program or hiring our graduates, email datascience@codeup.com!\\n\\n'},\n",
       " {'title': 'Data Science Myths',\n",
       "  'article': 'By Dimitri Antoniou and Maggie Giust\\nData Science, Big Data, Machine Learning, NLP, Neural Networks…these buzzwords have rapidly spread into mainstream use over the last few years. Unfortunately, definitions are varied and sources of truth are limited. Data Scientists are in fact not magical unicorn wizards who can snap their fingers and turn a business around! Today, we’ll take a cue from our favorite Mythbusters to tackle some common myths and misconceptions in the field of Data Science.\\n\\nvia GIPHY\\nMyth #1: Data Science = Statistics\\nAt first glance, this one doesn’t sound unreasonable. Statistics is defined as, “A branch of mathematics dealing with the collection, analysis, interpretation, and presentation of masses of numerical data.” That sounds a lot like our definition of Data Science: a method of drawing actionable intelligence from data. \\nIn truth, statistics is actually one small piece of Data Science. As our Senior Data Scientist puts it, “Statistics forces us to make assumptions about the nature of the relationship between variables, the distribution of the data, etc.” In the traditional Data Science venn diagram, you’ll see that math/stats make up ⅓ of a working professional. These are tools and skills to leverage, but data science itself is about drawing intelligence from data.\\nBUSTED\\n\\nvia GIPHY\\n\\xa0\\nMyth #2: Data Scientist = Business/Data Analyst\\nThis one is so common that we wrote a whole post about it! These are separate and different roles within the data field. While a data scientist will often do analytics, their spectrum of work is wider. A data analyst will use structured data to create dashboards and KPIs, while a Data Scientist deals with unstructured and messy data for a range of outputs. If they’re interested, business analysts will often progress to data scientists.\\nBUSTED\\n\\nvia GIPHY\\n\\xa0\\nMyth #3: Data Science = Data Science\\nThis one’s tricky, because it’s impossible to either confirm or bust! The ‘myth’ is that one person or company using the term Data Science is not necessarily the same as another person or company using the same term. Depending on organizational capacity, individual experience, educational background, and many other variables, we might be using the same name for different animals.\\nTl;dr: don’t assume a common understanding across hiring managers, recruiters, and practitioners. Look instead for specifics of tools, techniques, methodologies, and outputs. That being said, this one falls in the “plausible” category, because it may actually be true in some circumstances, while false in others.\\nPLAUSIBLE\\n\\nvia GIPHY\\n\\xa0\\nMyth #4: Data Science curricula are well-defined and consistent.\\nWe recommend checking this one out for yourself! A quick google search for bootcamps, master’s degree programs, and online courses will reveal that different organizations teach different things. There is no commonly accepted framework for teaching data science! Some focus more on the engineering, others focus more on machine learning, some think deep learning is foundational, and some prefer to use R. \\nOur curriculum was built through employer interviews, practitioner interviews, market research, and company partnerships. But we’re based in San Antonio! A bootcamp in New York might follow the same process and end up with a different syllabus. Keep in mind, whatever your learning path, that there will be gaps in your learning. The most important thing is to recognize those gaps.\\nBUSTED\\n\\nvia GIPHY\\n\\xa0\\nMyth #5: If I want to be a data scientist, I just need to learn Python or R.\\nThis one is common and dangerous! Just like statistics, programming languages like Python and R are tools. They’re just pieces of a larger puzzle! Knowing Python without understanding the data science pipeline is like knowing how to build a floor without having a floor plan. Of course, these are valuable technical skills that give you a leg up, but they’re second in importance to asking the right questions, knowing what tools to use when, and communicating your findings.\\nBUSTED\\n\\nvia GIPHY\\nStill have questions? Reach out to us! We’re always here to help.\\n\\n'},\n",
       " {'title': 'Data Science VS Data Analytics: What’s The Difference?',\n",
       "  'article': 'By Dimitri Antoniou\\nA week ago, Codeup launched our immersive Data Science career accelerator! With our first-class kicking off in February and only 25 seats available, we’ve been answering a lot of questions from prospective students. One, in particular, has come up so many times we decided to dedicate a blog post to it. What is the difference between data science and data analytics?\\nFirst, let’s define some of our terms! Take a look at this blog to understand what Data Science is. In short, it is a method of turning raw data into action, leading to the desired outcome. Big Data refers to data sets that are large and complex, usually exceeding the capacity of computers and normal processing power to deal with. Machine Learning is the process of ‘learning’ underlying patterns of data in order to automate the extraction of intelligence from that data.\\n\\xa0\\n\\xa0\\nNow, let’s look at the data pipeline that data scientists work through to reach the actionable insights and outcomes we mentioned:\\n\\nWe start by collecting data, which may come from social media channels, network logs, financials, employee records, or more.\\nWe then process that data into usable information stored in databases or streamed.\\nNext, we look back on the history of that data to summarize, describe, and explain, turning the data into meaningful knowledge. Here we’re primarily using mathematics, statistics, and visualization methods.\\nNow we convert that knowledge into intelligence, seeking to predict future events so that we can make decisions in the present. This is where practitioners will introduce mathematical/statistical modeling through machine learning to their data.\\nFinally, we enable action by building automations, running tests, building visualizations, monitoring new data, etc.\\n\\nData professionals work at different stages of the spectrum to move data through the pipeline. On the left, Big Data Engineers specialize in collecting, storing, and processing data, getting it from Data to Information. In the middle, analysts work to understand and convert that information to knowledge. Lastly, a Machine Learning Engineer utilizes machine learning algorithms to turn intelligence into action by building automations, visualizations, recommendations, and predictions.\\nData Scientists span multiple stages of this pipeline, from information to action. They will spend about 70% of their time wrangling data in the information stage. They will conduct a statistical analysis to derive knowledge. Lastly, they predict future events and build automations using machine learning.\\nFor those technical folk out there, data science is to data engineering or machine learning engineering as full-stack development is to front-end or back-end development. For the non-technical folk, data science is the umbrella term that houses data analytics, machine learning, and other data professions.\\nSo what’s the biggest difference between a data analyst and a data scientist? Data scientists utilize computer programming and machine learning in addition to mathematics and statistics. \\nStill have questions? Reach out to us.\\xa0Wondering which of Codeup’s programs is right for you? We’ve got you covered. And of course, if data science gets you excited, get started with us today!\\n\\n'},\n",
       " {'title': '10 Tips to Crush It at the SA Tech Job Fair',\n",
       "  'article': 'SA Tech Job Fair\\nThe third bi-annual San Antonio Tech Job Fair is just around the corner. Over 25 companies will be at The Jack Guenther Pavilion\\xa0on April 10th, and they are hungry for new tech team members!\\nAt the job fair, companies want to quickly source a list of new talent leads. AKA they need to find qualified employees they can begin interviewing for jobs. Recruiters will represent their organization at tables with informational handouts and company swag. Your goal at a job fair is to set yourself apart from other candidates and ensure your name makes it to the top of those lead lists.\\nThink of your interaction with the company as a mini screening interview. The company rep will subtly evaluate basic qualities like your professionalism, communication and interpersonal skills, work experience, and interest level in the organization. Job fairs are also an opportunity for you to gain information about companies that may not be easily accessible online. \\xa0\\nAt Codeup, we’re passionate about bridging the gap between talent and demand, so we’ve outlined 10 tips to ensure you bring your A-game and leave a lasting impression!\\n10 Tips for Totally Crushing it at the SA Tech Job Fair\\n\\nUse keywords to describe your skills, but don’t go overboard. You’ll probably be talking to a recruiter or talent acquisition specialist. As a technical candidate, recognize these individuals usually aren’t developers or network administrators. They know terms like “JavaScript” and “Apache,” but haven’t written a line of code or spun up a server, so don’t get too caught up in industry jargon.\\nResearch the companies ahead of time. Review the list of attending companies and make sure you know what the company does and whether or not they hire people in your desired role. Look up recent news on the company and mention it during your conversation.\\nDefine your own goals for the job fair. Are you searching for a specific type of role or company culture? What matters most in your job search? Are there companies you want to prioritize? \\xa0Develop a game plan and be intentional with your time.\\nPrepare a stellar résumé. Bring about 20 copies of your résumé to the event, printed on nice paper. We won’t cover resume writing in this post, but there are a plethora of online resources you can consult. For job fairs, don’t worry about cover letters.\\nPolish your online profiles. If recruiters have a copy of your resume, you can be sure they will stalk you online soon. Make sure your online presence is professional and appropriate. A good place to start is by Googling yourself. Update your LinkedIn, and clean up any social media profiles.\\nCraft a 30-60 second elevator pitch. You may only have a few minutes with an employer. What will you say if they ask, “Tell me about yourself?” Consider structuring your pitch like this: Who you are + What you do + What your goals are + Why that matters to the company.\\nDon’t show up in a t-shirt, but trade in your suit for something more chill. Always keep it professional, but remember: tech is typically more casual than other industries. You’ll likely feel out of place if you look like you belong on Wall St., so refer to this guide on dressing for tech interviews.\\nDon’t forget the basics. Start and end each conversation with a firm handshake. Make eye contact while conversing. Smile! Thank the recruiter before you move on to the next table.\\nAsk educated questions. Don’t waste valuable face time with recruiters by asking questions like, “What does [Insert Company here] do?” They hate that question! Instead, try some of these:\\n\\nWhat are the top 3-5 examples of knowledge, skills, and abilities you look for in candidates?\\nWhat’s the best advice you have for someone who wants to work here?\\nWhat is your interview process like?\\nAre you hiring for any roles not currently listed on your websites?\\n\\n\\nFollow up. Collect business cards from each table. The next day, send a short note expressing your interest in the company’s opportunities and thanking the recruiter for his or her time.\\n\\nRSVP for the SA Tech Job Fair taking place at the Jack Guenther Pavilion – September 18th starting at 4 pm.\\xa0\\n\\n'},\n",
       " {'title': 'Competitor Bootcamps Are Closing. Is the Model in Danger?',\n",
       "  'article': 'Competitor Bootcamps Are Closing. Is the Model in Danger?\\n\\xa0\\n\\nIs the programming bootcamp model in danger?\\nIn recent news, DevBootcamp and The Iron Yard announced that they are closing their doors. This is big news. DevBootcamp was the first programming bootcamp model and The Iron Yard is a national player with 15 campuses across the U.S. In both cases, the companies cited an unsustainable business model. Does that mean the boot-camp model is dead?\\n\\ntl;dr “Nope!”\\nBootcamps exist because traditional education models have failed to provide students job-ready skills for the 21st century. Students demand better employment options from their education. Employers demand skilled and job ready candidates. Big Education’s failure to meet those needs through traditional methods created the fertile ground for the new business model of the programming bootcamp.\\nEducation giant Kaplan and Apollo Education Group (owner of University of Phoenix) bought their way into this new educational model when they purchased The Iron Yard and DevBootcamp. They purchased their competition with the intent to scale up the model. Unfortunately, Big Education is too habituated to coming up short for students. They bought the upstarts that challenged them, tried making changes to run those bootcamps in the “Big Education” way, and, sadly, they’ve closed the doors when they realized that scaling education is more challenging when student outcomes truly matter.\\nThe bootcamp model is still new and there will be plenty consolidation, competition, and changes in the future. This model is based on actually being adaptive, innovative, and sustainable. And there’s always room for innovation.\\n\\n\\nWhat we’ve learned at Codeup…\\n\\n\\nEducation is challenging to scale.\\nPrioritizing quality over growth pays off.\\n\\nWhat we’re doing at Codeup…\\n\\nHigher standards in our application process are leading to better student outcomes.\\nOur reputation and commitment to quality is opening new doors to previously uninterested/unreachable employers.\\nIn the beginning, the majority of Codeup graduates went to work with startups and small businesses. We’re now seeing a larger amount of our graduates place at medium to large sized businesses.\\nDemand is growing and employers are learning that the results are in the graduates.\\nCodeup’s model is sustainable, inclusive, and works.\\n\\nCall or contact us today to see how Codeup’s commitment to quality and approach to being a career accelerator can make a profound difference in your life.\\n\\n'}]"
      ]
     },
     "execution_count": 54,
     "metadata": {},
     "output_type": "execute_result"
    }
   ],
   "source": [
    "get_all_blogs()"
   ]
  },
  {
   "cell_type": "markdown",
   "metadata": {},
   "source": [
    "## 2. News Articles"
   ]
  },
  {
   "cell_type": "markdown",
   "metadata": {},
   "source": [
    "### We will now be scraping text data from inshorts, a website that provides a brief overview of many different topics.\n",
    "\n",
    "### Write a function that scrapes the news articles for the following topics:"
   ]
  },
  {
   "cell_type": "markdown",
   "metadata": {},
   "source": [
    "* Business\n",
    "* Sports\n",
    "* Technology\n",
    "* Entertainment"
   ]
  },
  {
   "cell_type": "markdown",
   "metadata": {},
   "source": [
    "### The end product of this should be a function named get_news_articles that returns a list of dictionaries, where each dictionary has this shape:  \n",
    "{  \n",
    "    'title': 'The article title',  \n",
    "    'content': 'The article content',  \n",
    "    'category': 'business' # for example  \n",
    "}"
   ]
  },
  {
   "cell_type": "code",
   "execution_count": 24,
   "metadata": {},
   "outputs": [
    {
     "data": {
      "text/plain": [
       "[\"Should I be amused or horrified: Mahindra on 'ladkewale', 'ladkiwale' masks\",\n",
       " 'PM visits Zydus facility in Gujarat as part of 3-city vaccine tour',\n",
       " 'Trial volunteer falsely laying blame on us, will seek ₹100 cr in damages: SII',\n",
       " \"Which are world's most expensive cities to live in during COVID-19 pandemic?\",\n",
       " \"Lufthansa airline trials 'Sleeper's Row' concept in economy class\",\n",
       " \"Wife's ₹4,300cr Infosys stake not declared by Sunak in official register: Report\",\n",
       " \"World's strictest corporate responsibility plan rejected in Switzerland vote\",\n",
       " \"Singapore's DBS Group completes takeover of Lakshmi Vilas Bank\",\n",
       " 'NDTV founders Prannoy and Radhika Roy barred from securities market for 2 yrs',\n",
       " \"Hope US won't erect barriers to cooperation: China on blacklist report\",\n",
       " \"Ant Group's IPO may not be revived before 2022: Report\",\n",
       " 'Tokyo Stock Exchange CEO to resign over outage that halted trading for a day',\n",
       " 'Case for immediate rollout of 5G in India compelling: Qualcomm',\n",
       " 'US to add Chinese chipmaker SMIC to defence blacklist: Reports',\n",
       " 'Reliance confirms acquisition of minority stake in Zivame',\n",
       " \"Hyundai, Kia agree to $210M US penalty for delay in vehicles' recall\",\n",
       " 'CAIT accuses e-comm firms of violating FDI norms in letter to PM Modi',\n",
       " \"Elon Musk's Tesla becomes 6th largest US company\",\n",
       " 'Burger King IPO to open on Dec 2, share price band set at ₹59-60',\n",
       " 'S&P Global in advanced talks to buy IHS Markit for $44 bn: Report',\n",
       " 'Singapore, US lead FDI inflows; software sector receives the most',\n",
       " 'HSBC considers complete exit from US retail banking: Report',\n",
       " 'IRDAI gives in-principle approval to Bharti AXA-ICICI Lombard merger',\n",
       " 'Baba Ramdev to be on board of Ruchi Soya, brother to be MD',\n",
       " 'Haryana farmer earns ₹50L profit selling stubble, PM Modi mentions him']"
      ]
     },
     "execution_count": 24,
     "metadata": {},
     "output_type": "execute_result"
    }
   ],
   "source": [
    "url = 'https://inshorts.com/en/read/business'\n",
    "response = get(url)\n",
    "soup = BeautifulSoup(response.text)\n",
    "cards = soup.find_all('div', class_='news-card')\n",
    "titles = []\n",
    "for card in cards:\n",
    "    title = (card.find('span', itemprop='headline').text)\n",
    "    titles.append(title)\n",
    "titles"
   ]
  },
  {
   "cell_type": "code",
   "execution_count": 25,
   "metadata": {},
   "outputs": [],
   "source": [
    "body_texts = []\n",
    "for card in cards:\n",
    "    body = (card.find('div', itemprop='articleBody').text)\n",
    "    body_texts.append(body)"
   ]
  },
  {
   "cell_type": "code",
   "execution_count": 26,
   "metadata": {
    "scrolled": true
   },
   "outputs": [
    {
     "data": {
      "text/plain": [
       "['Anand Mahindra, Chairman of the Mahindra Group, shared a picture of masks for weddings with \\'ladkewale\\' and \\'ladkiwale\\' written on them. \"I don\\'t know whether to be amused or horrified. Sach mein, ye masks ne meri bolti band kar di (Really, these masks have left me speechless),\" he wrote with the picture.',\n",
       " \"Prime Minister Narendra Modi visited drugmaker Zydus Cadila's facility in Gujarat's Ahmedabad as part of his three-city tour to review COVID-19 vaccine development efforts on Saturday. Zydus commenced Phase 2 clinical trials of its vaccine candidate in August. PM Modi will also visit Covaxin developer Bharat Biotech's facility in Hyderabad and Serum Institute of India in Pune.\\n\",\n",
       " 'Serum Institute of India (SII) has said it will countersue the man who took part in Covishield vaccine trial and demanded ₹5 crore in damages alleging serious side effects. \"He\\'s falsely laying blame for his medical problems on trial,\" the SII said in a statement. \"We\\'ll seek over ₹100 crore in damages and will defend such malicious claims,\" SII added.',\n",
       " 'According to The Economist Intelligence Unit, COVID-19 pandemic has changed the cost of living in about 130 cities around the world. In 2020, Hong Kong remained the most expensive city to live in, but was joined by Zurich and Paris on the top spot. Singapore dropped to the 4th spot, followed by Tel Aviv and Osaka sharing the 5th spot.',\n",
       " 'Lufthansa airline has said it\\'ll make available on the Frankfurt-São Paulo route its \"newest product\", the \\'Sleeper\\'s Row\\', during a trial period. \"Passengers flying in economy class will have the option to book an adjacent row of seats – from 3 to 4 seats – to lie down comfortably and have a good night of sleep while flying,\" it said.',\n",
       " \"UK Finance Minister Rishi Sunak did not declare the ₹4,300-crore stake in Infosys held by his wife Akshata Murthy, the daughter of Narayana Murthy, in the official register of ministers' interests, The Guardian reported. Sunak is required to declare his family's financial interests which could conflict with his public duty. Infosys has held contracts with government ministries, The Guardian added.\",\n",
       " \"A plan in Switzerland to impose the world's strictest corporate responsibility rules failed to pass in a vote. It would've amended the Swiss constitution and forced Swiss-headquartered MNCs to ensure they and their suppliers respected strict human rights and environmental protection standards. Some 50.7% voters backed the initiative, according to results published by ATS national news agency.\",\n",
       " 'Singapore’s DBS Group on Monday said it has completed its takeover of Lakshmi Vilas Bank (LVB), helping it expand from over 30 branches in India to having more than 550 now. DBS confirmed it would continue to employ around 4,000 LVB staff. Rebranding of LVB branches has begun and ATM screens have also been reconfigured to reflect DBS’s logo.',\n",
       " 'Markets regulator SEBI has barred NDTV founders Prannoy Roy and Radhika Roy from the securities market for two years. They have also been directed to return the illegal gains of more than ₹16.97 crore for indulging in insider trading more than 12 years ago. SEBI has barred former group CEO Vikramaditya Chandra from accessing securities market for one year.',\n",
       " \"China, in response to reports of US adding Chinese chipmaker SMIC and national offshore oil producer CNOOC to a defence blacklist, said that it hoped US will not erect barriers and obstacles to cooperation. Reuters reported that President Donald Trump's administration is poised to add SMIC and CNOOC to a list of companies allegedly owned or controlled by Chinese military.\",\n",
       " \"Jack Ma-owned Ant Group's initial public offering (IPO) may not be revived before 2022 as the company is still in the early stages of reviewing changes needed to appease the regulators, officials told Bloomberg. There's so much work needed and some rules are not yet spelled out, they added. Ant's $35-billion IPO was poised to become the largest IPO ever.\",\n",
       " \"Tokyo Stock Exchange (TSE) President and CEO Koichiro Miyahara will step down to accept responsibility over a system failure last month that resulted in the first all-day stoppage of trading since the exchange switched to all-electronic trading in 1999. Akira Kiyota, the Group CEO of Japan Exchange Group that runs the TSE, will temporarily take over Miyahara's role.\",\n",
       " 'Qualcomm India and SAARC President Rajen Vagadia said the case for the immediate rollout of 5G in India is \"compelling\" and \"it\\'s no longer a choice, but a prerequisite for the country’s growth and development\". He added that the government can trigger growth of the telecom space by releasing spectrum, including 5G, in adequate quantity and at affordable prices.',\n",
       " \"President Donald Trump's administration is set to add Chinese chipmaker SMIC and state-owned offshore oil and gas producer CNOOC to its defence blacklist of companies it alleges are owned or controlled by Chinese military. Two other companies have also been added to the list, bringing the count to 35. SMIC responded saying it is not associated with the Chinese military. \",\n",
       " \"Reliance Industries (RIL), in an exchange filing, has listed Zivame as an associate company, which is defined as one in which a director, sponsor or venture capital fund holds equity in excess of 15%. Earlier, reports emerged stating Ronnie Screwvala's Unilazer Ventures had sold its 15% stake in Zivame to Reliance. RIL was also reportedly looking to acquire Zivame wholly.\",\n",
       " 'Hyundai and Kia Motors have agreed to $140 million and $70 million civil penalties, respectively, after US auto safety regulators said they delayed recall of 1.6 million vehicles for engine issues. The settlement covers recall in 2015 and 2017 for manufacturing issues. Kia denied the allegations but agreed to settle the matter to \"avoid a protracted dispute with the government\".',\n",
       " 'The Confederation of All India Traders, in a letter to Prime Minister Narendra Modi, accused e-commerce companies of \"monopolising the...retail trade of India with their malpractices and violating FDI policy\". It added that it\\'s \"most unfortunate\" that \"various government authorities have failed to protect the sanctity of the policy\" and demanded an e-commerce policy to be announced immediately.',\n",
       " \"Elon Musk's electric car company Tesla has become the sixth-largest company in the US by market capitalisation hitting the $555.24 billion mark and surpassing Warren Buffett’s Berkshire Hathaway. Tesla now trails Apple followed by Microsoft, Amazon, Alphabet and Facebook. Tesla's value is greater than Toyota ($23.66 billion), Ford ($35.52 billion), and General Motors ($64.49 billion) combined.\",\n",
       " \"US-based Burger King's Indian subsidiary is set to come out with its initial public offering (IPO) on December 2, with the price band fixed at ₹59-60 per share. The issue size for the IPO is ₹810 crore, of which fresh issues comprise ₹450 crore. The last date for subscription in the IPO is December 4.\",\n",
       " 'S&P Global is in advanced talks to acquire London-based data provider IHS Markit in a deal worth roughly $44 billion, reported the Wall Street Journal. The deal, which at that price would reportedly be the largest this year, could be announced by Monday. S&P Global is valued at about $82 billion, while IHS Markit is worth about $37 billion.',\n",
       " \"Singapore with ₹62,084 crore and US with ₹53,266 crore have been the biggest contributors towards FDI inflows to India between April and September 2020, according to government data. In this fiscal's second quarter, India has received over ₹2 lakh crore worth FDI inflows. The software and hardware sector has received the most, at ₹1.31 lakh crore between April and September.\",\n",
       " 'British multinational investment bank HSBC Holdings is considering a complete exit from retail banking in the US, to help its struggling North America business, Financial Times reported. The bank’s senior management might reportedly present the plan to the board in the coming weeks. The bank earlier said it would accelerate the transformation of its US business and reduce annual costs.',\n",
       " 'The Insurance Regulatory and Development Authority of India (IRDAI) on Friday gave in-principle approval for the merger of Bharti AXA General with ICICI Lombard. ICICI Lombard said it is obtaining further approvals from other regulators for the transaction. The consolidated entity will have a roughly 8.7% market share on a pro forma basis in the non-life business, it added.',\n",
       " \"Baba Ramdev and close aide Acharya Balkrishna will be on the board of soya food brand Nutrela-maker Ruchi Soya that was recently acquired by Patanjali Ayurved. Ramdev's younger brother Ram Bharat has also been appointed as the Managing Director of the company. Last year, Ramdev’s Patanjali Ayurved paid ₹4,350 crore to take over Ruchi Soya. \",\n",
       " \"In this month's 'Mann Ki Baat’ on Sunday, Prime Minister Narendra Modi hailed Virendra Yadav, a farmer entrepreneur from Haryana’s Kaithal who has sold stubble worth over ₹2.5 crore and made a profit of approximately ₹50 lakh. Modi said Yadav bought a machine to make bales from stubble to sell to agro energy plants and paper mills. \"]"
      ]
     },
     "execution_count": 26,
     "metadata": {},
     "output_type": "execute_result"
    }
   ],
   "source": [
    "body_texts"
   ]
  },
  {
   "cell_type": "code",
   "execution_count": 31,
   "metadata": {},
   "outputs": [],
   "source": [
    "def business_category():\n",
    "    url = 'https://inshorts.com/en/read/business'\n",
    "    response = get(url)\n",
    "    soup = BeautifulSoup(response.text)\n",
    "    cards = soup.find_all('div', class_='news-card')\n",
    "    l = []\n",
    "    for card in cards:\n",
    "        d = {}\n",
    "        title = (card.find('span', itemprop='headline').text)\n",
    "        article = (card.find('div', itemprop='articleBody').text)\n",
    "        d['title'] = title\n",
    "        d['article'] = article\n",
    "        d['category'] = 'business'\n",
    "        l.append(d)\n",
    "    return l "
   ]
  },
  {
   "cell_type": "code",
   "execution_count": 32,
   "metadata": {},
   "outputs": [
    {
     "data": {
      "text/plain": [
       "[{'title': \"Should I be amused or horrified: Mahindra on 'ladkewale', 'ladkiwale' masks\",\n",
       "  'article': 'Anand Mahindra, Chairman of the Mahindra Group, shared a picture of masks for weddings with \\'ladkewale\\' and \\'ladkiwale\\' written on them. \"I don\\'t know whether to be amused or horrified. Sach mein, ye masks ne meri bolti band kar di (Really, these masks have left me speechless),\" he wrote with the picture.',\n",
       "  'category': 'business'},\n",
       " {'title': \"Which are world's most expensive cities to live in during COVID-19 pandemic?\",\n",
       "  'article': 'According to The Economist Intelligence Unit, COVID-19 pandemic has changed the cost of living in about 130 cities around the world. In 2020, Hong Kong remained the most expensive city to live in, but was joined by Zurich and Paris on the top spot. Singapore dropped to the 4th spot, followed by Tel Aviv and Osaka sharing the 5th spot.',\n",
       "  'category': 'business'},\n",
       " {'title': 'PM visits Zydus facility in Gujarat as part of 3-city vaccine tour',\n",
       "  'article': \"Prime Minister Narendra Modi visited drugmaker Zydus Cadila's facility in Gujarat's Ahmedabad as part of his three-city tour to review COVID-19 vaccine development efforts on Saturday. Zydus commenced Phase 2 clinical trials of its vaccine candidate in August. PM Modi will also visit Covaxin developer Bharat Biotech's facility in Hyderabad and Serum Institute of India in Pune.\\n\",\n",
       "  'category': 'business'},\n",
       " {'title': 'Trial volunteer falsely laying blame on us, will seek ₹100 cr in damages: SII',\n",
       "  'article': 'Serum Institute of India (SII) has said it will countersue the man who took part in Covishield vaccine trial and demanded ₹5 crore in damages alleging serious side effects. \"He\\'s falsely laying blame for his medical problems on trial,\" the SII said in a statement. \"We\\'ll seek over ₹100 crore in damages and will defend such malicious claims,\" SII added.',\n",
       "  'category': 'business'},\n",
       " {'title': \"Lufthansa airline trials 'Sleeper's Row' concept in economy class\",\n",
       "  'article': 'Lufthansa airline has said it\\'ll make available on the Frankfurt-São Paulo route its \"newest product\", the \\'Sleeper\\'s Row\\', during a trial period. \"Passengers flying in economy class will have the option to book an adjacent row of seats – from 3 to 4 seats – to lie down comfortably and have a good night of sleep while flying,\" it said.',\n",
       "  'category': 'business'},\n",
       " {'title': \"World's strictest corporate responsibility plan rejected in Switzerland vote\",\n",
       "  'article': \"A plan in Switzerland to impose the world's strictest corporate responsibility rules failed to pass in a vote. It would've amended the Swiss constitution and forced Swiss-headquartered MNCs to ensure they and their suppliers respected strict human rights and environmental protection standards. Some 50.7% voters backed the initiative, according to results published by ATS national news agency.\",\n",
       "  'category': 'business'},\n",
       " {'title': \"Wife's ₹4,300cr Infosys stake not declared by Sunak in official register: Report\",\n",
       "  'article': \"UK Finance Minister Rishi Sunak did not declare the ₹4,300-crore stake in Infosys held by his wife Akshata Murthy, the daughter of Narayana Murthy, in the official register of ministers' interests, The Guardian reported. Sunak is required to declare his family's financial interests which could conflict with his public duty. Infosys has held contracts with government ministries, The Guardian added.\",\n",
       "  'category': 'business'},\n",
       " {'title': \"Singapore's DBS Group completes takeover of Lakshmi Vilas Bank\",\n",
       "  'article': 'Singapore’s DBS Group on Monday said it has completed its takeover of Lakshmi Vilas Bank (LVB), helping it expand from over 30 branches in India to having more than 550 now. DBS confirmed it would continue to employ around 4,000 LVB staff. Rebranding of LVB branches has begun and ATM screens have also been reconfigured to reflect DBS’s logo.',\n",
       "  'category': 'business'},\n",
       " {'title': 'NDTV founders Prannoy and Radhika Roy barred from securities market for 2 yrs',\n",
       "  'article': 'Markets regulator SEBI has barred NDTV founders Prannoy Roy and Radhika Roy from the securities market for two years. They have also been directed to return the illegal gains of more than ₹16.97 crore for indulging in insider trading more than 12 years ago. SEBI has barred former group CEO Vikramaditya Chandra from accessing securities market for one year.',\n",
       "  'category': 'business'},\n",
       " {'title': 'Case for immediate rollout of 5G in India compelling: Qualcomm',\n",
       "  'article': 'Qualcomm India and SAARC President Rajen Vagadia said the case for the immediate rollout of 5G in India is \"compelling\" and \"it\\'s no longer a choice, but a prerequisite for the country’s growth and development\". He added that the government can trigger growth of the telecom space by releasing spectrum, including 5G, in adequate quantity and at affordable prices.',\n",
       "  'category': 'business'},\n",
       " {'title': \"Ant Group's IPO may not be revived before 2022: Report\",\n",
       "  'article': \"Jack Ma-owned Ant Group's initial public offering (IPO) may not be revived before 2022 as the company is still in the early stages of reviewing changes needed to appease the regulators, officials told Bloomberg. There's so much work needed and some rules are not yet spelled out, they added. Ant's $35-billion IPO was poised to become the largest IPO ever.\",\n",
       "  'category': 'business'},\n",
       " {'title': \"Hope US won't erect barriers to cooperation: China on blacklist report\",\n",
       "  'article': \"China, in response to reports of US adding Chinese chipmaker SMIC and national offshore oil producer CNOOC to a defence blacklist, said that it hoped US will not erect barriers and obstacles to cooperation. Reuters reported that President Donald Trump's administration is poised to add SMIC and CNOOC to a list of companies allegedly owned or controlled by Chinese military.\",\n",
       "  'category': 'business'},\n",
       " {'title': 'Tokyo Stock Exchange CEO to resign over outage that halted trading for a day',\n",
       "  'article': \"Tokyo Stock Exchange (TSE) President and CEO Koichiro Miyahara will step down to accept responsibility over a system failure last month that resulted in the first all-day stoppage of trading since the exchange switched to all-electronic trading in 1999. Akira Kiyota, the Group CEO of Japan Exchange Group that runs the TSE, will temporarily take over Miyahara's role.\",\n",
       "  'category': 'business'},\n",
       " {'title': 'US to add Chinese chipmaker SMIC to defence blacklist: Reports',\n",
       "  'article': \"President Donald Trump's administration is set to add Chinese chipmaker SMIC and state-owned offshore oil and gas producer CNOOC to its defence blacklist of companies it alleges are owned or controlled by Chinese military. Two other companies have also been added to the list, bringing the count to 35. SMIC responded saying it is not associated with the Chinese military. \",\n",
       "  'category': 'business'},\n",
       " {'title': \"Elon Musk's Tesla becomes 6th largest US company\",\n",
       "  'article': \"Elon Musk's electric car company Tesla has become the sixth-largest company in the US by market capitalisation hitting the $555.24 billion mark and surpassing Warren Buffett’s Berkshire Hathaway. Tesla now trails Apple followed by Microsoft, Amazon, Alphabet and Facebook. Tesla's value is greater than Toyota ($23.66 billion), Ford ($35.52 billion), and General Motors ($64.49 billion) combined.\",\n",
       "  'category': 'business'},\n",
       " {'title': 'CAIT accuses e-comm firms of violating FDI norms in letter to PM Modi',\n",
       "  'article': 'The Confederation of All India Traders, in a letter to Prime Minister Narendra Modi, accused e-commerce companies of \"monopolising the...retail trade of India with their malpractices and violating FDI policy\". It added that it\\'s \"most unfortunate\" that \"various government authorities have failed to protect the sanctity of the policy\" and demanded an e-commerce policy to be announced immediately.',\n",
       "  'category': 'business'},\n",
       " {'title': 'Reliance confirms acquisition of minority stake in Zivame',\n",
       "  'article': \"Reliance Industries (RIL), in an exchange filing, has listed Zivame as an associate company, which is defined as one in which a director, sponsor or venture capital fund holds equity in excess of 15%. Earlier, reports emerged stating Ronnie Screwvala's Unilazer Ventures had sold its 15% stake in Zivame to Reliance. RIL was also reportedly looking to acquire Zivame wholly.\",\n",
       "  'category': 'business'},\n",
       " {'title': \"Hyundai, Kia agree to $210M US penalty for delay in vehicles' recall\",\n",
       "  'article': 'Hyundai and Kia Motors have agreed to $140 million and $70 million civil penalties, respectively, after US auto safety regulators said they delayed recall of 1.6 million vehicles for engine issues. The settlement covers recall in 2015 and 2017 for manufacturing issues. Kia denied the allegations but agreed to settle the matter to \"avoid a protracted dispute with the government\".',\n",
       "  'category': 'business'},\n",
       " {'title': 'Haryana farmer earns ₹50L profit selling stubble, PM Modi mentions him',\n",
       "  'article': \"In this month's 'Mann Ki Baat’ on Sunday, Prime Minister Narendra Modi hailed Virendra Yadav, a farmer entrepreneur from Haryana’s Kaithal who has sold stubble worth over ₹2.5 crore and made a profit of approximately ₹50 lakh. Modi said Yadav bought a machine to make bales from stubble to sell to agro energy plants and paper mills. \",\n",
       "  'category': 'business'},\n",
       " {'title': 'Baba Ramdev to be on board of Ruchi Soya, brother to be MD',\n",
       "  'article': \"Baba Ramdev and close aide Acharya Balkrishna will be on the board of soya food brand Nutrela-maker Ruchi Soya that was recently acquired by Patanjali Ayurved. Ramdev's younger brother Ram Bharat has also been appointed as the Managing Director of the company. Last year, Ramdev’s Patanjali Ayurved paid ₹4,350 crore to take over Ruchi Soya. \",\n",
       "  'category': 'business'},\n",
       " {'title': 'IRDAI gives in-principle approval to Bharti AXA-ICICI Lombard merger',\n",
       "  'article': 'The Insurance Regulatory and Development Authority of India (IRDAI) on Friday gave in-principle approval for the merger of Bharti AXA General with ICICI Lombard. ICICI Lombard said it is obtaining further approvals from other regulators for the transaction. The consolidated entity will have a roughly 8.7% market share on a pro forma basis in the non-life business, it added.',\n",
       "  'category': 'business'},\n",
       " {'title': 'Singapore, US lead FDI inflows; software sector receives the most',\n",
       "  'article': \"Singapore with ₹62,084 crore and US with ₹53,266 crore have been the biggest contributors towards FDI inflows to India between April and September 2020, according to government data. In this fiscal's second quarter, India has received over ₹2 lakh crore worth FDI inflows. The software and hardware sector has received the most, at ₹1.31 lakh crore between April and September.\",\n",
       "  'category': 'business'},\n",
       " {'title': 'S&P Global in advanced talks to buy IHS Markit for $44 bn: Report',\n",
       "  'article': 'S&P Global is in advanced talks to acquire London-based data provider IHS Markit in a deal worth roughly $44 billion, reported the Wall Street Journal. The deal, which at that price would reportedly be the largest this year, could be announced by Monday. S&P Global is valued at about $82 billion, while IHS Markit is worth about $37 billion.',\n",
       "  'category': 'business'},\n",
       " {'title': 'Burger King IPO to open on Dec 2, share price band set at ₹59-60',\n",
       "  'article': \"US-based Burger King's Indian subsidiary is set to come out with its initial public offering (IPO) on December 2, with the price band fixed at ₹59-60 per share. The issue size for the IPO is ₹810 crore, of which fresh issues comprise ₹450 crore. The last date for subscription in the IPO is December 4.\",\n",
       "  'category': 'business'},\n",
       " {'title': 'HSBC considers complete exit from US retail banking: Report',\n",
       "  'article': 'British multinational investment bank HSBC Holdings is considering a complete exit from retail banking in the US, to help its struggling North America business, Financial Times reported. The bank’s senior management might reportedly present the plan to the board in the coming weeks. The bank earlier said it would accelerate the transformation of its US business and reduce annual costs.',\n",
       "  'category': 'business'}]"
      ]
     },
     "execution_count": 32,
     "metadata": {},
     "output_type": "execute_result"
    }
   ],
   "source": [
    "business_category()"
   ]
  },
  {
   "cell_type": "code",
   "execution_count": 43,
   "metadata": {},
   "outputs": [],
   "source": [
    "def sports_category():\n",
    "    url = 'https://inshorts.com/en/read/sports'\n",
    "    response = get(url)\n",
    "    soup = BeautifulSoup(response.text)\n",
    "    cards = soup.find_all('div', class_='news-card')\n",
    "    l = []\n",
    "    for card in cards:\n",
    "        d = {}\n",
    "        title = (card.find('span', itemprop='headline').text)\n",
    "        article = (card.find('div', itemprop='articleBody').text)\n",
    "        d['title'] = title\n",
    "        d['article'] = article\n",
    "        d['category'] = 'sports'\n",
    "        l.append(d)\n",
    "    return l "
   ]
  },
  {
   "cell_type": "code",
   "execution_count": 46,
   "metadata": {},
   "outputs": [
    {
     "data": {
      "text/plain": [
       "[{'title': 'India lose 7th consecutive international match, suffer 2nd straight ODI series defeat',\n",
       "  'article': 'Australia defeated India in the second ODI in Sydney by 51 runs to take an unassailable 2-0 lead in the three-match series. India have now lost seven international matches in a row and two consecutive ODI series. The match witnessed Australia register their highest ODI total against India (389/4). The dead rubber will take place on December 2 (Wednesday).',\n",
       "  'category': 'sports'},\n",
       " {'title': 'Jasprit Bumrah kicks 30-yard field marker in anger during 2nd ODI, pic surfaces',\n",
       "  'article': 'Team India fast bowler Jasprit Bumrah kicked 30-yard field marker away in anger during the second ODI against Australia in Sydney. Bumrah, who is the world number two ODI bowler, registered figures of 10-0-73-1 and 10-1-79-1 in the first two ODIs which India lost. He has taken just four wickets in his last nine ODI matches.',\n",
       "  'category': 'sports'},\n",
       " {'title': 'Tyson reveals he smoked marijuana before throwing 193 punches in 16 minutes in fight',\n",
       "  'article': 'Boxer Mike Tyson, who returned to ring after 15 years for his exhibition fight against Roy Jones Jr, revealed he smoked marijuana before the fight. Tyson threw 193 punches during his eight-round, 16-minute fight. \"It has no effect on me from a negative standpoint. It\\'s just what I do, who I\\'m and how I\\'ll die,\" Tyson later said about smoking.',\n",
       "  'category': 'sports'},\n",
       " {'title': \"What protection do farmers have: Monty Panesar on India's farm bills\",\n",
       "  'article': 'Former England spinner Monty Panesar questioned the recently passed agricultural bills by the Indian government as farmers continued their protest. He tweeted, \"What happens if the buyer says the contract cannot be fulfilled because the quality of crop is not what was agreed, what protection does the farmer have then? There is no mention of fixing a price?\"',\n",
       "  'category': 'sports'},\n",
       " {'title': 'Maradona’s doctor probed over involuntary manslaughter; house & clinic raided',\n",
       "  'article': \"Diego Maradona's doctor Leopoldo Luque is being investigated for involuntary manslaughter four days after the Argentine football legend suffered a fatal heart attack. Police raided the home and clinic of the 39-year-old doctor earlier in the day, a local prosecutor's office stated. This comes after witnesses reportedly told investigators that they had seen a fight between Maradona and the doctor.\",\n",
       "  'category': 'sports'},\n",
       " {'title': 'Didn’t ask for paternity leave, my wife backed me: Sunil Gavaskar',\n",
       "  'article': 'Ex-India captain Sunil Gavaskar said he hadn\\'t asked BCCI for permission to return to India from New Zealand in 1975-76 to be with his wife for the birth of their son. \"I was aware that the baby would come while I was away. I was committed to playing for India and my wife backed me to the hilt,\" Gavaskar said.',\n",
       "  'category': 'sports'},\n",
       " {'title': 'Referee saves MMA fighter from nearly flashing her breast; video surfaces',\n",
       "  'article': \"A video showing referee Jason Herzog saving MMA fighter Norma Dumont from nearly flashing her breast has surfaced online. The video shows Herzog stopping the fight momentarily to adjust the fighter's top. Brazilian born Dumont defeated Ashlee Evans-Smith by unanimous decision in her first fight since February.\",\n",
       "  'category': 'sports'},\n",
       " {'title': 'Virat Kohli becomes fastest batsman to reach 22,000 runs in international cricket',\n",
       "  'article': 'During his 87-ball 89-run knock against Australia in the second ODI, Team India captain Virat Kohli reached 22,000 runs in international cricket. Kohli is the fastest batsman to reach the milestone, taking 462 innings. Kohli had become the fastest batsman to score 21,000 international runs in  October last year.',\n",
       "  'category': 'sports'},\n",
       " {'title': 'Warner ruled out of 3rd ODI & T20I series due to injury',\n",
       "  'article': \"Opener David Warner was ruled out of the third and final ODI, and the three-match T20I series against India after he injured his groin during the second ODI on Sunday. D'Arcy Short will replace Warner in the T20I squad. Meanwhile, pacer Pat Cummins was rested for third ODI and the T20I series to keep him fresh for the Test series.\",\n",
       "  'category': 'sports'},\n",
       " {'title': 'F1 driver survives huge crash after car splits into two and bursts into flames',\n",
       "  'article': 'Formula One driver Romain Grosjean was involved in a huge crash at the Bahrain Grand Prix on Sunday. Grosjean veered off the track following some contact with Daniil Kvyat and his car ploughed into the barriers, exploding on impact and breaking in half. The French driver emerged from the flames after several seconds and was immediately attended by emergency services.\\n',\n",
       "  'category': 'sports'},\n",
       " {'title': \"I don't worry about his batting: Vaughan on Kohli missing ton in 2nd Aus ODI\",\n",
       "  'article': 'On India skipper Virat Kohli getting out on 89 and missing his ton in the second ODI, ex-England captain Michael Vaughan said that there\\'s no concern about Kohli\\'s batting. \"I don\\'t worry about...Kohli\\'s...batting...He\\'s a wonderful player, he\\'s the best of the era across the formats,\" he added. Kohli has scored fifty plus runs five times in his last nine ODIs. ',\n",
       "  'category': 'sports'},\n",
       " {'title': 'Australia outplayed us, players were ineffective with ball: Kohli on series loss',\n",
       "  'article': 'After Australia defeated India in the second ODI in Sydney by 51 runs to take an unassailable 2-0 lead in the three-match series, India skipper Virat Kohli said that Aaron Finch-led Australia outplayed them. \"We were ineffective with the ball...They have a strong batting line-up, they know the conditions...well,\" he added. India have now lost two consecutive ODI series.',\n",
       "  'category': 'sports'},\n",
       " {'title': \"We didn't adapt, it's a learning curve for bowlers: Rahul on series loss to Aus\",\n",
       "  'article': 'After India lost the second ODI by 51 runs with Australia posting their highest ODI total against India, wicketkeeper-batsman KL Rahul said that it\\'s a \"learning curve\" for the bowlers to adapt quicker. \"It\\'s a learning for us to sit back and think of how to do better when playing on such good batting wicket,\" he added. ',\n",
       "  'category': 'sports'},\n",
       " {'title': \"Need to look in mirror, don't want to feel like laughing stocks: Pollard on NZ series loss\",\n",
       "  'article': 'After West Indies lost the three-match T20I series 0-2 against New Zealand, WI skipper Kieron Pollard said that he didn\\'t expect his side to be outplayed \"this badly\" by the hosts. \"We have to look in the mirror...next year is crucial with World Cup coming up. So if players don\\'t show that attitude, they may get the boot,\" he added. ',\n",
       "  'category': 'sports'},\n",
       " {'title': 'Warner leaves field with groin injury during 2nd Ind ODI, set to undergo scan',\n",
       "  'article': \"Australia opener David Warner hobbled off the field with a groin injury during the second ODI against India. He injured himself diving to make a save in the fourth over of India's chase of 390 runs. According to reports, Warner was taken to a nearby hospital where he would undergo scans. Australia won the match by 51 runs. \",\n",
       "  'category': 'sports'},\n",
       " {'title': \"When we're bad, we go really bad: WI's Pollard on 72-run loss vs NZ\",\n",
       "  'article': 'Reacting to the 72-run loss against New Zealand in the second T20I, WI skipper Kieron Pollard said the game went in the opposite direction of what they had planned. \"When we\\'re bad, we go really bad. We had them in their first 10 overs but...we let things slip,\" he added. Chasing a 239-run target, WI scored 166/9 in 20 overs.',\n",
       "  'category': 'sports'},\n",
       " {'title': \"Ball flies to short third man after slipping out of Cottrell's hands, video goes viral\",\n",
       "  'article': 'During the 12th over of the New Zealand innings in the second T20I, Windies pacer Sheldon Cottrell bowled a delivery that slipped out of his hands and flew directly towards the short third man. The ball was deemed a no-ball and Glenn Phillips slammed the free-hit ball to a boundary. New Zealand won the match by 72 runs. ',\n",
       "  'category': 'sports'},\n",
       " {'title': \"Messi pays his tribute, reveals Maradona's jersey after scoring a goal\",\n",
       "  'article': \"Barcelona's Lionel Messi honoured Diego Maradona's memory by stripping off his Barcelona top to reveal Maradona's Newell's Old Boys jersey after scoring the final goal against Osasuna on Sunday. Messi played for Argentine club Newell's before joining Barcelona at age of 13 while Maradona played five matches for them in 1994. Maradona died of a heart attack on November 25.\",\n",
       "  'category': 'sports'},\n",
       " {'title': \"One guy can't win you games, Kohli needs guys doing well consistently: Harbhajan\",\n",
       "  'article': 'Reacting to India\\'s ODI series loss to Australia, veteran off-spinner Harbhajan Singh said India skipper Virat Kohli, who scored 89 off 87 balls in 2nd ODI, cannot win games alone. \"Good to see KL Rahul performing but you need couple of more guys consistently doing well for India...So, the pressure can shift off a little bit from Virat,\" he stated. ',\n",
       "  'category': 'sports'},\n",
       " {'title': \"Didn't think I would play the 2nd ODI after a bad dose of vertigo: Smith\",\n",
       "  'article': 'Australia\\'s Steve Smith said he wasn\\'t sure of playing the 2nd ODI since he was suffering from a \"bad dose of vertigo\" prior to the match on Sunday. \"I was struggling until...I came down early to have a hit and a bit of a run around,\" said Smith. He said it was team doctor who relieved him of the symptoms.',\n",
       "  'category': 'sports'},\n",
       " {'title': 'Kohli 3rd Indian batsman to score 2000 ODI runs against Australia',\n",
       "  'article': 'Scoring 89 off 87 balls in the second ODI against Australia on Sunday, India captain Virat Kohli became the third Indian and fifth overall batsman to complete 2000 ODI runs against Australia. Kohli achieved the feat in his 40th innings. Sachin Tendulkar and Rohit Sharma are the other two Indian batsmen who have amassed 2000 ODI runs against Australia. ',\n",
       "  'category': 'sports'},\n",
       " {'title': \"Would love to open the batting in Warner's absence: Labuschagne\",\n",
       "  'article': 'Australia\\'s Marnus Labuschagne said he would love to open the batting in David Warner\\'s absence, who was ruled out of the third ODI and the T20I series after groin injury. \"Certainly if I got asked to open the batting absolutely it\\'s an opportunity that I would enjoy doing. We\\'ll wait and see how our team shapes up,\" said Labuschagne. ',\n",
       "  'category': 'sports'},\n",
       " {'title': 'I just asked him out of nowhere: Kohli on Pandya bowling after 14 months',\n",
       "  'article': 'Talking about all-rounder Hardik Pandya, who returned to bowling in international cricket for the first time since September 2019 in the second ODI against Australia, Virat Kohli said that he asked him to bowl \"out of nowhere\". In the match, Pandya bowled four overs, giving 24 runs and dismissing Steve Smith for 104. ',\n",
       "  'category': 'sports'},\n",
       " {'title': \"Smith didn't take risk but got a ton off 62 balls, it's scary: Labuschagne\",\n",
       "  'article': 'Australia batsman Marnus Labuschagne has praised teammate Steve Smith for his second consecutive century against India, terming Smith\\'s ton in the second ODI as the best innings he has seen in one-day cricket. \"He didn\\'t give an opportunity [to bowlers], didn\\'t really take any risk, but got a hundred off 62 balls. When someone\\'s doing that [it\\'s] scary,\" he stated. ',\n",
       "  'category': 'sports'},\n",
       " {'title': 'Virat Kohli is being hasty in his decisions: Ashish Nehra',\n",
       "  'article': 'Talking about Virat Kohli\\'s captaincy in the second ODI against Australia, former India pacer Ashish Nehra said that the India skipper was being hasty in his decisions. \"Kohli is an impulsive captain. He is making too many changes in his bowling. And this is an area that he needs to take care of,\" Nehra added. ',\n",
       "  'category': 'sports'}]"
      ]
     },
     "execution_count": 46,
     "metadata": {},
     "output_type": "execute_result"
    }
   ],
   "source": [
    "sports_category()"
   ]
  },
  {
   "cell_type": "code",
   "execution_count": 56,
   "metadata": {},
   "outputs": [],
   "source": [
    "urls = ['https://inshorts.com/en/read/sports', 'https://inshorts.com/en/read/business',\n",
    "        'https://inshorts.com/en/read/technology', 'https://inshorts.com/en/read/entertainment']\n",
    "def get_all_news(urls):\n",
    "    l = []\n",
    "    for url in urls:\n",
    "        response = get(url)\n",
    "        soup = BeautifulSoup(response.text)\n",
    "        cards = soup.find_all('div', class_='news-card')\n",
    "        for card in cards:\n",
    "            d = {}\n",
    "            title = (card.find('span', itemprop='headline').text)\n",
    "            article = (card.find('div', itemprop='articleBody').text)\n",
    "            d['title'] = title\n",
    "            d['aritcle'] = article\n",
    "            d['category'] = url.split('/')[-1]\n",
    "            l.append(d)\n",
    "    return l"
   ]
  },
  {
   "cell_type": "code",
   "execution_count": 58,
   "metadata": {
    "scrolled": true
   },
   "outputs": [
    {
     "data": {
      "text/plain": [
       "[{'title': 'India lose 7th consecutive international match, suffer 2nd straight ODI series defeat',\n",
       "  'aritcle': 'Australia defeated India in the second ODI in Sydney by 51 runs to take an unassailable 2-0 lead in the three-match series. India have now lost seven international matches in a row and two consecutive ODI series. The match witnessed Australia register their highest ODI total against India (389/4). The dead rubber will take place on December 2 (Wednesday).',\n",
       "  'category': 'sports'},\n",
       " {'title': 'Referee saves MMA fighter from nearly flashing her breast; video surfaces',\n",
       "  'aritcle': \"A video showing referee Jason Herzog saving MMA fighter Norma Dumont from nearly flashing her breast has surfaced online. The video shows Herzog stopping the fight momentarily to adjust the fighter's top. Brazilian born Dumont defeated Ashlee Evans-Smith by unanimous decision in her first fight since February.\",\n",
       "  'category': 'sports'},\n",
       " {'title': 'Didn’t ask for paternity leave, my wife backed me: Sunil Gavaskar',\n",
       "  'aritcle': 'Ex-India captain Sunil Gavaskar said he hadn\\'t asked BCCI for permission to return to India from New Zealand in 1975-76 to be with his wife for the birth of their son. \"I was aware that the baby would come while I was away. I was committed to playing for India and my wife backed me to the hilt,\" Gavaskar said.',\n",
       "  'category': 'sports'},\n",
       " {'title': 'Jasprit Bumrah kicks 30-yard field marker in anger during 2nd ODI, pic surfaces',\n",
       "  'aritcle': 'Team India fast bowler Jasprit Bumrah kicked 30-yard field marker away in anger during the second ODI against Australia in Sydney. Bumrah, who is the world number two ODI bowler, registered figures of 10-0-73-1 and 10-1-79-1 in the first two ODIs which India lost. He has taken just four wickets in his last nine ODI matches.',\n",
       "  'category': 'sports'},\n",
       " {'title': 'F1 driver survives huge crash after car splits into two and bursts into flames',\n",
       "  'aritcle': 'Formula One driver Romain Grosjean was involved in a huge crash at the Bahrain Grand Prix on Sunday. Grosjean veered off the track following some contact with Daniil Kvyat and his car ploughed into the barriers, exploding on impact and breaking in half. The French driver emerged from the flames after several seconds and was immediately attended by emergency services.\\n',\n",
       "  'category': 'sports'},\n",
       " {'title': 'Maradona’s doctor probed over involuntary manslaughter; house & clinic raided',\n",
       "  'aritcle': \"Diego Maradona's doctor Leopoldo Luque is being investigated for involuntary manslaughter four days after the Argentine football legend suffered a fatal heart attack. Police raided the home and clinic of the 39-year-old doctor earlier in the day, a local prosecutor's office stated. This comes after witnesses reportedly told investigators that they had seen a fight between Maradona and the doctor.\",\n",
       "  'category': 'sports'},\n",
       " {'title': 'Tyson reveals he smoked marijuana before throwing 193 punches in 16 minutes in fight',\n",
       "  'aritcle': 'Boxer Mike Tyson, who returned to ring after 15 years for his exhibition fight against Roy Jones Jr, revealed he smoked marijuana before the fight. Tyson threw 193 punches during his eight-round, 16-minute fight. \"It has no effect on me from a negative standpoint. It\\'s just what I do, who I\\'m and how I\\'ll die,\" Tyson later said about smoking.',\n",
       "  'category': 'sports'},\n",
       " {'title': 'Warner ruled out of 3rd ODI & T20I series due to injury',\n",
       "  'aritcle': \"Opener David Warner was ruled out of the third and final ODI, and the three-match T20I series against India after he injured his groin during the second ODI on Sunday. D'Arcy Short will replace Warner in the T20I squad. Meanwhile, pacer Pat Cummins was rested for third ODI and the T20I series to keep him fresh for the Test series.\",\n",
       "  'category': 'sports'},\n",
       " {'title': \"What protection do farmers have: Monty Panesar on India's farm bills\",\n",
       "  'aritcle': 'Former England spinner Monty Panesar questioned the recently passed agricultural bills by the Indian government as farmers continued their protest. He tweeted, \"What happens if the buyer says the contract cannot be fulfilled because the quality of crop is not what was agreed, what protection does the farmer have then? There is no mention of fixing a price?\"',\n",
       "  'category': 'sports'},\n",
       " {'title': 'Virat Kohli becomes fastest batsman to reach 22,000 runs in international cricket',\n",
       "  'aritcle': 'During his 87-ball 89-run knock against Australia in the second ODI, Team India captain Virat Kohli reached 22,000 runs in international cricket. Kohli is the fastest batsman to reach the milestone, taking 462 innings. Kohli had become the fastest batsman to score 21,000 international runs in  October last year.',\n",
       "  'category': 'sports'},\n",
       " {'title': 'Virat Kohli is being hasty in his decisions: Ashish Nehra',\n",
       "  'aritcle': 'Talking about Virat Kohli\\'s captaincy in the second ODI against Australia, former India pacer Ashish Nehra said that the India skipper was being hasty in his decisions. \"Kohli is an impulsive captain. He is making too many changes in his bowling. And this is an area that he needs to take care of,\" Nehra added. ',\n",
       "  'category': 'sports'},\n",
       " {'title': \"Need to look in mirror, don't want to feel like laughing stocks: Pollard on NZ series loss\",\n",
       "  'aritcle': 'After West Indies lost the three-match T20I series 0-2 against New Zealand, WI skipper Kieron Pollard said that he didn\\'t expect his side to be outplayed \"this badly\" by the hosts. \"We have to look in the mirror...next year is crucial with World Cup coming up. So if players don\\'t show that attitude, they may get the boot,\" he added. ',\n",
       "  'category': 'sports'},\n",
       " {'title': \"I don't worry about his batting: Vaughan on Kohli missing ton in 2nd Aus ODI\",\n",
       "  'aritcle': 'On India skipper Virat Kohli getting out on 89 and missing his ton in the second ODI, ex-England captain Michael Vaughan said that there\\'s no concern about Kohli\\'s batting. \"I don\\'t worry about...Kohli\\'s...batting...He\\'s a wonderful player, he\\'s the best of the era across the formats,\" he added. Kohli has scored fifty plus runs five times in his last nine ODIs. ',\n",
       "  'category': 'sports'},\n",
       " {'title': 'I just asked him out of nowhere: Kohli on Pandya bowling after 14 months',\n",
       "  'aritcle': 'Talking about all-rounder Hardik Pandya, who returned to bowling in international cricket for the first time since September 2019 in the second ODI against Australia, Virat Kohli said that he asked him to bowl \"out of nowhere\". In the match, Pandya bowled four overs, giving 24 runs and dismissing Steve Smith for 104. ',\n",
       "  'category': 'sports'},\n",
       " {'title': \"We didn't adapt, it's a learning curve for bowlers: Rahul on series loss to Aus\",\n",
       "  'aritcle': 'After India lost the second ODI by 51 runs with Australia posting their highest ODI total against India, wicketkeeper-batsman KL Rahul said that it\\'s a \"learning curve\" for the bowlers to adapt quicker. \"It\\'s a learning for us to sit back and think of how to do better when playing on such good batting wicket,\" he added. ',\n",
       "  'category': 'sports'},\n",
       " {'title': 'Australia outplayed us, players were ineffective with ball: Kohli on series loss',\n",
       "  'aritcle': 'After Australia defeated India in the second ODI in Sydney by 51 runs to take an unassailable 2-0 lead in the three-match series, India skipper Virat Kohli said that Aaron Finch-led Australia outplayed them. \"We were ineffective with the ball...They have a strong batting line-up, they know the conditions...well,\" he added. India have now lost two consecutive ODI series.',\n",
       "  'category': 'sports'},\n",
       " {'title': \"Messi pays his tribute, reveals Maradona's jersey after scoring a goal\",\n",
       "  'aritcle': \"Barcelona's Lionel Messi honoured Diego Maradona's memory by stripping off his Barcelona top to reveal Maradona's Newell's Old Boys jersey after scoring the final goal against Osasuna on Sunday. Messi played for Argentine club Newell's before joining Barcelona at age of 13 while Maradona played five matches for them in 1994. Maradona died of a heart attack on November 25.\",\n",
       "  'category': 'sports'},\n",
       " {'title': \"Would love to open the batting in Warner's absence: Labuschagne\",\n",
       "  'aritcle': 'Australia\\'s Marnus Labuschagne said he would love to open the batting in David Warner\\'s absence, who was ruled out of the third ODI and the T20I series after groin injury. \"Certainly if I got asked to open the batting absolutely it\\'s an opportunity that I would enjoy doing. We\\'ll wait and see how our team shapes up,\" said Labuschagne. ',\n",
       "  'category': 'sports'},\n",
       " {'title': \"Didn't think I would play the 2nd ODI after a bad dose of vertigo: Smith\",\n",
       "  'aritcle': 'Australia\\'s Steve Smith said he wasn\\'t sure of playing the 2nd ODI since he was suffering from a \"bad dose of vertigo\" prior to the match on Sunday. \"I was struggling until...I came down early to have a hit and a bit of a run around,\" said Smith. He said it was team doctor who relieved him of the symptoms.',\n",
       "  'category': 'sports'},\n",
       " {'title': \"One guy can't win you games, Kohli needs guys doing well consistently: Harbhajan\",\n",
       "  'aritcle': 'Reacting to India\\'s ODI series loss to Australia, veteran off-spinner Harbhajan Singh said India skipper Virat Kohli, who scored 89 off 87 balls in 2nd ODI, cannot win games alone. \"Good to see KL Rahul performing but you need couple of more guys consistently doing well for India...So, the pressure can shift off a little bit from Virat,\" he stated. ',\n",
       "  'category': 'sports'},\n",
       " {'title': 'Kohli 3rd Indian batsman to score 2000 ODI runs against Australia',\n",
       "  'aritcle': 'Scoring 89 off 87 balls in the second ODI against Australia on Sunday, India captain Virat Kohli became the third Indian and fifth overall batsman to complete 2000 ODI runs against Australia. Kohli achieved the feat in his 40th innings. Sachin Tendulkar and Rohit Sharma are the other two Indian batsmen who have amassed 2000 ODI runs against Australia. ',\n",
       "  'category': 'sports'},\n",
       " {'title': \"Ball flies to short third man after slipping out of Cottrell's hands, video goes viral\",\n",
       "  'aritcle': 'During the 12th over of the New Zealand innings in the second T20I, Windies pacer Sheldon Cottrell bowled a delivery that slipped out of his hands and flew directly towards the short third man. The ball was deemed a no-ball and Glenn Phillips slammed the free-hit ball to a boundary. New Zealand won the match by 72 runs. ',\n",
       "  'category': 'sports'},\n",
       " {'title': \"When we're bad, we go really bad: WI's Pollard on 72-run loss vs NZ\",\n",
       "  'aritcle': 'Reacting to the 72-run loss against New Zealand in the second T20I, WI skipper Kieron Pollard said the game went in the opposite direction of what they had planned. \"When we\\'re bad, we go really bad. We had them in their first 10 overs but...we let things slip,\" he added. Chasing a 239-run target, WI scored 166/9 in 20 overs.',\n",
       "  'category': 'sports'},\n",
       " {'title': 'Warner leaves field with groin injury during 2nd Ind ODI, set to undergo scan',\n",
       "  'aritcle': \"Australia opener David Warner hobbled off the field with a groin injury during the second ODI against India. He injured himself diving to make a save in the fourth over of India's chase of 390 runs. According to reports, Warner was taken to a nearby hospital where he would undergo scans. Australia won the match by 51 runs. \",\n",
       "  'category': 'sports'},\n",
       " {'title': \"Smith didn't take risk but got a ton off 62 balls, it's scary: Labuschagne\",\n",
       "  'aritcle': 'Australia batsman Marnus Labuschagne has praised teammate Steve Smith for his second consecutive century against India, terming Smith\\'s ton in the second ODI as the best innings he has seen in one-day cricket. \"He didn\\'t give an opportunity [to bowlers], didn\\'t really take any risk, but got a hundred off 62 balls. When someone\\'s doing that [it\\'s] scary,\" he stated. ',\n",
       "  'category': 'sports'},\n",
       " {'title': \"Should I be amused or horrified: Mahindra on 'ladkewale', 'ladkiwale' masks\",\n",
       "  'aritcle': 'Anand Mahindra, Chairman of the Mahindra Group, shared a picture of masks for weddings with \\'ladkewale\\' and \\'ladkiwale\\' written on them. \"I don\\'t know whether to be amused or horrified. Sach mein, ye masks ne meri bolti band kar di (Really, these masks have left me speechless),\" he wrote with the picture.',\n",
       "  'category': 'business'},\n",
       " {'title': 'PM visits Zydus facility in Gujarat as part of 3-city vaccine tour',\n",
       "  'aritcle': \"Prime Minister Narendra Modi visited drugmaker Zydus Cadila's facility in Gujarat's Ahmedabad as part of his three-city tour to review COVID-19 vaccine development efforts on Saturday. Zydus commenced Phase 2 clinical trials of its vaccine candidate in August. PM Modi will also visit Covaxin developer Bharat Biotech's facility in Hyderabad and Serum Institute of India in Pune.\\n\",\n",
       "  'category': 'business'},\n",
       " {'title': 'Trial volunteer falsely laying blame on us, will seek ₹100 cr in damages: SII',\n",
       "  'aritcle': 'Serum Institute of India (SII) has said it will countersue the man who took part in Covishield vaccine trial and demanded ₹5 crore in damages alleging serious side effects. \"He\\'s falsely laying blame for his medical problems on trial,\" the SII said in a statement. \"We\\'ll seek over ₹100 crore in damages and will defend such malicious claims,\" SII added.',\n",
       "  'category': 'business'},\n",
       " {'title': 'Moderna to seek US emergency authorisation for COVID-19 vaccine',\n",
       "  'aritcle': \"American biotechnology company Moderna said it'll apply on Monday to the US Food and Drug Administration (USFDA) to authorise its coronavirus vaccine for emergency use. Full results from a late-stage study showed the vaccine is 94.1% effective, Moderna Chief Medical Officer said. In addition to USFDA, Moderna also said it would apply for conditional approval from the European Medicines Agency.\",\n",
       "  'category': 'business'},\n",
       " {'title': \"Which are world's most expensive cities to live in during COVID-19 pandemic?\",\n",
       "  'aritcle': 'According to The Economist Intelligence Unit, COVID-19 pandemic has changed the cost of living in about 130 cities around the world. In 2020, Hong Kong remained the most expensive city to live in, but was joined by Zurich and Paris on the top spot. Singapore dropped to the 4th spot, followed by Tel Aviv and Osaka sharing the 5th spot.',\n",
       "  'category': 'business'},\n",
       " {'title': \"Lufthansa airline trials 'Sleeper's Row' concept in economy class\",\n",
       "  'aritcle': 'Lufthansa airline has said it\\'ll make available on the Frankfurt-São Paulo route its \"newest product\", the \\'Sleeper\\'s Row\\', during a trial period. \"Passengers flying in economy class will have the option to book an adjacent row of seats – from 3 to 4 seats – to lie down comfortably and have a good night of sleep while flying,\" it said.',\n",
       "  'category': 'business'},\n",
       " {'title': \"World's strictest corporate responsibility plan rejected in Switzerland vote\",\n",
       "  'aritcle': \"A plan in Switzerland to impose the world's strictest corporate responsibility rules failed to pass in a vote. It would've amended the Swiss constitution and forced Swiss-headquartered MNCs to ensure they and their suppliers respected strict human rights and environmental protection standards. Some 50.7% voters backed the initiative, according to results published by ATS national news agency.\",\n",
       "  'category': 'business'},\n",
       " {'title': \"Singapore's DBS Group completes takeover of Lakshmi Vilas Bank\",\n",
       "  'aritcle': 'Singapore’s DBS Group on Monday said it has completed its takeover of Lakshmi Vilas Bank (LVB), helping it expand from over 30 branches in India to having more than 550 now. DBS confirmed it would continue to employ around 4,000 LVB staff. Rebranding of LVB branches has begun and ATM screens have also been reconfigured to reflect DBS’s logo.',\n",
       "  'category': 'business'},\n",
       " {'title': 'NDTV founders Prannoy and Radhika Roy barred from securities market for 2 yrs',\n",
       "  'aritcle': 'Markets regulator SEBI has barred NDTV founders Prannoy Roy and Radhika Roy from the securities market for two years. They have also been directed to return the illegal gains of more than ₹16.97 crore for indulging in insider trading more than 12 years ago. SEBI has barred former group CEO Vikramaditya Chandra from accessing securities market for one year.',\n",
       "  'category': 'business'},\n",
       " {'title': \"Hope US won't erect barriers to cooperation: China on blacklist report\",\n",
       "  'aritcle': \"China, in response to reports of US adding Chinese chipmaker SMIC and national offshore oil producer CNOOC to a defence blacklist, said that it hoped US will not erect barriers and obstacles to cooperation. Reuters reported that President Donald Trump's administration is poised to add SMIC and CNOOC to a list of companies allegedly owned or controlled by Chinese military.\",\n",
       "  'category': 'business'},\n",
       " {'title': 'Tokyo Stock Exchange CEO to resign over outage that halted trading for a day',\n",
       "  'aritcle': \"Tokyo Stock Exchange (TSE) President and CEO Koichiro Miyahara will step down to accept responsibility over a system failure last month that resulted in the first all-day stoppage of trading since the exchange switched to all-electronic trading in 1999. Akira Kiyota, the Group CEO of Japan Exchange Group that runs the TSE, will temporarily take over Miyahara's role.\",\n",
       "  'category': 'business'},\n",
       " {'title': 'Case for immediate rollout of 5G in India compelling: Qualcomm',\n",
       "  'aritcle': 'Qualcomm India and SAARC President Rajen Vagadia said the case for the immediate rollout of 5G in India is \"compelling\" and \"it\\'s no longer a choice, but a prerequisite for the country’s growth and development\". He added that the government can trigger growth of the telecom space by releasing spectrum, including 5G, in adequate quantity and at affordable prices.',\n",
       "  'category': 'business'},\n",
       " {'title': 'US to add Chinese chipmaker SMIC to defence blacklist: Reports',\n",
       "  'aritcle': \"President Donald Trump's administration is set to add Chinese chipmaker SMIC and state-owned offshore oil and gas producer CNOOC to its defence blacklist of companies it alleges are owned or controlled by Chinese military. Two other companies have also been added to the list, bringing the count to 35. SMIC responded saying it is not associated with the Chinese military. \",\n",
       "  'category': 'business'},\n",
       " {'title': \"Ant Group's IPO may not be revived before 2022: Report\",\n",
       "  'aritcle': \"Jack Ma-owned Ant Group's initial public offering (IPO) may not be revived before 2022 as the company is still in the early stages of reviewing changes needed to appease the regulators, officials told Bloomberg. There's so much work needed and some rules are not yet spelled out, they added. Ant's $35-billion IPO was poised to become the largest IPO ever.\",\n",
       "  'category': 'business'},\n",
       " {'title': \"Hyundai, Kia agree to $210M US penalty for delay in vehicles' recall\",\n",
       "  'aritcle': 'Hyundai and Kia Motors have agreed to $140 million and $70 million civil penalties, respectively, after US auto safety regulators said they delayed recall of 1.6 million vehicles for engine issues. The settlement covers recall in 2015 and 2017 for manufacturing issues. Kia denied the allegations but agreed to settle the matter to \"avoid a protracted dispute with the government\".',\n",
       "  'category': 'business'},\n",
       " {'title': \"Elon Musk's Tesla becomes 6th largest US company\",\n",
       "  'aritcle': \"Elon Musk's electric car company Tesla has become the sixth-largest company in the US by market capitalisation hitting the $555.24 billion mark and surpassing Warren Buffett’s Berkshire Hathaway. Tesla now trails Apple followed by Microsoft, Amazon, Alphabet and Facebook. Tesla's value is greater than Toyota ($23.66 billion), Ford ($35.52 billion), and General Motors ($64.49 billion) combined.\",\n",
       "  'category': 'business'},\n",
       " {'title': 'Reliance confirms acquisition of minority stake in Zivame',\n",
       "  'aritcle': \"Reliance Industries (RIL), in an exchange filing, has listed Zivame as an associate company, which is defined as one in which a director, sponsor or venture capital fund holds equity in excess of 15%. Earlier, reports emerged stating Ronnie Screwvala's Unilazer Ventures had sold its 15% stake in Zivame to Reliance. RIL was also reportedly looking to acquire Zivame wholly.\",\n",
       "  'category': 'business'},\n",
       " {'title': 'CAIT accuses e-comm firms of violating FDI norms in letter to PM Modi',\n",
       "  'aritcle': 'The Confederation of All India Traders, in a letter to Prime Minister Narendra Modi, accused e-commerce companies of \"monopolising the...retail trade of India with their malpractices and violating FDI policy\". It added that it\\'s \"most unfortunate\" that \"various government authorities have failed to protect the sanctity of the policy\" and demanded an e-commerce policy to be announced immediately.',\n",
       "  'category': 'business'},\n",
       " {'title': 'IRDAI gives in-principle approval to Bharti AXA-ICICI Lombard merger',\n",
       "  'aritcle': 'The Insurance Regulatory and Development Authority of India (IRDAI) on Friday gave in-principle approval for the merger of Bharti AXA General with ICICI Lombard. ICICI Lombard said it is obtaining further approvals from other regulators for the transaction. The consolidated entity will have a roughly 8.7% market share on a pro forma basis in the non-life business, it added.',\n",
       "  'category': 'business'},\n",
       " {'title': 'Haryana farmer earns ₹50L profit selling stubble, PM Modi mentions him',\n",
       "  'aritcle': \"In this month's 'Mann Ki Baat’ on Sunday, Prime Minister Narendra Modi hailed Virendra Yadav, a farmer entrepreneur from Haryana’s Kaithal who has sold stubble worth over ₹2.5 crore and made a profit of approximately ₹50 lakh. Modi said Yadav bought a machine to make bales from stubble to sell to agro energy plants and paper mills. \",\n",
       "  'category': 'business'},\n",
       " {'title': 'Singapore, US lead FDI inflows; software sector receives the most',\n",
       "  'aritcle': \"Singapore with ₹62,084 crore and US with ₹53,266 crore have been the biggest contributors towards FDI inflows to India between April and September 2020, according to government data. In this fiscal's second quarter, India has received over ₹2 lakh crore worth FDI inflows. The software and hardware sector has received the most, at ₹1.31 lakh crore between April and September.\",\n",
       "  'category': 'business'},\n",
       " {'title': 'HSBC considers complete exit from US retail banking: Report',\n",
       "  'aritcle': 'British multinational investment bank HSBC Holdings is considering a complete exit from retail banking in the US, to help its struggling North America business, Financial Times reported. The bank’s senior management might reportedly present the plan to the board in the coming weeks. The bank earlier said it would accelerate the transformation of its US business and reduce annual costs.',\n",
       "  'category': 'business'},\n",
       " {'title': 'Burger King IPO to open on Dec 2, share price band set at ₹59-60',\n",
       "  'aritcle': \"US-based Burger King's Indian subsidiary is set to come out with its initial public offering (IPO) on December 2, with the price band fixed at ₹59-60 per share. The issue size for the IPO is ₹810 crore, of which fresh issues comprise ₹450 crore. The last date for subscription in the IPO is December 4.\",\n",
       "  'category': 'business'},\n",
       " {'title': 'Baba Ramdev to be on board of Ruchi Soya, brother to be MD',\n",
       "  'aritcle': \"Baba Ramdev and close aide Acharya Balkrishna will be on the board of soya food brand Nutrela-maker Ruchi Soya that was recently acquired by Patanjali Ayurved. Ramdev's younger brother Ram Bharat has also been appointed as the Managing Director of the company. Last year, Ramdev’s Patanjali Ayurved paid ₹4,350 crore to take over Ruchi Soya. \",\n",
       "  'category': 'business'},\n",
       " {'title': 'S&P Global in advanced talks to buy IHS Markit for $44 bn: Report',\n",
       "  'aritcle': 'S&P Global is in advanced talks to acquire London-based data provider IHS Markit in a deal worth roughly $44 billion, reported the Wall Street Journal. The deal, which at that price would reportedly be the largest this year, could be announced by Monday. S&P Global is valued at about $82 billion, while IHS Markit is worth about $37 billion.',\n",
       "  'category': 'business'},\n",
       " {'title': 'Hacker selling access to email accounts of CEOs, CFOs for as less as ₹7,400',\n",
       "  'aritcle': 'A hacker is selling passwords for email accounts of hundreds of C-level executives at companies across the world, according to a report on ZDNet. \"The data is being sold on a closed-access underground forum for Russian-speaking hackers named Exploit.in,\" the report said. Access to the accounts is being sold for prices ranging from $100 to $1,500 (₹7,400 to ₹1.1 lakh).',\n",
       "  'category': 'technology'},\n",
       " {'title': 'Who is Masetti, engineer praised by PM Modi for teaching Vedanta in Brazil?',\n",
       "  'aritcle': \"PM Narendra Modi during 'Mann Ki Baat' address praised Jonas Masetti, a Brazilian who worked for his stock market company after completing mechanical engineering. Also known as 'Vishvanath', Masetti teaches Vedanta and Geeta to people in Brazil and runs an institution named Vishva Vidya. He studied Vedanta Philosophy in India, staying at Arsha Vidya Gurukulam in Coimbatore for four years.\",\n",
       "  'category': 'technology'},\n",
       " {'title': \"Have funded 'hackers' to prove US election fraud: Overstock's ex-CEO\",\n",
       "  'aritcle': 'Former CEO of Overstock.com Patrick Byrne, in an interview with One America News (OAN), said that he has hired a \"team of hackers and cybersleuths, other people with odd skills\" to uncover fraud in the 2020 US presidential election. Byrne had resigned from Overstock in 2019 after admitting to a relationship with a Russian spy.',\n",
       "  'category': 'technology'},\n",
       " {'title': 'IISc researchers develop wastewater treatment & recycling system',\n",
       "  'aritcle': 'Researchers at IISc, Bengaluru, claim to have developed a decentralised wastewater treatment and recycling system at a school in Karnataka. IISc said over the past year the system has enabled the reuse of wastewater and reduced dependence on freshwater resources. It was used to treat about 667 litres of greywater, saving around 1.8 lakh litres of water annually, IISc added.',\n",
       "  'category': 'technology'},\n",
       " {'title': 'Pune policeman loses ₹1.3 lakh in suspected card cloning case',\n",
       "  'aritcle': 'A Pune policeman lost ₹1.3 lakh between November 1-4 in a suspected debit card cloning case. As per an FIR, the money was deducted from his account over 33 withdrawals at various ATMs. The victim suspects his card details were skimmed at the ATM he had last used. After withdrawing the cash he had given his phone for repair.',\n",
       "  'category': 'technology'},\n",
       " {'title': \"ITU completes 'successful' evaluation of India's 5Gi technology\",\n",
       "  'aritcle': 'The International Telecommunication Union (ITU) has completed the \"successful evaluation\" of three new technologies, including the \"5Gi\" submitted by the Telecommunications Standards Development Society, India (TSDSI), which has now achieved \"global validation\". These radio interfaces will be used in full-scale commercial deployment of fifth generation mobile communication networks, ITU said.',\n",
       "  'category': 'technology'},\n",
       " {'title': 'Microsoft designs tool to score meetings based on body language',\n",
       "  'aritcle': 'Microsoft has filed a patent application for its tool called Meeting Insight Computing System which would \"score\" meetings by studying body language, facial expressions, room temperature and number of people in the meeting among others. This could apply to virtual and physical meetings, by deploying cameras and sensors. The system could also predict the likelihood of a high-quality meeting.',\n",
       "  'category': 'technology'},\n",
       " {'title': 'Global 5G subscriptions to rise to 22 crore by year end: Ericsson',\n",
       "  'aritcle': \"Swedish telecom company Ericsson on Monday raised its global forecast for 5G mobile subscriptions from 19 crore to 22 crore by the end of 2020. Ericsson's Business Area Networks head Fredrik Jejdling said that nearly 100 crore people are expected to be in an area that would be covered by 5G by the end of the year.\",\n",
       "  'category': 'technology'},\n",
       " {'title': 'US maintains ban on phone calls during flights',\n",
       "  'aritcle': 'US\\' Federal Communications Commission (FCC) has killed a proposal to allow in-flight voice calls via mobile phones after the proposition drew \"strong opposition\". The proposal \"fail[s] to address significant safety and national security concerns,\" according to US pilots and flight attendants. The FCC made the proposal in 2013 to allow mobile telephone conversations above 10,000 feet. ',\n",
       "  'category': 'technology'},\n",
       " {'title': \"UK investors lost $12M to 'cloning' scams since March: Trade body\",\n",
       "  'aritcle': \"UK's Investment Association said that over 200 British retail investors lost $12.56 million (£9.4 million) to internet scams between March and October, with number of reported scams rising to 1,175 in October from 300 in July. The trade body said that fraudsters cloned genuine investment management firms' websites and documentation and advertised fake products on fake price comparison websites.\",\n",
       "  'category': 'technology'},\n",
       " {'title': \"Ant Group's IPO may not be revived before 2022: Report\",\n",
       "  'aritcle': \"Jack Ma-owned Ant Group's initial public offering (IPO) may not be revived before 2022 as the company is still in the early stages of reviewing changes needed to appease the regulators, officials told Bloomberg. There's so much work needed and some rules are not yet spelled out, they added. Ant's $35-billion IPO was poised to become the largest IPO ever.\",\n",
       "  'category': 'technology'},\n",
       " {'title': \"US lawmaker plays 'Among Us' on Twitch, raises ₹1.5 cr for COVID-19 relief\",\n",
       "  'aritcle': \"US Representative Alexandria Ocasio-Cortez of New York live-streamed herself playing 'Among Us' on Twitch. She used the livestream to raise nearly ₹1.5 crore for local food pantries, eviction defence legal aid and community support organisations amid COVID-19. Last month, Alexandria had used Twitch in an effort to increase voter turnout for Election Day.\",\n",
       "  'category': 'technology'},\n",
       " {'title': \"UK bans new 5G equipment from China's Huawei starting Sept 2021\",\n",
       "  'aritcle': \"The UK government on Monday banned British telecommunications firms from installing new Huawei 5G kits after September 2021. The country had already ordered all Huawei equipment to be removed from its 5G network by the end of 2027, a move in line with the US' sanctions against the Chinese telecom firm. Huawei had said it was disappointed at the move.\",\n",
       "  'category': 'technology'},\n",
       " {'title': 'Twitter suspends Thai pro-monarchy account for platform manipulation',\n",
       "  'aritcle': 'Twitter has suspended a Thai pro-monarchy account linked to a coordinated information campaign that was working to counter a months-long protest against the Thai King and the monarchy. The account was amplifying royalist messages and was reported to be behind several thousand tweets. Twitter said the account was suspended for violating rules on spam and platform manipulation.',\n",
       "  'category': 'technology'},\n",
       " {'title': 'US to add Chinese chipmaker SMIC to defence blacklist: Reports',\n",
       "  'aritcle': \"President Donald Trump's administration is set to add Chinese chipmaker SMIC and state-owned offshore oil and gas producer CNOOC to its defence blacklist of companies it alleges are owned or controlled by Chinese military. Two other companies have also been added to the list, bringing the count to 35. SMIC responded saying it is not associated with the Chinese military. \",\n",
       "  'category': 'technology'},\n",
       " {'title': 'Tokyo Stock Exchange CEO to resign over outage that halted trading for a day',\n",
       "  'aritcle': \"Tokyo Stock Exchange (TSE) President and CEO Koichiro Miyahara will step down to accept responsibility over a system failure last month that resulted in the first all-day stoppage of trading since the exchange switched to all-electronic trading in 1999. Akira Kiyota, the Group CEO of Japan Exchange Group that runs the TSE, will temporarily take over Miyahara's role.\",\n",
       "  'category': 'technology'},\n",
       " {'title': 'Global smartphone sales in Q3 falls 5.7% to 36.6 cr units: Gartner',\n",
       "  'aritcle': 'The global smartphone sales in the third quarter of 2020 fell by 5.7% year-on-year to 36.6 crore units, according to Gartner. Overall global mobile phone sales to end users totalled 40.1 crore units, a decline of 8.7% year-on-year. Samsung held the top position with a market share of 22%, followed by Huawei with 14.1%.',\n",
       "  'category': 'technology'},\n",
       " {'title': 'Case for immediate rollout of 5G in India compelling: Qualcomm',\n",
       "  'aritcle': 'Qualcomm India and SAARC President Rajen Vagadia said the case for the immediate rollout of 5G in India is \"compelling\" and \"it\\'s no longer a choice, but a prerequisite for the country’s growth and development\". He added that the government can trigger growth of the telecom space by releasing spectrum, including 5G, in adequate quantity and at affordable prices.',\n",
       "  'category': 'technology'},\n",
       " {'title': \"US scientists create world's smallest ever memory unit\",\n",
       "  'aritcle': 'Scientists from the University of Texas at Austin in the US have created the smallest memory device yet, with the cross section area measuring a single square nanometer. Some applications could be ultra-dense storage and radio-frequency communication systems, according to the researchers. The current research builds on the \"atomristor\", which was the thinnest memory storage device two years ago.',\n",
       "  'category': 'technology'},\n",
       " {'title': \"Italy fines Apple $12M for 'misleading' water-resistant iPhone ads\",\n",
       "  'aritcle': 'Italy\\'s antitrust body has fined Apple $12 million for \"aggressive and misleading\" commercial practices regarding iPhones. The regulator said Apple advertised that several iPhone models were water-resistant without clarifying they were only so under certain circumstances. It added that Apple\\'s disclaimer of the models not being covered by warranty in case of damage from liquids tricked clients.',\n",
       "  'category': 'technology'},\n",
       " {'title': \"Man dressed as Amazon staff steals packages from people's porches in US\",\n",
       "  'aritcle': \"The Richmond Police in the US has released a picture of the man who has been stealing packages from people's front porches, dressed as an Amazon delivery driver. The man walks up to people's homes with a dummy box in hand and swaps them with parcels that are already present. After picking up packages, he leaves in a blue car.\",\n",
       "  'category': 'technology'},\n",
       " {'title': 'Amazon Web Services outage was triggered by capacity upgrade',\n",
       "  'aritcle': 'Amazon\\'s cloud computing network, Amazon Web Services\\' (AWS) major outage on Wednesday was triggered by an effort to upgrade capacity, the company said. \"The trigger, though not root cause, for the event was a relatively small addition of capacity,\" it said. The outage impacted Bezos-owned The Washington Post, video-streaming service Roku, Flickr and the New York subway, among others.',\n",
       "  'category': 'technology'},\n",
       " {'title': 'Microsoft Teams to stop working on Internet Explorer 11 from Nov 30',\n",
       "  'aritcle': 'Microsoft Teams will stop working on Internet Explorer 11 from today, November 30. Users will now need to download the Teams app or browse it on Microsoft Edge. Besides this, Microsoft 365 apps and services will stop supporting Internet Explorer 11 by August 2021. Microsoft will also pull support for Microsoft Edge Legacy desktop app on March 9.',\n",
       "  'category': 'technology'},\n",
       " {'title': \"Hope US won't erect barriers to cooperation: China on blacklist report\",\n",
       "  'aritcle': \"China, in response to reports of US adding Chinese chipmaker SMIC and national offshore oil producer CNOOC to a defence blacklist, said that it hoped US will not erect barriers and obstacles to cooperation. Reuters reported that President Donald Trump's administration is poised to add SMIC and CNOOC to a list of companies allegedly owned or controlled by Chinese military.\",\n",
       "  'category': 'technology'},\n",
       " {'title': 'US internet entrepreneur and ex-Zappos CEO Tony Hsieh dies at 46',\n",
       "  'aritcle': 'Former CEO of online fashion retailer Zappos Tony Hsieh has died aged 46 after a house fire in Connecticut, US. Hsieh was reportedly visiting family, having recently retired after 20 years leading Zappos, which was acquired by Amazon for more than $1 billion in 2009. Hsieh sold his first company to Microsoft in 1998 for $265 million.',\n",
       "  'category': 'technology'},\n",
       " {'title': \"You don't have 'aukat' for comparison when you're working with Ranveer, Varun: Sara\",\n",
       "  'aritcle': 'Sara Ali Khan, when asked about her experience of featuring in two comedies, and what it taught her about space for women in the genre, said she doesn\\'t compare herself with her co-actors. \"When you\\'re working with people like Ranveer, Varun, aapki aukat nahin hoti to make...comparisons,\" she added. \"Screen time doesn\\'t matter...These people teach you so much,\" said Sara.',\n",
       "  'category': 'entertainment'},\n",
       " {'title': \"Wajid's mom told him to remarry as we hadn't married as per Muslim law: Wife\",\n",
       "  'aritcle': 'Late composer Wajid Khan\\'s wife Kamalrukh, who alleged harassment by his family to convert to Islam, said, \"I need to fight for my children\\'s...inheritance as his family has usurped his assets post his death.\" \"Wajid\\'s family [insisted]...our marriage was illegitimate since we hadn\\'t married as per Muslim law...His mother would openly tell Wajid, in my presence, to re-marry,\" she added.',\n",
       "  'category': 'entertainment'},\n",
       " {'title': \"Bigg Boss 14's Pavitra Punia is my wife, she had 4 affairs during marriage: Hotelier\",\n",
       "  'aritcle': 'A hotelier named Sumit Maheshwari has claimed that Bigg Boss 14 contestant Pavitra Punia is his wife. He accused Pavitra of having four affairs during their marriage. Naming ex-Bigg Boss contestant Paras Chhabra as one of her ex-boyfriends, Sumit stated, \"I told him you can be in a relationship with her but wait till our divorce. My family is involved.\"',\n",
       "  'category': 'entertainment'},\n",
       " {'title': \"Ronit Roy's son gets blank paper after ordering GTA 5 for PS4, actor shares video\",\n",
       "  'aritcle': 'Actor Ronit Roy on Monday alleged that his son received a blank piece of paper after ordering GTA 5 for Play Station 4 online. Sharing a video, Ronit tagged an e-commerce platform and wrote, \"Please look into this immediately.\" Replying to this, the e-commerce platform tweeted, \"Sorry to know about the unpleasant experience you had...We\\'d like to get this checked.\"',\n",
       "  'category': 'entertainment'},\n",
       " {'title': \"I've been cutting my own hair for 25 yrs, it takes literally 2 mins: Clooney\",\n",
       "  'aritcle': 'In an interview on \\'CBS Sunday Morning\\', George Clooney revealed he has been cutting his own hair for twenty-five years. \"My hair is...like straw. So it\\'s easy to cut, can\\'t really make too many mistakes,\" he added. \"Years ago, I bought a...Flowbee...The thing with the vacuum cleaner and clippers...I still have it. My haircuts take, literally, two minutes,\" Clooney stated.',\n",
       "  'category': 'entertainment'},\n",
       " {'title': 'Video of packed concert sparks COVID-19 fears; rapper says rules followed',\n",
       "  'aritcle': 'A video of a packed concert in Russia\\'s St Petersburg has raised concerns online over the risk of rising COVID-19 transmission. \"Thanks to everyone who was at the concert today for this long-awaited meeting! Thank you for your understanding and compliance with the safety rules,\" Rapper Basta wrote. Officials said the event had been fully approved and checked by authorities.',\n",
       "  'category': 'entertainment'},\n",
       " {'title': 'Raju has spoiled his relationship with everyone by speaking against Bharti: Krushna',\n",
       "  'aritcle': 'Speaking about Raju Srivastava\\'s comments against Bharti Singh after her arrest over ganja consumption, Krushna Abhishek said, \"Raju Srivastava ne...bohot...bakwaas kee hai. What he said was shocking.\" \"He has spoiled his relationship with everyone for a lifetime. \\'The Kapil Sharma Show\\' team is very upset with him,\" Krushna added. Raju had expressed his anger towards Bharti after her arrest.',\n",
       "  'category': 'entertainment'},\n",
       " {'title': \"Man says Johar is his 'favourite B'wood wife', director replies 'this made me laugh'\",\n",
       "  'aritcle': 'Filmmaker Karan Johar has responded to a Twitter user who tweeted, \"I think we can all agree that the favourite wife in #FabulousLivesofBollywoodWives is Karan Johar.\" The man wrote this while referring to Johar\\'s new web series. \"Ok this really made me laugh! A troll with a sense of humour is so refreshing!\" the director replied. ',\n",
       "  'category': 'entertainment'},\n",
       " {'title': 'TV actress claims she was raped by casting director at various locations',\n",
       "  'aritcle': 'Mumbai police have registered an FIR against a casting director for allegedly raping a 26-year-old TV actress on the pretext of marriage. The actress accused the casting director of raping her at various locations in the city. The accused, also aged 26, and the victim knew each other since the last two years, police officials said.',\n",
       "  'category': 'entertainment'},\n",
       " {'title': \"Rahul couldn't form sentences, started behaving unusually before brain stroke: Co-star\",\n",
       "  'aritcle': 'Nishant Singh Malkhani, co-star of actor Rahul Roy who suffered brain stroke while shooting in Kargil, revealed to ETimes the incident happened on Tuesday. \"He was a bit dull on Tuesday...He wasn\\'t able to deliver...dialogues. He wasn\\'t forgetting them but he...just couldn\\'t form sentences,\" said Nishant. \"Around evening, he started to behave...unusually, idhar udhar dekhne laga,\" Nishant added. ',\n",
       "  'category': 'entertainment'},\n",
       " {'title': 'Janhvi reveals she once received birthday wish from Kylie Jenner ',\n",
       "  'aritcle': 'Janhvi Kapoor, in an episode of \\'Fabulous Lives of Bollywood Wives\\', revealed she once got a birthday wish from American reality TV personality and businesswoman Kylie Jenner. After her aunt Maheep asked her about it, Janhvi can be seen taking out her phone and showing the video. \"Hey Janhvi, it\\'s Kylie! We love you,\" Kylie said in the video.',\n",
       "  'category': 'entertainment'},\n",
       " {'title': \"Janhvi to shoot for 'Kolamavu Kokila' remake in January: Reports\",\n",
       "  'aritcle': \"Actress Janhvi Kapoor will reportedly start shooting for filmmaker Aanand L Rai's upcoming movie, which is a remake of the 2018 Tamil film 'Kolamavu Kokila', on January 9, 2021. According to reports, Siddharth Sengupta, who was an assistant director in films like 'Agneepath' and 'Heartless', will direct the movie. The shooting will reportedly take place in various parts of Punjab.\",\n",
       "  'category': 'entertainment'},\n",
       " {'title': \"AR Rahman becomes India ambassador for BAFTA's Breakthrough initiative\",\n",
       "  'aritcle': 'Music composer AR Rahman has been announced as the India ambassador for the British Academy of Film and Television Arts (BAFTA) Breakthrough Initiative. The initiative is focused on identifying and supporting up to five talents working in film, games, or television in India. \"Looking forward to seeing the...talent chosen from India to be showcased on a global stage,\" Rahman said.',\n",
       "  'category': 'entertainment'},\n",
       " {'title': 'Rakhi, Kashmera and other former contestants to enter Bigg Boss house',\n",
       "  'aritcle': 'Several former Bigg Boss contestants, including Rakhi Sawant, Rahul Mahajan, Vikas Gupta, Arshi Khan, Kashmera Shah and Manu Panjabi, will soon make an appearance on season 14 of the reality show. The channel announced the news on Twitter and mentioned that the former contestants will be bringing more challenges for the current contestants. ',\n",
       "  'category': 'entertainment'},\n",
       " {'title': 'Hollywood gave me up: Hugh Grant on taking break from movies',\n",
       "  'aritcle': 'Sharing the reason behind taking a long break from the film business, actor Hugh Grant said, \"Hollywood gave me up because I made such a massive turkey with that film with Sarah Jessica Parker (Did You Hear About the Morgans?).\" He further told Los Angeles Times, \"The days of being a very well-paid leading man were suddenly gone overnight...It was...embarrassing.\" \\n',\n",
       "  'category': 'entertainment'},\n",
       " {'title': 'Riteish was after me to get back to work for the last 2 years: Genelia',\n",
       "  'aritcle': 'Actress Genelia Deshmukh, who took a break from working in films after getting married, said her actor-husband Riteish Deshmukh encouraged her to start working again. \"He was...after me to get back to work for the last 2 years...he told me that when I am busy, he will take off and vice versa. It is an understanding,\" she said.',\n",
       "  'category': 'entertainment'},\n",
       " {'title': 'Having Amal in my life changed everything for me: George Clooney',\n",
       "  'aritcle': 'In a recent interview, Hollywood actor George Clooney said that having his wife Amal Clooney in his life changed everything for him. \"It was the first time that...everything about her was infinitely more important than anything about me,\" he said on CBS Sunday Morning. He got married to Amal in 2014 and shares 3-year-old twins Alexander and Ella with her. ',\n",
       "  'category': 'entertainment'},\n",
       " {'title': 'It took me 25 years for nepotism to work: Sanjay Kapoor',\n",
       "  'aritcle': 'Actor Sanjay Kapoor, who made a guest appearance in Karan Johar produced reality web series \\'Fabulous Lives of Bollywood Wives\\', shared his thoughts on the nepotism debate. \"It took me twenty-five years for finally this nepotism to work. I\\'ve known Karan for 30 years. So finally, it\\'s work which has got me work, not nepotism,\" he said. ',\n",
       "  'category': 'entertainment'},\n",
       " {'title': 'Watching movies on big screens is a different feeling: Rahul Dev',\n",
       "  'aritcle': 'Speaking about the \"pleasure\" of watching films in theatres, actor Rahul Dev said, \"The promos, which released recently, if [you] watch them on the big screen you will like them more...Watching a movie in a group is a different feeling altogether.\" Rahul\\'s next film titled \\'Torbaaz\\', which also stars Sanjay Dutt, will release on a digital platform on December 11.   ',\n",
       "  'category': 'entertainment'},\n",
       " {'title': \"Karan Deol joins Sunny, Bobby, Dharmendra in 'Apne 2'\",\n",
       "  'aritcle': 'Veteran actor Dharmendra and his sons, Sunny Deol and Bobby Deol, on Monday officially announced the sequel to their 2007 film \\'Apne\\' and revealed that the upcoming movie will also star Sunny\\'s son Karan Deol. \"Feeling blessed to get a chance to work with my father, brother again this time with my son. #Apne2, in cinemas Diwali 2021,\" Sunny wrote. \\n',\n",
       "  'category': 'entertainment'},\n",
       " {'title': \"Sean Connery's cause of death revealed as respiratory failure\",\n",
       "  'aritcle': \"Actor Sean Connery's death certificate shows that the 'James Bond' star died in his sleep from respiratory failure as a result of pneumonia, old age and atrial fibrillation, TMZ reported. Atrial fibrillation is an irregular heart rate that can increase the risk of strokes and heart failure. Connery passed away on October 31 at 1:30 am at his home. \",\n",
       "  'category': 'entertainment'},\n",
       " {'title': \"I never socialised and I still don’t, you can't change that: Yami\",\n",
       "  'aritcle': 'Speaking about her journey in the film industry, actress Yami Gautam said, \"I never socialised and I still don\\'t...I guess each one of us has a core and you can\\'t change that.\" She further said, \"One of the things about the industry is that if you aren\\'t a people\\'s person, it\\'s very difficult for you to survive.\" ',\n",
       "  'category': 'entertainment'},\n",
       " {'title': 'Abhinav and I were about to get divorced: Rubina Dilaik',\n",
       "  'aritcle': 'Television actress Rubina Dilaik revealed that she and her husband Abhinav Shukla were on the verge of filing for divorce before entering the Bigg Boss 14 house. \"We had given each other time till November. We were about to get divorced. If we hadn\\'t come here we would not have been together,\" she said on the reality show on Sunday. \\n\\n',\n",
       "  'category': 'entertainment'}]"
      ]
     },
     "execution_count": 58,
     "metadata": {},
     "output_type": "execute_result"
    }
   ],
   "source": [
    "get_all_news(urls)"
   ]
  },
  {
   "cell_type": "markdown",
   "metadata": {},
   "source": [
    "## Testing Acquire.py functions"
   ]
  },
  {
   "cell_type": "code",
   "execution_count": 62,
   "metadata": {},
   "outputs": [],
   "source": [
    "import acquire as ac"
   ]
  },
  {
   "cell_type": "code",
   "execution_count": 63,
   "metadata": {},
   "outputs": [],
   "source": [
    "blogs = ac.get_all_blogs()\n",
    "news = ac.get_all_news()"
   ]
  },
  {
   "cell_type": "code",
   "execution_count": 67,
   "metadata": {},
   "outputs": [
    {
     "data": {
      "text/plain": [
       "{'title': 'Data Science Myths',\n",
       " 'article': 'By Dimitri Antoniou and Maggie Giust\\nData Science, Big Data, Machine Learning, NLP, Neural Networks…these buzzwords have rapidly spread into mainstream use over the last few years. Unfortunately, definitions are varied and sources of truth are limited. Data Scientists are in fact not magical unicorn wizards who can snap their fingers and turn a business around! Today, we’ll take a cue from our favorite Mythbusters to tackle some common myths and misconceptions in the field of Data Science.\\n\\nvia GIPHY\\nMyth #1: Data Science = Statistics\\nAt first glance, this one doesn’t sound unreasonable. Statistics is defined as, “A branch of mathematics dealing with the collection, analysis, interpretation, and presentation of masses of numerical data.” That sounds a lot like our definition of Data Science: a method of drawing actionable intelligence from data. \\nIn truth, statistics is actually one small piece of Data Science. As our Senior Data Scientist puts it, “Statistics forces us to make assumptions about the nature of the relationship between variables, the distribution of the data, etc.” In the traditional Data Science venn diagram, you’ll see that math/stats make up ⅓ of a working professional. These are tools and skills to leverage, but data science itself is about drawing intelligence from data.\\nBUSTED\\n\\nvia GIPHY\\n\\xa0\\nMyth #2: Data Scientist = Business/Data Analyst\\nThis one is so common that we wrote a whole post about it! These are separate and different roles within the data field. While a data scientist will often do analytics, their spectrum of work is wider. A data analyst will use structured data to create dashboards and KPIs, while a Data Scientist deals with unstructured and messy data for a range of outputs. If they’re interested, business analysts will often progress to data scientists.\\nBUSTED\\n\\nvia GIPHY\\n\\xa0\\nMyth #3: Data Science = Data Science\\nThis one’s tricky, because it’s impossible to either confirm or bust! The ‘myth’ is that one person or company using the term Data Science is not necessarily the same as another person or company using the same term. Depending on organizational capacity, individual experience, educational background, and many other variables, we might be using the same name for different animals.\\nTl;dr: don’t assume a common understanding across hiring managers, recruiters, and practitioners. Look instead for specifics of tools, techniques, methodologies, and outputs. That being said, this one falls in the “plausible” category, because it may actually be true in some circumstances, while false in others.\\nPLAUSIBLE\\n\\nvia GIPHY\\n\\xa0\\nMyth #4: Data Science curricula are well-defined and consistent.\\nWe recommend checking this one out for yourself! A quick google search for bootcamps, master’s degree programs, and online courses will reveal that different organizations teach different things. There is no commonly accepted framework for teaching data science! Some focus more on the engineering, others focus more on machine learning, some think deep learning is foundational, and some prefer to use R. \\nOur curriculum was built through employer interviews, practitioner interviews, market research, and company partnerships. But we’re based in San Antonio! A bootcamp in New York might follow the same process and end up with a different syllabus. Keep in mind, whatever your learning path, that there will be gaps in your learning. The most important thing is to recognize those gaps.\\nBUSTED\\n\\nvia GIPHY\\n\\xa0\\nMyth #5: If I want to be a data scientist, I just need to learn Python or R.\\nThis one is common and dangerous! Just like statistics, programming languages like Python and R are tools. They’re just pieces of a larger puzzle! Knowing Python without understanding the data science pipeline is like knowing how to build a floor without having a floor plan. Of course, these are valuable technical skills that give you a leg up, but they’re second in importance to asking the right questions, knowing what tools to use when, and communicating your findings.\\nBUSTED\\n\\nvia GIPHY\\nStill have questions? Reach out to us! We’re always here to help.\\n\\n'}"
      ]
     },
     "execution_count": 67,
     "metadata": {},
     "output_type": "execute_result"
    }
   ],
   "source": [
    "blogs[1]"
   ]
  },
  {
   "cell_type": "code",
   "execution_count": 68,
   "metadata": {},
   "outputs": [
    {
     "data": {
      "text/plain": [
       "{'title': \"Messi pays his tribute, reveals Maradona's jersey after scoring a goal\",\n",
       " 'aritcle': \"Barcelona's Lionel Messi honoured Diego Maradona's memory by stripping off his Barcelona top to reveal Maradona's Newell's Old Boys jersey after scoring the final goal against Osasuna on Sunday. Messi played for Argentine club Newell's before joining Barcelona at age of 13 while Maradona played five matches for them in 1994. Maradona died of a heart attack on November 25.\",\n",
       " 'category': 'sports'}"
      ]
     },
     "execution_count": 68,
     "metadata": {},
     "output_type": "execute_result"
    }
   ],
   "source": [
    "news[10]"
   ]
  }
 ],
 "metadata": {
  "kernelspec": {
   "display_name": "Python 3",
   "language": "python",
   "name": "python3"
  },
  "language_info": {
   "codemirror_mode": {
    "name": "ipython",
    "version": 3
   },
   "file_extension": ".py",
   "mimetype": "text/x-python",
   "name": "python",
   "nbconvert_exporter": "python",
   "pygments_lexer": "ipython3",
   "version": "3.7.6"
  }
 },
 "nbformat": 4,
 "nbformat_minor": 4
}
