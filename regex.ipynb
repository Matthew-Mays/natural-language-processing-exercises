{
 "cells": [
  {
   "cell_type": "code",
   "execution_count": 1,
   "metadata": {},
   "outputs": [],
   "source": [
    "import re\n",
    "import pandas as pd"
   ]
  },
  {
   "cell_type": "markdown",
   "metadata": {},
   "source": [
    "### 1. Write a function named is_vowel. It should accept a string as input and use a regular expression to determine if the passed string is a vowel."
   ]
  },
  {
   "cell_type": "code",
   "execution_count": 22,
   "metadata": {},
   "outputs": [],
   "source": [
    "def is_vowel(string):\n",
    "    regex = r'[aeiou]'\n",
    "    return bool(re.search(regex, string))"
   ]
  },
  {
   "cell_type": "code",
   "execution_count": 27,
   "metadata": {},
   "outputs": [
    {
     "data": {
      "text/plain": [
       "True"
      ]
     },
     "execution_count": 27,
     "metadata": {},
     "output_type": "execute_result"
    }
   ],
   "source": [
    "is_vowel('a')"
   ]
  },
  {
   "cell_type": "markdown",
   "metadata": {},
   "source": [
    "### 2. Write a function named is_valid_username that accepts a string as input. A valid username starts with a lowercase letter, and only consists of lowercase letters, numbers, or the _ character. It should also be no longer than 32 characters. The function should return either True or False depending on whether the passed string is a valid username."
   ]
  },
  {
   "cell_type": "code",
   "execution_count": 31,
   "metadata": {},
   "outputs": [],
   "source": [
    "regex = r'^[a-z\\d_]+'\n",
    "string = 'valid_username13'"
   ]
  },
  {
   "cell_type": "code",
   "execution_count": 32,
   "metadata": {},
   "outputs": [
    {
     "data": {
      "text/plain": [
       "['valid_username13']"
      ]
     },
     "execution_count": 32,
     "metadata": {},
     "output_type": "execute_result"
    }
   ],
   "source": [
    "re.findall(regex, string)"
   ]
  },
  {
   "cell_type": "code",
   "execution_count": 49,
   "metadata": {},
   "outputs": [],
   "source": [
    "def is_valid_username(username):\n",
    "    regex = r'^[a-z][a-z\\d_]+'\n",
    "    if len(username) > 32:\n",
    "        return False\n",
    "    else:\n",
    "        return bool(re.search(regex, username))"
   ]
  },
  {
   "cell_type": "code",
   "execution_count": 53,
   "metadata": {},
   "outputs": [
    {
     "name": "stdout",
     "output_type": "stream",
     "text": [
      "False\n",
      "True\n",
      "False\n",
      "True\n",
      "False\n"
     ]
    }
   ],
   "source": [
    "print(is_valid_username('aaaaaaaaaaaaaaaaaaaaaaaaaaaaaaaaa'))\n",
    "print(is_valid_username('codeup'))\n",
    "print(is_valid_username('Codeup'))\n",
    "print(is_valid_username('codeup123'))\n",
    "print(is_valid_username('1codeup'))"
   ]
  },
  {
   "cell_type": "markdown",
   "metadata": {},
   "source": [
    "### 3. Write a regular expression to capture phone numbers. It should match all of the following:\n",
    "(210) 867 5309  \n",
    "+1 210.867.5309  \n",
    "867-5309  \n",
    "210-867-5309"
   ]
  },
  {
   "cell_type": "code",
   "execution_count": 195,
   "metadata": {},
   "outputs": [
    {
     "data": {
      "text/html": [
       "<div>\n",
       "<style scoped>\n",
       "    .dataframe tbody tr th:only-of-type {\n",
       "        vertical-align: middle;\n",
       "    }\n",
       "\n",
       "    .dataframe tbody tr th {\n",
       "        vertical-align: top;\n",
       "    }\n",
       "\n",
       "    .dataframe thead th {\n",
       "        text-align: right;\n",
       "    }\n",
       "</style>\n",
       "<table border=\"1\" class=\"dataframe\">\n",
       "  <thead>\n",
       "    <tr style=\"text-align: right;\">\n",
       "      <th></th>\n",
       "      <th>number</th>\n",
       "      <th>country_code</th>\n",
       "      <th>area_code</th>\n",
       "      <th>exchange_code</th>\n",
       "      <th>line_number</th>\n",
       "    </tr>\n",
       "  </thead>\n",
       "  <tbody>\n",
       "    <tr>\n",
       "      <th>0</th>\n",
       "      <td>(210) 867 5309</td>\n",
       "      <td>NaN</td>\n",
       "      <td>210</td>\n",
       "      <td>867</td>\n",
       "      <td>5309</td>\n",
       "    </tr>\n",
       "    <tr>\n",
       "      <th>1</th>\n",
       "      <td>+1 210.867.5309</td>\n",
       "      <td>+1</td>\n",
       "      <td>210</td>\n",
       "      <td>867</td>\n",
       "      <td>5309</td>\n",
       "    </tr>\n",
       "    <tr>\n",
       "      <th>2</th>\n",
       "      <td>867-5309</td>\n",
       "      <td>NaN</td>\n",
       "      <td>NaN</td>\n",
       "      <td>867</td>\n",
       "      <td>5309</td>\n",
       "    </tr>\n",
       "    <tr>\n",
       "      <th>3</th>\n",
       "      <td>210-867-5309</td>\n",
       "      <td>NaN</td>\n",
       "      <td>210</td>\n",
       "      <td>867</td>\n",
       "      <td>5309</td>\n",
       "    </tr>\n",
       "  </tbody>\n",
       "</table>\n",
       "</div>"
      ],
      "text/plain": [
       "            number country_code area_code exchange_code line_number\n",
       "0   (210) 867 5309          NaN       210           867        5309\n",
       "1  +1 210.867.5309           +1       210           867        5309\n",
       "2         867-5309          NaN       NaN           867        5309\n",
       "3     210-867-5309          NaN       210           867        5309"
      ]
     },
     "execution_count": 195,
     "metadata": {},
     "output_type": "execute_result"
    }
   ],
   "source": [
    "phone_number_re = re.compile(r'''\n",
    "^\n",
    "(?P<country_code>\\+\\d+)?\n",
    "\\D*?\n",
    "(?P<area_code>\\d{3})?\n",
    "\\D*?\n",
    "(?P<exchange_code>\\d{3})\n",
    "\\D*?\n",
    "(?P<line_number>\\d{4})\n",
    "\\D*\n",
    "$\n",
    "''', re.VERBOSE)\n",
    "\n",
    "df = pd.DataFrame()\n",
    "df['number'] = [\n",
    "    '(210) 867 5309',\n",
    "    '+1 210.867.5309',\n",
    "    '867-5309',\n",
    "    '210-867-5309',\n",
    "]\n",
    "pd.concat([df, df.number.str.extract(phone_number_re)], axis=1)"
   ]
  },
  {
   "cell_type": "code",
   "execution_count": 181,
   "metadata": {},
   "outputs": [],
   "source": [
    "regex = r'(\\+\\d+)?\\D?(\\d{3})\\D*?(\\d{3})\\D*?(\\d{4})\\D*?$'\n",
    "number = '+1 210.867.5309'"
   ]
  },
  {
   "cell_type": "code",
   "execution_count": 182,
   "metadata": {},
   "outputs": [
    {
     "data": {
      "text/plain": [
       "[('+1', '210', '867', '5309')]"
      ]
     },
     "execution_count": 182,
     "metadata": {},
     "output_type": "execute_result"
    }
   ],
   "source": [
    "re.findall(regex, number)"
   ]
  },
  {
   "cell_type": "code",
   "execution_count": 133,
   "metadata": {},
   "outputs": [],
   "source": [
    "regex = r'[(]?[+]?[\\d]+[.]?[-]?'\n",
    "number = '+1 210.867.5309'"
   ]
  },
  {
   "cell_type": "code",
   "execution_count": 134,
   "metadata": {},
   "outputs": [
    {
     "data": {
      "text/plain": [
       "['+1', '210.', '867.', '5309']"
      ]
     },
     "execution_count": 134,
     "metadata": {},
     "output_type": "execute_result"
    }
   ],
   "source": [
    "re.findall(regex, number)"
   ]
  },
  {
   "cell_type": "code",
   "execution_count": null,
   "metadata": {},
   "outputs": [],
   "source": []
  }
 ],
 "metadata": {
  "kernelspec": {
   "display_name": "Python 3",
   "language": "python",
   "name": "python3"
  },
  "language_info": {
   "codemirror_mode": {
    "name": "ipython",
    "version": 3
   },
   "file_extension": ".py",
   "mimetype": "text/x-python",
   "name": "python",
   "nbconvert_exporter": "python",
   "pygments_lexer": "ipython3",
   "version": "3.7.6"
  }
 },
 "nbformat": 4,
 "nbformat_minor": 4
}
