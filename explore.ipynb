{
 "cells": [
  {
   "cell_type": "code",
   "execution_count": 1,
   "metadata": {},
   "outputs": [],
   "source": [
    "import unicodedata\n",
    "import re\n",
    "import nltk\n",
    "from nltk.tokenize.toktok import ToktokTokenizer\n",
    "from nltk.corpus import stopwords\n",
    "import pandas as pd\n",
    "from wordcloud import WordCloud\n",
    "import matplotlib.pyplot as plt\n",
    "from acquire import get_all_blogs, get_all_news\n",
    "from prepare import basic_clean, tokenize, remove_stopwords, lemmatize"
   ]
  },
  {
   "cell_type": "markdown",
   "metadata": {},
   "source": [
    "## Exercises\n",
    "### 1. Spam Data"
   ]
  },
  {
   "cell_type": "markdown",
   "metadata": {},
   "source": [
    "### A. Load the spam data set"
   ]
  },
  {
   "cell_type": "code",
   "execution_count": 2,
   "metadata": {},
   "outputs": [
    {
     "data": {
      "text/html": [
       "<div>\n",
       "<style scoped>\n",
       "    .dataframe tbody tr th:only-of-type {\n",
       "        vertical-align: middle;\n",
       "    }\n",
       "\n",
       "    .dataframe tbody tr th {\n",
       "        vertical-align: top;\n",
       "    }\n",
       "\n",
       "    .dataframe thead th {\n",
       "        text-align: right;\n",
       "    }\n",
       "</style>\n",
       "<table border=\"1\" class=\"dataframe\">\n",
       "  <thead>\n",
       "    <tr style=\"text-align: right;\">\n",
       "      <th></th>\n",
       "      <th>label</th>\n",
       "      <th>text</th>\n",
       "    </tr>\n",
       "  </thead>\n",
       "  <tbody>\n",
       "    <tr>\n",
       "      <th>0</th>\n",
       "      <td>ham</td>\n",
       "      <td>Go until jurong point, crazy.. Available only ...</td>\n",
       "    </tr>\n",
       "    <tr>\n",
       "      <th>1</th>\n",
       "      <td>ham</td>\n",
       "      <td>Ok lar... Joking wif u oni...</td>\n",
       "    </tr>\n",
       "    <tr>\n",
       "      <th>2</th>\n",
       "      <td>spam</td>\n",
       "      <td>Free entry in 2 a wkly comp to win FA Cup fina...</td>\n",
       "    </tr>\n",
       "    <tr>\n",
       "      <th>3</th>\n",
       "      <td>ham</td>\n",
       "      <td>U dun say so early hor... U c already then say...</td>\n",
       "    </tr>\n",
       "    <tr>\n",
       "      <th>4</th>\n",
       "      <td>ham</td>\n",
       "      <td>Nah I don't think he goes to usf, he lives aro...</td>\n",
       "    </tr>\n",
       "  </tbody>\n",
       "</table>\n",
       "</div>"
      ],
      "text/plain": [
       "  label                                               text\n",
       "0   ham  Go until jurong point, crazy.. Available only ...\n",
       "1   ham                      Ok lar... Joking wif u oni...\n",
       "2  spam  Free entry in 2 a wkly comp to win FA Cup fina...\n",
       "3   ham  U dun say so early hor... U c already then say...\n",
       "4   ham  Nah I don't think he goes to usf, he lives aro..."
      ]
     },
     "execution_count": 2,
     "metadata": {},
     "output_type": "execute_result"
    }
   ],
   "source": [
    "spam = pd.read_csv('spam.csv',\n",
    "                  encoding='latin-1',\n",
    "                  usecols=[0,1])\n",
    "spam.columns = ['label', 'text']\n",
    "spam.head()"
   ]
  },
  {
   "cell_type": "code",
   "execution_count": 3,
   "metadata": {},
   "outputs": [
    {
     "data": {
      "text/html": [
       "<div>\n",
       "<style scoped>\n",
       "    .dataframe tbody tr th:only-of-type {\n",
       "        vertical-align: middle;\n",
       "    }\n",
       "\n",
       "    .dataframe tbody tr th {\n",
       "        vertical-align: top;\n",
       "    }\n",
       "\n",
       "    .dataframe thead th {\n",
       "        text-align: right;\n",
       "    }\n",
       "</style>\n",
       "<table border=\"1\" class=\"dataframe\">\n",
       "  <thead>\n",
       "    <tr style=\"text-align: right;\">\n",
       "      <th></th>\n",
       "      <th>label</th>\n",
       "      <th>text</th>\n",
       "      <th>text_cleaned</th>\n",
       "    </tr>\n",
       "  </thead>\n",
       "  <tbody>\n",
       "    <tr>\n",
       "      <th>0</th>\n",
       "      <td>ham</td>\n",
       "      <td>Go until jurong point, crazy.. Available only ...</td>\n",
       "      <td>go until jurong point crazy available only in ...</td>\n",
       "    </tr>\n",
       "    <tr>\n",
       "      <th>1</th>\n",
       "      <td>ham</td>\n",
       "      <td>Ok lar... Joking wif u oni...</td>\n",
       "      <td>ok lar joking wif u oni</td>\n",
       "    </tr>\n",
       "    <tr>\n",
       "      <th>2</th>\n",
       "      <td>spam</td>\n",
       "      <td>Free entry in 2 a wkly comp to win FA Cup fina...</td>\n",
       "      <td>free entry in 2 a wkly comp to win fa cup fina...</td>\n",
       "    </tr>\n",
       "    <tr>\n",
       "      <th>3</th>\n",
       "      <td>ham</td>\n",
       "      <td>U dun say so early hor... U c already then say...</td>\n",
       "      <td>u dun say so early hor u c already then say</td>\n",
       "    </tr>\n",
       "    <tr>\n",
       "      <th>4</th>\n",
       "      <td>ham</td>\n",
       "      <td>Nah I don't think he goes to usf, he lives aro...</td>\n",
       "      <td>nah i don't think he goes to usf he lives arou...</td>\n",
       "    </tr>\n",
       "  </tbody>\n",
       "</table>\n",
       "</div>"
      ],
      "text/plain": [
       "  label                                               text  \\\n",
       "0   ham  Go until jurong point, crazy.. Available only ...   \n",
       "1   ham                      Ok lar... Joking wif u oni...   \n",
       "2  spam  Free entry in 2 a wkly comp to win FA Cup fina...   \n",
       "3   ham  U dun say so early hor... U c already then say...   \n",
       "4   ham  Nah I don't think he goes to usf, he lives aro...   \n",
       "\n",
       "                                        text_cleaned  \n",
       "0  go until jurong point crazy available only in ...  \n",
       "1                            ok lar joking wif u oni  \n",
       "2  free entry in 2 a wkly comp to win fa cup fina...  \n",
       "3        u dun say so early hor u c already then say  \n",
       "4  nah i don't think he goes to usf he lives arou...  "
      ]
     },
     "execution_count": 3,
     "metadata": {},
     "output_type": "execute_result"
    }
   ],
   "source": [
    "spam['text_cleaned'] = spam.text.apply(basic_clean)\n",
    "spam.head()"
   ]
  },
  {
   "cell_type": "code",
   "execution_count": 4,
   "metadata": {},
   "outputs": [
    {
     "data": {
      "text/html": [
       "<div>\n",
       "<style scoped>\n",
       "    .dataframe tbody tr th:only-of-type {\n",
       "        vertical-align: middle;\n",
       "    }\n",
       "\n",
       "    .dataframe tbody tr th {\n",
       "        vertical-align: top;\n",
       "    }\n",
       "\n",
       "    .dataframe thead th {\n",
       "        text-align: right;\n",
       "    }\n",
       "</style>\n",
       "<table border=\"1\" class=\"dataframe\">\n",
       "  <thead>\n",
       "    <tr style=\"text-align: right;\">\n",
       "      <th></th>\n",
       "      <th>label</th>\n",
       "      <th>text</th>\n",
       "      <th>text_cleaned</th>\n",
       "      <th>text_tokenized</th>\n",
       "    </tr>\n",
       "  </thead>\n",
       "  <tbody>\n",
       "    <tr>\n",
       "      <th>0</th>\n",
       "      <td>ham</td>\n",
       "      <td>Go until jurong point, crazy.. Available only ...</td>\n",
       "      <td>go until jurong point crazy available only in ...</td>\n",
       "      <td>go until jurong point crazy available only in ...</td>\n",
       "    </tr>\n",
       "    <tr>\n",
       "      <th>1</th>\n",
       "      <td>ham</td>\n",
       "      <td>Ok lar... Joking wif u oni...</td>\n",
       "      <td>ok lar joking wif u oni</td>\n",
       "      <td>ok lar joking wif u oni</td>\n",
       "    </tr>\n",
       "    <tr>\n",
       "      <th>2</th>\n",
       "      <td>spam</td>\n",
       "      <td>Free entry in 2 a wkly comp to win FA Cup fina...</td>\n",
       "      <td>free entry in 2 a wkly comp to win fa cup fina...</td>\n",
       "      <td>free entry in 2 a wkly comp to win fa cup fina...</td>\n",
       "    </tr>\n",
       "    <tr>\n",
       "      <th>3</th>\n",
       "      <td>ham</td>\n",
       "      <td>U dun say so early hor... U c already then say...</td>\n",
       "      <td>u dun say so early hor u c already then say</td>\n",
       "      <td>u dun say so early hor u c already then say</td>\n",
       "    </tr>\n",
       "    <tr>\n",
       "      <th>4</th>\n",
       "      <td>ham</td>\n",
       "      <td>Nah I don't think he goes to usf, he lives aro...</td>\n",
       "      <td>nah i don't think he goes to usf he lives arou...</td>\n",
       "      <td>nah i don ' t think he goes to usf he lives ar...</td>\n",
       "    </tr>\n",
       "  </tbody>\n",
       "</table>\n",
       "</div>"
      ],
      "text/plain": [
       "  label                                               text  \\\n",
       "0   ham  Go until jurong point, crazy.. Available only ...   \n",
       "1   ham                      Ok lar... Joking wif u oni...   \n",
       "2  spam  Free entry in 2 a wkly comp to win FA Cup fina...   \n",
       "3   ham  U dun say so early hor... U c already then say...   \n",
       "4   ham  Nah I don't think he goes to usf, he lives aro...   \n",
       "\n",
       "                                        text_cleaned  \\\n",
       "0  go until jurong point crazy available only in ...   \n",
       "1                            ok lar joking wif u oni   \n",
       "2  free entry in 2 a wkly comp to win fa cup fina...   \n",
       "3        u dun say so early hor u c already then say   \n",
       "4  nah i don't think he goes to usf he lives arou...   \n",
       "\n",
       "                                      text_tokenized  \n",
       "0  go until jurong point crazy available only in ...  \n",
       "1                            ok lar joking wif u oni  \n",
       "2  free entry in 2 a wkly comp to win fa cup fina...  \n",
       "3        u dun say so early hor u c already then say  \n",
       "4  nah i don ' t think he goes to usf he lives ar...  "
      ]
     },
     "execution_count": 4,
     "metadata": {},
     "output_type": "execute_result"
    }
   ],
   "source": [
    "spam['text_tokenized'] = spam.text_cleaned.apply(tokenize)\n",
    "spam.head()"
   ]
  },
  {
   "cell_type": "code",
   "execution_count": 5,
   "metadata": {},
   "outputs": [
    {
     "data": {
      "text/html": [
       "<div>\n",
       "<style scoped>\n",
       "    .dataframe tbody tr th:only-of-type {\n",
       "        vertical-align: middle;\n",
       "    }\n",
       "\n",
       "    .dataframe tbody tr th {\n",
       "        vertical-align: top;\n",
       "    }\n",
       "\n",
       "    .dataframe thead th {\n",
       "        text-align: right;\n",
       "    }\n",
       "</style>\n",
       "<table border=\"1\" class=\"dataframe\">\n",
       "  <thead>\n",
       "    <tr style=\"text-align: right;\">\n",
       "      <th></th>\n",
       "      <th>label</th>\n",
       "      <th>text</th>\n",
       "      <th>text_cleaned</th>\n",
       "      <th>text_tokenized</th>\n",
       "      <th>text_lemmatized</th>\n",
       "    </tr>\n",
       "  </thead>\n",
       "  <tbody>\n",
       "    <tr>\n",
       "      <th>0</th>\n",
       "      <td>ham</td>\n",
       "      <td>Go until jurong point, crazy.. Available only ...</td>\n",
       "      <td>go until jurong point crazy available only in ...</td>\n",
       "      <td>go until jurong point crazy available only in ...</td>\n",
       "      <td>go until jurong point crazy available only in ...</td>\n",
       "    </tr>\n",
       "    <tr>\n",
       "      <th>1</th>\n",
       "      <td>ham</td>\n",
       "      <td>Ok lar... Joking wif u oni...</td>\n",
       "      <td>ok lar joking wif u oni</td>\n",
       "      <td>ok lar joking wif u oni</td>\n",
       "      <td>ok lar joking wif u oni</td>\n",
       "    </tr>\n",
       "    <tr>\n",
       "      <th>2</th>\n",
       "      <td>spam</td>\n",
       "      <td>Free entry in 2 a wkly comp to win FA Cup fina...</td>\n",
       "      <td>free entry in 2 a wkly comp to win fa cup fina...</td>\n",
       "      <td>free entry in 2 a wkly comp to win fa cup fina...</td>\n",
       "      <td>free entry in 2 a wkly comp to win fa cup fina...</td>\n",
       "    </tr>\n",
       "    <tr>\n",
       "      <th>3</th>\n",
       "      <td>ham</td>\n",
       "      <td>U dun say so early hor... U c already then say...</td>\n",
       "      <td>u dun say so early hor u c already then say</td>\n",
       "      <td>u dun say so early hor u c already then say</td>\n",
       "      <td>u dun say so early hor u c already then say</td>\n",
       "    </tr>\n",
       "    <tr>\n",
       "      <th>4</th>\n",
       "      <td>ham</td>\n",
       "      <td>Nah I don't think he goes to usf, he lives aro...</td>\n",
       "      <td>nah i don't think he goes to usf he lives arou...</td>\n",
       "      <td>nah i don ' t think he goes to usf he lives ar...</td>\n",
       "      <td>nah i don ' t think he go to usf he life aroun...</td>\n",
       "    </tr>\n",
       "  </tbody>\n",
       "</table>\n",
       "</div>"
      ],
      "text/plain": [
       "  label                                               text  \\\n",
       "0   ham  Go until jurong point, crazy.. Available only ...   \n",
       "1   ham                      Ok lar... Joking wif u oni...   \n",
       "2  spam  Free entry in 2 a wkly comp to win FA Cup fina...   \n",
       "3   ham  U dun say so early hor... U c already then say...   \n",
       "4   ham  Nah I don't think he goes to usf, he lives aro...   \n",
       "\n",
       "                                        text_cleaned  \\\n",
       "0  go until jurong point crazy available only in ...   \n",
       "1                            ok lar joking wif u oni   \n",
       "2  free entry in 2 a wkly comp to win fa cup fina...   \n",
       "3        u dun say so early hor u c already then say   \n",
       "4  nah i don't think he goes to usf he lives arou...   \n",
       "\n",
       "                                      text_tokenized  \\\n",
       "0  go until jurong point crazy available only in ...   \n",
       "1                            ok lar joking wif u oni   \n",
       "2  free entry in 2 a wkly comp to win fa cup fina...   \n",
       "3        u dun say so early hor u c already then say   \n",
       "4  nah i don ' t think he goes to usf he lives ar...   \n",
       "\n",
       "                                     text_lemmatized  \n",
       "0  go until jurong point crazy available only in ...  \n",
       "1                            ok lar joking wif u oni  \n",
       "2  free entry in 2 a wkly comp to win fa cup fina...  \n",
       "3        u dun say so early hor u c already then say  \n",
       "4  nah i don ' t think he go to usf he life aroun...  "
      ]
     },
     "execution_count": 5,
     "metadata": {},
     "output_type": "execute_result"
    }
   ],
   "source": [
    "spam['text_lemmatized'] = spam.text_tokenized.apply(lemmatize)\n",
    "spam.head()"
   ]
  },
  {
   "cell_type": "code",
   "execution_count": 6,
   "metadata": {},
   "outputs": [
    {
     "data": {
      "text/html": [
       "<div>\n",
       "<style scoped>\n",
       "    .dataframe tbody tr th:only-of-type {\n",
       "        vertical-align: middle;\n",
       "    }\n",
       "\n",
       "    .dataframe tbody tr th {\n",
       "        vertical-align: top;\n",
       "    }\n",
       "\n",
       "    .dataframe thead th {\n",
       "        text-align: right;\n",
       "    }\n",
       "</style>\n",
       "<table border=\"1\" class=\"dataframe\">\n",
       "  <thead>\n",
       "    <tr style=\"text-align: right;\">\n",
       "      <th></th>\n",
       "      <th>label</th>\n",
       "      <th>text</th>\n",
       "      <th>text_cleaned</th>\n",
       "      <th>text_tokenized</th>\n",
       "      <th>text_lemmatized</th>\n",
       "      <th>text_filtered</th>\n",
       "    </tr>\n",
       "  </thead>\n",
       "  <tbody>\n",
       "    <tr>\n",
       "      <th>0</th>\n",
       "      <td>ham</td>\n",
       "      <td>Go until jurong point, crazy.. Available only ...</td>\n",
       "      <td>go until jurong point crazy available only in ...</td>\n",
       "      <td>go until jurong point crazy available only in ...</td>\n",
       "      <td>go until jurong point crazy available only in ...</td>\n",
       "      <td>go jurong point crazy available bugis n great ...</td>\n",
       "    </tr>\n",
       "    <tr>\n",
       "      <th>1</th>\n",
       "      <td>ham</td>\n",
       "      <td>Ok lar... Joking wif u oni...</td>\n",
       "      <td>ok lar joking wif u oni</td>\n",
       "      <td>ok lar joking wif u oni</td>\n",
       "      <td>ok lar joking wif u oni</td>\n",
       "      <td>ok lar joking wif u oni</td>\n",
       "    </tr>\n",
       "    <tr>\n",
       "      <th>2</th>\n",
       "      <td>spam</td>\n",
       "      <td>Free entry in 2 a wkly comp to win FA Cup fina...</td>\n",
       "      <td>free entry in 2 a wkly comp to win fa cup fina...</td>\n",
       "      <td>free entry in 2 a wkly comp to win fa cup fina...</td>\n",
       "      <td>free entry in 2 a wkly comp to win fa cup fina...</td>\n",
       "      <td>free entry 2 wkly comp win fa cup final tkts 2...</td>\n",
       "    </tr>\n",
       "    <tr>\n",
       "      <th>3</th>\n",
       "      <td>ham</td>\n",
       "      <td>U dun say so early hor... U c already then say...</td>\n",
       "      <td>u dun say so early hor u c already then say</td>\n",
       "      <td>u dun say so early hor u c already then say</td>\n",
       "      <td>u dun say so early hor u c already then say</td>\n",
       "      <td>u dun say early hor u c already say</td>\n",
       "    </tr>\n",
       "    <tr>\n",
       "      <th>4</th>\n",
       "      <td>ham</td>\n",
       "      <td>Nah I don't think he goes to usf, he lives aro...</td>\n",
       "      <td>nah i don't think he goes to usf he lives arou...</td>\n",
       "      <td>nah i don ' t think he goes to usf he lives ar...</td>\n",
       "      <td>nah i don ' t think he go to usf he life aroun...</td>\n",
       "      <td>nah ' think go usf life around though</td>\n",
       "    </tr>\n",
       "  </tbody>\n",
       "</table>\n",
       "</div>"
      ],
      "text/plain": [
       "  label                                               text  \\\n",
       "0   ham  Go until jurong point, crazy.. Available only ...   \n",
       "1   ham                      Ok lar... Joking wif u oni...   \n",
       "2  spam  Free entry in 2 a wkly comp to win FA Cup fina...   \n",
       "3   ham  U dun say so early hor... U c already then say...   \n",
       "4   ham  Nah I don't think he goes to usf, he lives aro...   \n",
       "\n",
       "                                        text_cleaned  \\\n",
       "0  go until jurong point crazy available only in ...   \n",
       "1                            ok lar joking wif u oni   \n",
       "2  free entry in 2 a wkly comp to win fa cup fina...   \n",
       "3        u dun say so early hor u c already then say   \n",
       "4  nah i don't think he goes to usf he lives arou...   \n",
       "\n",
       "                                      text_tokenized  \\\n",
       "0  go until jurong point crazy available only in ...   \n",
       "1                            ok lar joking wif u oni   \n",
       "2  free entry in 2 a wkly comp to win fa cup fina...   \n",
       "3        u dun say so early hor u c already then say   \n",
       "4  nah i don ' t think he goes to usf he lives ar...   \n",
       "\n",
       "                                     text_lemmatized  \\\n",
       "0  go until jurong point crazy available only in ...   \n",
       "1                            ok lar joking wif u oni   \n",
       "2  free entry in 2 a wkly comp to win fa cup fina...   \n",
       "3        u dun say so early hor u c already then say   \n",
       "4  nah i don ' t think he go to usf he life aroun...   \n",
       "\n",
       "                                       text_filtered  \n",
       "0  go jurong point crazy available bugis n great ...  \n",
       "1                            ok lar joking wif u oni  \n",
       "2  free entry 2 wkly comp win fa cup final tkts 2...  \n",
       "3                u dun say early hor u c already say  \n",
       "4              nah ' think go usf life around though  "
      ]
     },
     "execution_count": 6,
     "metadata": {},
     "output_type": "execute_result"
    }
   ],
   "source": [
    "spam['text_filtered'] = spam.text_lemmatized.apply(remove_stopwords)\n",
    "spam.head()"
   ]
  },
  {
   "cell_type": "code",
   "execution_count": 7,
   "metadata": {
    "scrolled": true
   },
   "outputs": [
    {
     "data": {
      "text/html": [
       "<div>\n",
       "<style scoped>\n",
       "    .dataframe tbody tr th:only-of-type {\n",
       "        vertical-align: middle;\n",
       "    }\n",
       "\n",
       "    .dataframe tbody tr th {\n",
       "        vertical-align: top;\n",
       "    }\n",
       "\n",
       "    .dataframe thead th {\n",
       "        text-align: right;\n",
       "    }\n",
       "</style>\n",
       "<table border=\"1\" class=\"dataframe\">\n",
       "  <thead>\n",
       "    <tr style=\"text-align: right;\">\n",
       "      <th></th>\n",
       "      <th>label</th>\n",
       "      <th>text</th>\n",
       "      <th>text_cleaned</th>\n",
       "      <th>text_tokenized</th>\n",
       "      <th>text_lemmatized</th>\n",
       "      <th>text_filtered</th>\n",
       "      <th>words</th>\n",
       "    </tr>\n",
       "  </thead>\n",
       "  <tbody>\n",
       "    <tr>\n",
       "      <th>0</th>\n",
       "      <td>ham</td>\n",
       "      <td>Go until jurong point, crazy.. Available only ...</td>\n",
       "      <td>go until jurong point crazy available only in ...</td>\n",
       "      <td>go until jurong point crazy available only in ...</td>\n",
       "      <td>go until jurong point crazy available only in ...</td>\n",
       "      <td>go jurong point crazy available bugis n great ...</td>\n",
       "      <td>[go, jurong, point, crazy, available, bugisgre...</td>\n",
       "    </tr>\n",
       "    <tr>\n",
       "      <th>1</th>\n",
       "      <td>ham</td>\n",
       "      <td>Ok lar... Joking wif u oni...</td>\n",
       "      <td>ok lar joking wif u oni</td>\n",
       "      <td>ok lar joking wif u oni</td>\n",
       "      <td>ok lar joking wif u oni</td>\n",
       "      <td>ok lar joking wif u oni</td>\n",
       "      <td>[ok, lar, joking, wifoni]</td>\n",
       "    </tr>\n",
       "    <tr>\n",
       "      <th>2</th>\n",
       "      <td>spam</td>\n",
       "      <td>Free entry in 2 a wkly comp to win FA Cup fina...</td>\n",
       "      <td>free entry in 2 a wkly comp to win fa cup fina...</td>\n",
       "      <td>free entry in 2 a wkly comp to win fa cup fina...</td>\n",
       "      <td>free entry in 2 a wkly comp to win fa cup fina...</td>\n",
       "      <td>free entry 2 wkly comp win fa cup final tkts 2...</td>\n",
       "      <td>[free, entrywkly, comp, win, fa, cup, final, t...</td>\n",
       "    </tr>\n",
       "    <tr>\n",
       "      <th>3</th>\n",
       "      <td>ham</td>\n",
       "      <td>U dun say so early hor... U c already then say...</td>\n",
       "      <td>u dun say so early hor u c already then say</td>\n",
       "      <td>u dun say so early hor u c already then say</td>\n",
       "      <td>u dun say so early hor u c already then say</td>\n",
       "      <td>u dun say early hor u c already say</td>\n",
       "      <td>[u, dun, say, early, horc, already, say]</td>\n",
       "    </tr>\n",
       "    <tr>\n",
       "      <th>4</th>\n",
       "      <td>ham</td>\n",
       "      <td>Nah I don't think he goes to usf, he lives aro...</td>\n",
       "      <td>nah i don't think he goes to usf he lives arou...</td>\n",
       "      <td>nah i don ' t think he goes to usf he lives ar...</td>\n",
       "      <td>nah i don ' t think he go to usf he life aroun...</td>\n",
       "      <td>nah ' think go usf life around though</td>\n",
       "      <td>[nahthink, go, usf, life, around, though]</td>\n",
       "    </tr>\n",
       "  </tbody>\n",
       "</table>\n",
       "</div>"
      ],
      "text/plain": [
       "  label                                               text  \\\n",
       "0   ham  Go until jurong point, crazy.. Available only ...   \n",
       "1   ham                      Ok lar... Joking wif u oni...   \n",
       "2  spam  Free entry in 2 a wkly comp to win FA Cup fina...   \n",
       "3   ham  U dun say so early hor... U c already then say...   \n",
       "4   ham  Nah I don't think he goes to usf, he lives aro...   \n",
       "\n",
       "                                        text_cleaned  \\\n",
       "0  go until jurong point crazy available only in ...   \n",
       "1                            ok lar joking wif u oni   \n",
       "2  free entry in 2 a wkly comp to win fa cup fina...   \n",
       "3        u dun say so early hor u c already then say   \n",
       "4  nah i don't think he goes to usf he lives arou...   \n",
       "\n",
       "                                      text_tokenized  \\\n",
       "0  go until jurong point crazy available only in ...   \n",
       "1                            ok lar joking wif u oni   \n",
       "2  free entry in 2 a wkly comp to win fa cup fina...   \n",
       "3        u dun say so early hor u c already then say   \n",
       "4  nah i don ' t think he goes to usf he lives ar...   \n",
       "\n",
       "                                     text_lemmatized  \\\n",
       "0  go until jurong point crazy available only in ...   \n",
       "1                            ok lar joking wif u oni   \n",
       "2  free entry in 2 a wkly comp to win fa cup fina...   \n",
       "3        u dun say so early hor u c already then say   \n",
       "4  nah i don ' t think he go to usf he life aroun...   \n",
       "\n",
       "                                       text_filtered  \\\n",
       "0  go jurong point crazy available bugis n great ...   \n",
       "1                            ok lar joking wif u oni   \n",
       "2  free entry 2 wkly comp win fa cup final tkts 2...   \n",
       "3                u dun say early hor u c already say   \n",
       "4              nah ' think go usf life around though   \n",
       "\n",
       "                                               words  \n",
       "0  [go, jurong, point, crazy, available, bugisgre...  \n",
       "1                          [ok, lar, joking, wifoni]  \n",
       "2  [free, entrywkly, comp, win, fa, cup, final, t...  \n",
       "3           [u, dun, say, early, horc, already, say]  \n",
       "4          [nahthink, go, usf, life, around, though]  "
      ]
     },
     "execution_count": 7,
     "metadata": {},
     "output_type": "execute_result"
    }
   ],
   "source": [
    "words = [re.sub(r'([^a-z0-9\\s]|\\s.\\s)', '', doc).split() for doc in spam.text_filtered]\n",
    "spam = pd.concat([spam, pd.DataFrame({'words': words})], axis=1)\n",
    "spam.head()"
   ]
  },
  {
   "cell_type": "code",
   "execution_count": 8,
   "metadata": {},
   "outputs": [
    {
     "data": {
      "text/html": [
       "<div>\n",
       "<style scoped>\n",
       "    .dataframe tbody tr th:only-of-type {\n",
       "        vertical-align: middle;\n",
       "    }\n",
       "\n",
       "    .dataframe tbody tr th {\n",
       "        vertical-align: top;\n",
       "    }\n",
       "\n",
       "    .dataframe thead th {\n",
       "        text-align: right;\n",
       "    }\n",
       "</style>\n",
       "<table border=\"1\" class=\"dataframe\">\n",
       "  <thead>\n",
       "    <tr style=\"text-align: right;\">\n",
       "      <th></th>\n",
       "      <th>label</th>\n",
       "      <th>text</th>\n",
       "      <th>text_cleaned</th>\n",
       "      <th>text_tokenized</th>\n",
       "      <th>text_lemmatized</th>\n",
       "      <th>text_filtered</th>\n",
       "      <th>words</th>\n",
       "      <th>doc_length</th>\n",
       "    </tr>\n",
       "  </thead>\n",
       "  <tbody>\n",
       "    <tr>\n",
       "      <th>0</th>\n",
       "      <td>ham</td>\n",
       "      <td>Go until jurong point, crazy.. Available only ...</td>\n",
       "      <td>go until jurong point crazy available only in ...</td>\n",
       "      <td>go until jurong point crazy available only in ...</td>\n",
       "      <td>go until jurong point crazy available only in ...</td>\n",
       "      <td>go jurong point crazy available bugis n great ...</td>\n",
       "      <td>[go, jurong, point, crazy, available, bugisgre...</td>\n",
       "      <td>12</td>\n",
       "    </tr>\n",
       "    <tr>\n",
       "      <th>1</th>\n",
       "      <td>ham</td>\n",
       "      <td>Ok lar... Joking wif u oni...</td>\n",
       "      <td>ok lar joking wif u oni</td>\n",
       "      <td>ok lar joking wif u oni</td>\n",
       "      <td>ok lar joking wif u oni</td>\n",
       "      <td>ok lar joking wif u oni</td>\n",
       "      <td>[ok, lar, joking, wifoni]</td>\n",
       "      <td>4</td>\n",
       "    </tr>\n",
       "    <tr>\n",
       "      <th>2</th>\n",
       "      <td>spam</td>\n",
       "      <td>Free entry in 2 a wkly comp to win FA Cup fina...</td>\n",
       "      <td>free entry in 2 a wkly comp to win fa cup fina...</td>\n",
       "      <td>free entry in 2 a wkly comp to win fa cup fina...</td>\n",
       "      <td>free entry in 2 a wkly comp to win fa cup fina...</td>\n",
       "      <td>free entry 2 wkly comp win fa cup final tkts 2...</td>\n",
       "      <td>[free, entrywkly, comp, win, fa, cup, final, t...</td>\n",
       "      <td>20</td>\n",
       "    </tr>\n",
       "    <tr>\n",
       "      <th>3</th>\n",
       "      <td>ham</td>\n",
       "      <td>U dun say so early hor... U c already then say...</td>\n",
       "      <td>u dun say so early hor u c already then say</td>\n",
       "      <td>u dun say so early hor u c already then say</td>\n",
       "      <td>u dun say so early hor u c already then say</td>\n",
       "      <td>u dun say early hor u c already say</td>\n",
       "      <td>[u, dun, say, early, horc, already, say]</td>\n",
       "      <td>7</td>\n",
       "    </tr>\n",
       "    <tr>\n",
       "      <th>4</th>\n",
       "      <td>ham</td>\n",
       "      <td>Nah I don't think he goes to usf, he lives aro...</td>\n",
       "      <td>nah i don't think he goes to usf he lives arou...</td>\n",
       "      <td>nah i don ' t think he goes to usf he lives ar...</td>\n",
       "      <td>nah i don ' t think he go to usf he life aroun...</td>\n",
       "      <td>nah ' think go usf life around though</td>\n",
       "      <td>[nahthink, go, usf, life, around, though]</td>\n",
       "      <td>6</td>\n",
       "    </tr>\n",
       "  </tbody>\n",
       "</table>\n",
       "</div>"
      ],
      "text/plain": [
       "  label                                               text  \\\n",
       "0   ham  Go until jurong point, crazy.. Available only ...   \n",
       "1   ham                      Ok lar... Joking wif u oni...   \n",
       "2  spam  Free entry in 2 a wkly comp to win FA Cup fina...   \n",
       "3   ham  U dun say so early hor... U c already then say...   \n",
       "4   ham  Nah I don't think he goes to usf, he lives aro...   \n",
       "\n",
       "                                        text_cleaned  \\\n",
       "0  go until jurong point crazy available only in ...   \n",
       "1                            ok lar joking wif u oni   \n",
       "2  free entry in 2 a wkly comp to win fa cup fina...   \n",
       "3        u dun say so early hor u c already then say   \n",
       "4  nah i don't think he goes to usf he lives arou...   \n",
       "\n",
       "                                      text_tokenized  \\\n",
       "0  go until jurong point crazy available only in ...   \n",
       "1                            ok lar joking wif u oni   \n",
       "2  free entry in 2 a wkly comp to win fa cup fina...   \n",
       "3        u dun say so early hor u c already then say   \n",
       "4  nah i don ' t think he goes to usf he lives ar...   \n",
       "\n",
       "                                     text_lemmatized  \\\n",
       "0  go until jurong point crazy available only in ...   \n",
       "1                            ok lar joking wif u oni   \n",
       "2  free entry in 2 a wkly comp to win fa cup fina...   \n",
       "3        u dun say so early hor u c already then say   \n",
       "4  nah i don ' t think he go to usf he life aroun...   \n",
       "\n",
       "                                       text_filtered  \\\n",
       "0  go jurong point crazy available bugis n great ...   \n",
       "1                            ok lar joking wif u oni   \n",
       "2  free entry 2 wkly comp win fa cup final tkts 2...   \n",
       "3                u dun say early hor u c already say   \n",
       "4              nah ' think go usf life around though   \n",
       "\n",
       "                                               words  doc_length  \n",
       "0  [go, jurong, point, crazy, available, bugisgre...          12  \n",
       "1                          [ok, lar, joking, wifoni]           4  \n",
       "2  [free, entrywkly, comp, win, fa, cup, final, t...          20  \n",
       "3           [u, dun, say, early, horc, already, say]           7  \n",
       "4          [nahthink, go, usf, life, around, though]           6  "
      ]
     },
     "execution_count": 8,
     "metadata": {},
     "output_type": "execute_result"
    }
   ],
   "source": [
    "spam['doc_length'] = [len(wordlist) for wordlist in spam.words]\n",
    "spam.head()"
   ]
  },
  {
   "cell_type": "markdown",
   "metadata": {},
   "source": [
    "### B. Create and explore bigrams for the spam data. Visualize them with a word cloud. How do they compare with the ham bigrams?"
   ]
  },
  {
   "cell_type": "code",
   "execution_count": 9,
   "metadata": {},
   "outputs": [
    {
     "data": {
      "text/html": [
       "<div>\n",
       "<style scoped>\n",
       "    .dataframe tbody tr th:only-of-type {\n",
       "        vertical-align: middle;\n",
       "    }\n",
       "\n",
       "    .dataframe tbody tr th {\n",
       "        vertical-align: top;\n",
       "    }\n",
       "\n",
       "    .dataframe thead th {\n",
       "        text-align: right;\n",
       "    }\n",
       "</style>\n",
       "<table border=\"1\" class=\"dataframe\">\n",
       "  <thead>\n",
       "    <tr style=\"text-align: right;\">\n",
       "      <th></th>\n",
       "      <th>label</th>\n",
       "      <th>text</th>\n",
       "      <th>text_cleaned</th>\n",
       "      <th>text_tokenized</th>\n",
       "      <th>text_lemmatized</th>\n",
       "      <th>text_filtered</th>\n",
       "      <th>words</th>\n",
       "      <th>doc_length</th>\n",
       "      <th>bigrams</th>\n",
       "    </tr>\n",
       "  </thead>\n",
       "  <tbody>\n",
       "    <tr>\n",
       "      <th>0</th>\n",
       "      <td>ham</td>\n",
       "      <td>Go until jurong point, crazy.. Available only ...</td>\n",
       "      <td>go until jurong point crazy available only in ...</td>\n",
       "      <td>go until jurong point crazy available only in ...</td>\n",
       "      <td>go until jurong point crazy available only in ...</td>\n",
       "      <td>go jurong point crazy available bugis n great ...</td>\n",
       "      <td>[go, jurong, point, crazy, available, bugisgre...</td>\n",
       "      <td>12</td>\n",
       "      <td>[(go, jurong), (jurong, point), (point, crazy)...</td>\n",
       "    </tr>\n",
       "    <tr>\n",
       "      <th>1</th>\n",
       "      <td>ham</td>\n",
       "      <td>Ok lar... Joking wif u oni...</td>\n",
       "      <td>ok lar joking wif u oni</td>\n",
       "      <td>ok lar joking wif u oni</td>\n",
       "      <td>ok lar joking wif u oni</td>\n",
       "      <td>ok lar joking wif u oni</td>\n",
       "      <td>[ok, lar, joking, wifoni]</td>\n",
       "      <td>4</td>\n",
       "      <td>[(ok, lar), (lar, joking), (joking, wifoni)]</td>\n",
       "    </tr>\n",
       "    <tr>\n",
       "      <th>2</th>\n",
       "      <td>spam</td>\n",
       "      <td>Free entry in 2 a wkly comp to win FA Cup fina...</td>\n",
       "      <td>free entry in 2 a wkly comp to win fa cup fina...</td>\n",
       "      <td>free entry in 2 a wkly comp to win fa cup fina...</td>\n",
       "      <td>free entry in 2 a wkly comp to win fa cup fina...</td>\n",
       "      <td>free entry 2 wkly comp win fa cup final tkts 2...</td>\n",
       "      <td>[free, entrywkly, comp, win, fa, cup, final, t...</td>\n",
       "      <td>20</td>\n",
       "      <td>[(free, entrywkly), (entrywkly, comp), (comp, ...</td>\n",
       "    </tr>\n",
       "    <tr>\n",
       "      <th>3</th>\n",
       "      <td>ham</td>\n",
       "      <td>U dun say so early hor... U c already then say...</td>\n",
       "      <td>u dun say so early hor u c already then say</td>\n",
       "      <td>u dun say so early hor u c already then say</td>\n",
       "      <td>u dun say so early hor u c already then say</td>\n",
       "      <td>u dun say early hor u c already say</td>\n",
       "      <td>[u, dun, say, early, horc, already, say]</td>\n",
       "      <td>7</td>\n",
       "      <td>[(u, dun), (dun, say), (say, early), (early, h...</td>\n",
       "    </tr>\n",
       "    <tr>\n",
       "      <th>4</th>\n",
       "      <td>ham</td>\n",
       "      <td>Nah I don't think he goes to usf, he lives aro...</td>\n",
       "      <td>nah i don't think he goes to usf he lives arou...</td>\n",
       "      <td>nah i don ' t think he goes to usf he lives ar...</td>\n",
       "      <td>nah i don ' t think he go to usf he life aroun...</td>\n",
       "      <td>nah ' think go usf life around though</td>\n",
       "      <td>[nahthink, go, usf, life, around, though]</td>\n",
       "      <td>6</td>\n",
       "      <td>[(nahthink, go), (go, usf), (usf, life), (life...</td>\n",
       "    </tr>\n",
       "  </tbody>\n",
       "</table>\n",
       "</div>"
      ],
      "text/plain": [
       "  label                                               text  \\\n",
       "0   ham  Go until jurong point, crazy.. Available only ...   \n",
       "1   ham                      Ok lar... Joking wif u oni...   \n",
       "2  spam  Free entry in 2 a wkly comp to win FA Cup fina...   \n",
       "3   ham  U dun say so early hor... U c already then say...   \n",
       "4   ham  Nah I don't think he goes to usf, he lives aro...   \n",
       "\n",
       "                                        text_cleaned  \\\n",
       "0  go until jurong point crazy available only in ...   \n",
       "1                            ok lar joking wif u oni   \n",
       "2  free entry in 2 a wkly comp to win fa cup fina...   \n",
       "3        u dun say so early hor u c already then say   \n",
       "4  nah i don't think he goes to usf he lives arou...   \n",
       "\n",
       "                                      text_tokenized  \\\n",
       "0  go until jurong point crazy available only in ...   \n",
       "1                            ok lar joking wif u oni   \n",
       "2  free entry in 2 a wkly comp to win fa cup fina...   \n",
       "3        u dun say so early hor u c already then say   \n",
       "4  nah i don ' t think he goes to usf he lives ar...   \n",
       "\n",
       "                                     text_lemmatized  \\\n",
       "0  go until jurong point crazy available only in ...   \n",
       "1                            ok lar joking wif u oni   \n",
       "2  free entry in 2 a wkly comp to win fa cup fina...   \n",
       "3        u dun say so early hor u c already then say   \n",
       "4  nah i don ' t think he go to usf he life aroun...   \n",
       "\n",
       "                                       text_filtered  \\\n",
       "0  go jurong point crazy available bugis n great ...   \n",
       "1                            ok lar joking wif u oni   \n",
       "2  free entry 2 wkly comp win fa cup final tkts 2...   \n",
       "3                u dun say early hor u c already say   \n",
       "4              nah ' think go usf life around though   \n",
       "\n",
       "                                               words  doc_length  \\\n",
       "0  [go, jurong, point, crazy, available, bugisgre...          12   \n",
       "1                          [ok, lar, joking, wifoni]           4   \n",
       "2  [free, entrywkly, comp, win, fa, cup, final, t...          20   \n",
       "3           [u, dun, say, early, horc, already, say]           7   \n",
       "4          [nahthink, go, usf, life, around, though]           6   \n",
       "\n",
       "                                             bigrams  \n",
       "0  [(go, jurong), (jurong, point), (point, crazy)...  \n",
       "1       [(ok, lar), (lar, joking), (joking, wifoni)]  \n",
       "2  [(free, entrywkly), (entrywkly, comp), (comp, ...  \n",
       "3  [(u, dun), (dun, say), (say, early), (early, h...  \n",
       "4  [(nahthink, go), (go, usf), (usf, life), (life...  "
      ]
     },
     "execution_count": 9,
     "metadata": {},
     "output_type": "execute_result"
    }
   ],
   "source": [
    "spam['bigrams'] = [list(nltk.ngrams(wordlist, 2)) for wordlist in spam.words]\n",
    "spam.head()"
   ]
  },
  {
   "cell_type": "code",
   "execution_count": 10,
   "metadata": {},
   "outputs": [],
   "source": [
    "ham_words = ' '.join(spam[spam.label=='ham'].text_filtered)\n",
    "spam_words = ' '.join(spam[spam.label=='spam'].text_filtered)\n",
    "all_words = ' '.join(spam.text_filtered)\n",
    "\n",
    "ham_words = re.sub(r'\\s.\\s', '', ham_words)\n",
    "spam_words = re.sub(r'\\s.\\s', '', spam_words)\n",
    "all_words = re.sub(r'\\s.\\s', '', all_words)"
   ]
  },
  {
   "cell_type": "code",
   "execution_count": 11,
   "metadata": {},
   "outputs": [],
   "source": [
    "ham_bigrams = pd.Series(nltk.ngrams(ham_words.split(), 2)).value_counts()\n",
    "spam_bigrams = pd.Series(nltk.ngrams(spam_words.split(), 2)).value_counts()\n",
    "\n",
    "top20_ham_bigrams = ham_bigrams.head(20)\n",
    "top20_spam_bigrams = spam_bigrams.head(20)"
   ]
  },
  {
   "cell_type": "code",
   "execution_count": 12,
   "metadata": {},
   "outputs": [
    {
     "data": {
      "text/html": [
       "<div>\n",
       "<style scoped>\n",
       "    .dataframe tbody tr th:only-of-type {\n",
       "        vertical-align: middle;\n",
       "    }\n",
       "\n",
       "    .dataframe tbody tr th {\n",
       "        vertical-align: top;\n",
       "    }\n",
       "\n",
       "    .dataframe thead th {\n",
       "        text-align: right;\n",
       "    }\n",
       "</style>\n",
       "<table border=\"1\" class=\"dataframe\">\n",
       "  <thead>\n",
       "    <tr style=\"text-align: right;\">\n",
       "      <th></th>\n",
       "      <th>label</th>\n",
       "      <th>text</th>\n",
       "      <th>text_cleaned</th>\n",
       "      <th>text_tokenized</th>\n",
       "      <th>text_lemmatized</th>\n",
       "      <th>text_filtered</th>\n",
       "      <th>words</th>\n",
       "      <th>doc_length</th>\n",
       "      <th>bigrams</th>\n",
       "    </tr>\n",
       "  </thead>\n",
       "  <tbody>\n",
       "    <tr>\n",
       "      <th>0</th>\n",
       "      <td>ham</td>\n",
       "      <td>Go until jurong point, crazy.. Available only ...</td>\n",
       "      <td>go until jurong point crazy available only in ...</td>\n",
       "      <td>go until jurong point crazy available only in ...</td>\n",
       "      <td>go until jurong point crazy available only in ...</td>\n",
       "      <td>go jurong point crazy available bugis n great ...</td>\n",
       "      <td>[go, jurong, point, crazy, available, bugisgre...</td>\n",
       "      <td>12</td>\n",
       "      <td>[(go, jurong), (jurong, point), (point, crazy)...</td>\n",
       "    </tr>\n",
       "    <tr>\n",
       "      <th>1</th>\n",
       "      <td>ham</td>\n",
       "      <td>Ok lar... Joking wif u oni...</td>\n",
       "      <td>ok lar joking wif u oni</td>\n",
       "      <td>ok lar joking wif u oni</td>\n",
       "      <td>ok lar joking wif u oni</td>\n",
       "      <td>ok lar joking wif u oni</td>\n",
       "      <td>[ok, lar, joking, wifoni]</td>\n",
       "      <td>4</td>\n",
       "      <td>[(ok, lar), (lar, joking), (joking, wifoni)]</td>\n",
       "    </tr>\n",
       "    <tr>\n",
       "      <th>2</th>\n",
       "      <td>spam</td>\n",
       "      <td>Free entry in 2 a wkly comp to win FA Cup fina...</td>\n",
       "      <td>free entry in 2 a wkly comp to win fa cup fina...</td>\n",
       "      <td>free entry in 2 a wkly comp to win fa cup fina...</td>\n",
       "      <td>free entry in 2 a wkly comp to win fa cup fina...</td>\n",
       "      <td>free entry 2 wkly comp win fa cup final tkts 2...</td>\n",
       "      <td>[free, entrywkly, comp, win, fa, cup, final, t...</td>\n",
       "      <td>20</td>\n",
       "      <td>[(free, entrywkly), (entrywkly, comp), (comp, ...</td>\n",
       "    </tr>\n",
       "    <tr>\n",
       "      <th>3</th>\n",
       "      <td>ham</td>\n",
       "      <td>U dun say so early hor... U c already then say...</td>\n",
       "      <td>u dun say so early hor u c already then say</td>\n",
       "      <td>u dun say so early hor u c already then say</td>\n",
       "      <td>u dun say so early hor u c already then say</td>\n",
       "      <td>u dun say early hor u c already say</td>\n",
       "      <td>[u, dun, say, early, horc, already, say]</td>\n",
       "      <td>7</td>\n",
       "      <td>[(u, dun), (dun, say), (say, early), (early, h...</td>\n",
       "    </tr>\n",
       "    <tr>\n",
       "      <th>4</th>\n",
       "      <td>ham</td>\n",
       "      <td>Nah I don't think he goes to usf, he lives aro...</td>\n",
       "      <td>nah i don't think he goes to usf he lives arou...</td>\n",
       "      <td>nah i don ' t think he goes to usf he lives ar...</td>\n",
       "      <td>nah i don ' t think he go to usf he life aroun...</td>\n",
       "      <td>nah ' think go usf life around though</td>\n",
       "      <td>[nahthink, go, usf, life, around, though]</td>\n",
       "      <td>6</td>\n",
       "      <td>[(nahthink, go), (go, usf), (usf, life), (life...</td>\n",
       "    </tr>\n",
       "  </tbody>\n",
       "</table>\n",
       "</div>"
      ],
      "text/plain": [
       "  label                                               text  \\\n",
       "0   ham  Go until jurong point, crazy.. Available only ...   \n",
       "1   ham                      Ok lar... Joking wif u oni...   \n",
       "2  spam  Free entry in 2 a wkly comp to win FA Cup fina...   \n",
       "3   ham  U dun say so early hor... U c already then say...   \n",
       "4   ham  Nah I don't think he goes to usf, he lives aro...   \n",
       "\n",
       "                                        text_cleaned  \\\n",
       "0  go until jurong point crazy available only in ...   \n",
       "1                            ok lar joking wif u oni   \n",
       "2  free entry in 2 a wkly comp to win fa cup fina...   \n",
       "3        u dun say so early hor u c already then say   \n",
       "4  nah i don't think he goes to usf he lives arou...   \n",
       "\n",
       "                                      text_tokenized  \\\n",
       "0  go until jurong point crazy available only in ...   \n",
       "1                            ok lar joking wif u oni   \n",
       "2  free entry in 2 a wkly comp to win fa cup fina...   \n",
       "3        u dun say so early hor u c already then say   \n",
       "4  nah i don ' t think he goes to usf he lives ar...   \n",
       "\n",
       "                                     text_lemmatized  \\\n",
       "0  go until jurong point crazy available only in ...   \n",
       "1                            ok lar joking wif u oni   \n",
       "2  free entry in 2 a wkly comp to win fa cup fina...   \n",
       "3        u dun say so early hor u c already then say   \n",
       "4  nah i don ' t think he go to usf he life aroun...   \n",
       "\n",
       "                                       text_filtered  \\\n",
       "0  go jurong point crazy available bugis n great ...   \n",
       "1                            ok lar joking wif u oni   \n",
       "2  free entry 2 wkly comp win fa cup final tkts 2...   \n",
       "3                u dun say early hor u c already say   \n",
       "4              nah ' think go usf life around though   \n",
       "\n",
       "                                               words  doc_length  \\\n",
       "0  [go, jurong, point, crazy, available, bugisgre...          12   \n",
       "1                          [ok, lar, joking, wifoni]           4   \n",
       "2  [free, entrywkly, comp, win, fa, cup, final, t...          20   \n",
       "3           [u, dun, say, early, horc, already, say]           7   \n",
       "4          [nahthink, go, usf, life, around, though]           6   \n",
       "\n",
       "                                             bigrams  \n",
       "0  [(go, jurong), (jurong, point), (point, crazy)...  \n",
       "1       [(ok, lar), (lar, joking), (joking, wifoni)]  \n",
       "2  [(free, entrywkly), (entrywkly, comp), (comp, ...  \n",
       "3  [(u, dun), (dun, say), (say, early), (early, h...  \n",
       "4  [(nahthink, go), (go, usf), (usf, life), (life...  "
      ]
     },
     "execution_count": 12,
     "metadata": {},
     "output_type": "execute_result"
    }
   ],
   "source": [
    "spam['bigrams'] = [list(nltk.ngrams(wordlist, 2)) for wordlist in spam.words]\n",
    "spam.head()"
   ]
  },
  {
   "cell_type": "code",
   "execution_count": 13,
   "metadata": {},
   "outputs": [
    {
     "name": "stdout",
     "output_type": "stream",
     "text": [
      "Spam bigrams:\n",
      "(please, call)          43\n",
      "(customer, service)     27\n",
      "(po, box)               23\n",
      "(guaranteed, call)      23\n",
      "(prize, guaranteed)     22\n",
      "(i121000, cash)         20\n",
      "(send, stop)            19\n",
      "(every, week)           19\n",
      "(urgent, mobile)        18\n",
      "(land, line)            18\n",
      "(await, collection)     18\n",
      "(valid, 12hrs)          17\n",
      "(sae, tc)               16\n",
      "(account, statement)    16\n",
      "(claim, call)           16\n",
      "(call, 08000930705)     15\n",
      "(identifier, code)      15\n",
      "(call, mobileupd8)      15\n",
      "(reply, call)           15\n",
      "(selected, receive)     15\n",
      "dtype: int64\n",
      "\n",
      "Ham bigrams:\n",
      "(sorrycall, later)    33\n",
      "(let, know)           33\n",
      "(good, morning)       30\n",
      "(new, year)           26\n",
      "(pls, send)           22\n",
      "(take, care)          21\n",
      "(good, night)         19\n",
      "(no, need)            18\n",
      "(hi, hi)              18\n",
      "(great, day)          17\n",
      "(ltgt, min)           16\n",
      "(dont, know)          15\n",
      "(happy, new)          15\n",
      "(last, night)         15\n",
      "(ok, lor)             14\n",
      "(not, sure)           14\n",
      "(like, ltgt)          13\n",
      "(pick, phone)         13\n",
      "(right, pls)          12\n",
      "(phone, right)        12\n",
      "dtype: int64\n"
     ]
    }
   ],
   "source": [
    "print('Spam bigrams:')\n",
    "print(top20_spam_bigrams)\n",
    "print()\n",
    "print('Ham bigrams:')\n",
    "print(top20_ham_bigrams)"
   ]
  },
  {
   "cell_type": "code",
   "execution_count": 14,
   "metadata": {},
   "outputs": [],
   "source": [
    "ham_data = {k[0] + ' ' + k[1]: v for k, v in top20_ham_bigrams.to_dict().items()}\n",
    "spam_data = {k[0] + ' ' + k[1]: v for k, v in top20_spam_bigrams.to_dict().items()}"
   ]
  },
  {
   "cell_type": "code",
   "execution_count": 15,
   "metadata": {},
   "outputs": [],
   "source": [
    "ham_cloud = WordCloud(background_color='white',\n",
    "                     height=400, width=800).generate_from_frequencies(ham_data)\n",
    "\n",
    "spam_cloud = WordCloud(background_color='white',\n",
    "                      height=400, width=800).generate_from_frequencies(spam_data)"
   ]
  },
  {
   "cell_type": "code",
   "execution_count": 16,
   "metadata": {},
   "outputs": [
    {
     "data": {
      "text/plain": [
       "(-0.5, 799.5, 399.5, -0.5)"
      ]
     },
     "execution_count": 16,
     "metadata": {},
     "output_type": "execute_result"
    },
    {
     "data": {
      "image/png": "[encoded data removed]",
      "text/plain": [
       "<Figure size 576x288 with 1 Axes>"
      ]
     },
     "metadata": {
      "needs_background": "light"
     },
     "output_type": "display_data"
    }
   ],
   "source": [
    "plt.figure(figsize=(8, 4))\n",
    "plt.imshow(ham_cloud)\n",
    "plt.axis('off')"
   ]
  },
  {
   "cell_type": "code",
   "execution_count": 17,
   "metadata": {},
   "outputs": [
    {
     "data": {
      "text/plain": [
       "(-0.5, 799.5, 399.5, -0.5)"
      ]
     },
     "execution_count": 17,
     "metadata": {},
     "output_type": "execute_result"
    },
    {
     "data": {
      "image/png": "[encoded data removed]",
      "text/plain": [
       "<Figure size 576x288 with 1 Axes>"
      ]
     },
     "metadata": {
      "needs_background": "light"
     },
     "output_type": "display_data"
    }
   ],
   "source": [
    "plt.figure(figsize=(8, 4))\n",
    "plt.imshow(spam_cloud)\n",
    "plt.axis('off')"
   ]
  },
  {
   "cell_type": "markdown",
   "metadata": {},
   "source": [
    "**Takeaways:** The spam bigrams have a lot more buisiness oriented language than the ham bigrams. The top bigrams for both spam and ham mention \"call\" however the ham bigrams either pair it up with \"later\" or \"I'll\" which doesn't add urgency to it unlike the spam bigram. The spam bigrams seem to carry a sense of urgency unlike the ham bigrams."
   ]
  },
  {
   "cell_type": "markdown",
   "metadata": {},
   "source": [
    "### C. Is there any overlap in the bigrams for the spam data and the ham data?"
   ]
  },
  {
   "cell_type": "code",
   "execution_count": 18,
   "metadata": {},
   "outputs": [],
   "source": [
    "matching_bigrams = pd.DataFrame()\n",
    "matching_bigrams['matched_pairs'] = [x for x in spam_bigrams.index if x in ham_bigrams.index]"
   ]
  },
  {
   "cell_type": "code",
   "execution_count": 19,
   "metadata": {},
   "outputs": [
    {
     "name": "stdout",
     "output_type": "stream",
     "text": [
      "There are 6568 spam_bigrams\n",
      "There are 28563 ham_bigrams\n"
     ]
    }
   ],
   "source": [
    "print(f'There are {len(spam_bigrams)} spam_bigrams')\n",
    "print(f'There are {len(ham_bigrams)} ham_bigrams')"
   ]
  },
  {
   "cell_type": "code",
   "execution_count": 20,
   "metadata": {},
   "outputs": [
    {
     "name": "stdout",
     "output_type": "stream",
     "text": [
      "There are 130 matching bigrams.\n"
     ]
    }
   ],
   "source": [
    "print(f'There are {len(matching_bigrams)} matching bigrams.')"
   ]
  },
  {
   "cell_type": "code",
   "execution_count": 21,
   "metadata": {},
   "outputs": [
    {
     "data": {
      "text/html": [
       "<div>\n",
       "<style scoped>\n",
       "    .dataframe tbody tr th:only-of-type {\n",
       "        vertical-align: middle;\n",
       "    }\n",
       "\n",
       "    .dataframe tbody tr th {\n",
       "        vertical-align: top;\n",
       "    }\n",
       "\n",
       "    .dataframe thead th {\n",
       "        text-align: right;\n",
       "    }\n",
       "</style>\n",
       "<table border=\"1\" class=\"dataframe\">\n",
       "  <thead>\n",
       "    <tr style=\"text-align: right;\">\n",
       "      <th></th>\n",
       "      <th>matched_pairs</th>\n",
       "    </tr>\n",
       "  </thead>\n",
       "  <tbody>\n",
       "    <tr>\n",
       "      <th>0</th>\n",
       "      <td>(please, call)</td>\n",
       "    </tr>\n",
       "    <tr>\n",
       "      <th>1</th>\n",
       "      <td>(customer, service)</td>\n",
       "    </tr>\n",
       "    <tr>\n",
       "      <th>2</th>\n",
       "      <td>(po, box)</td>\n",
       "    </tr>\n",
       "    <tr>\n",
       "      <th>3</th>\n",
       "      <td>(every, week)</td>\n",
       "    </tr>\n",
       "    <tr>\n",
       "      <th>4</th>\n",
       "      <td>(tell, ur)</td>\n",
       "    </tr>\n",
       "    <tr>\n",
       "      <th>5</th>\n",
       "      <td>(mobile, number)</td>\n",
       "    </tr>\n",
       "    <tr>\n",
       "      <th>6</th>\n",
       "      <td>(free, call)</td>\n",
       "    </tr>\n",
       "    <tr>\n",
       "      <th>7</th>\n",
       "      <td>(think, ur)</td>\n",
       "    </tr>\n",
       "    <tr>\n",
       "      <th>8</th>\n",
       "      <td>(call, free)</td>\n",
       "    </tr>\n",
       "    <tr>\n",
       "      <th>9</th>\n",
       "      <td>(mobile, no)</td>\n",
       "    </tr>\n",
       "  </tbody>\n",
       "</table>\n",
       "</div>"
      ],
      "text/plain": [
       "         matched_pairs\n",
       "0       (please, call)\n",
       "1  (customer, service)\n",
       "2            (po, box)\n",
       "3        (every, week)\n",
       "4           (tell, ur)\n",
       "5     (mobile, number)\n",
       "6         (free, call)\n",
       "7          (think, ur)\n",
       "8         (call, free)\n",
       "9         (mobile, no)"
      ]
     },
     "execution_count": 21,
     "metadata": {},
     "output_type": "execute_result"
    }
   ],
   "source": [
    "matching_bigrams.head(10)"
   ]
  },
  {
   "cell_type": "markdown",
   "metadata": {},
   "source": [
    "There are 266 bigrams that match from the spam and ham bigrams"
   ]
  },
  {
   "cell_type": "markdown",
   "metadata": {},
   "source": [
    "### D. Create and explore with trigrams (i.e. a n-gram with an n of 3) for both the spam and ham data."
   ]
  },
  {
   "cell_type": "code",
   "execution_count": 22,
   "metadata": {},
   "outputs": [],
   "source": [
    "ham_trigrams = pd.Series(list(nltk.ngrams(ham_words.split(), 3))).value_counts().head(20)\n",
    "spam_trigrams = pd.Series(list(nltk.ngrams(spam_words.split(), 3))).value_counts().head(20)"
   ]
  },
  {
   "cell_type": "code",
   "execution_count": 23,
   "metadata": {},
   "outputs": [
    {
     "name": "stdout",
     "output_type": "stream",
     "text": [
      "Spam Trigrams:\n",
      "(prize, guaranteed, call)              21\n",
      "(call, customer, service)              15\n",
      "(land, line, claim)                    14\n",
      "(2003, account, statement)             13\n",
      "(private, 2003, account)               13\n",
      "(reply, call, 08000930705)             13\n",
      "(show, 800, unredeemed)                12\n",
      "(guaranteed, i121000, cash)            12\n",
      "(camcorder, reply, call)               12\n",
      "(bonus, caller, prize)                 11\n",
      "(anytime, network, min)                11\n",
      "(every, week, txt)                     11\n",
      "(please, call, customer)               10\n",
      "(customer, service, representative)    10\n",
      "(cash, await, collection)              10\n",
      "(i122000, bonus, caller)               10\n",
      "(unredeemed, point, call)               9\n",
      "(i122000, prize, guaranteed)            9\n",
      "(contacttoday, draw, show)              9\n",
      "(750, anytime, network)                 9\n",
      "dtype: int64\n",
      "\n",
      "Ham Trigrams:\n",
      "(happy, new, year)           13\n",
      "(cant, pick, phone)          12\n",
      "(phone, right, pls)          12\n",
      "(right, pls, send)           12\n",
      "(pick, phone, right)         12\n",
      "(hi, hi, hi)                 11\n",
      "(pls, send, message)         10\n",
      "(good, morning, dear)         7\n",
      "(convey, birthday, wish)      6\n",
      "(kiss, across, sea)           6\n",
      "(pls, convey, birthday)       6\n",
      "(day, wifent, wish)           5\n",
      "(parent, forgotkid, went)     5\n",
      "(set, callertune, caller)     5\n",
      "(bedroom, minute'', ok')      5\n",
      "(love, go, day)               5\n",
      "(minute'', ok', sed)          5\n",
      "(forgotkid, went, work)       5\n",
      "(entered, cabin, pa)          5\n",
      "(mood, cameminuts, latr)      5\n",
      "dtype: int64\n"
     ]
    }
   ],
   "source": [
    "print('Spam Trigrams:')\n",
    "print(spam_trigrams)\n",
    "print()\n",
    "print('Ham Trigrams:')\n",
    "print(ham_trigrams)"
   ]
  },
  {
   "cell_type": "code",
   "execution_count": 24,
   "metadata": {},
   "outputs": [],
   "source": [
    "ham_tridata = {k[0] + ' ' + k[1]: v for k, v in ham_trigrams.to_dict().items()}\n",
    "spam_tridata = {k[0] + ' ' + k[1]: v for k, v in spam_trigrams.to_dict().items()}"
   ]
  },
  {
   "cell_type": "code",
   "execution_count": 25,
   "metadata": {},
   "outputs": [],
   "source": [
    "ham_tricloud = WordCloud(background_color='white',\n",
    "                     height=400, width=1200).generate_from_frequencies(ham_tridata)\n",
    "\n",
    "spam_tricloud = WordCloud(background_color='white',\n",
    "                      height=400, width=1200).generate_from_frequencies(spam_tridata)"
   ]
  },
  {
   "cell_type": "code",
   "execution_count": 26,
   "metadata": {},
   "outputs": [
    {
     "data": {
      "text/plain": [
       "Text(0.5, 1.0, 'Ham')"
      ]
     },
     "execution_count": 26,
     "metadata": {},
     "output_type": "execute_result"
    },
    {
     "data": {
      "image/png": "[encoded data removed]",
      "text/plain": [
       "<Figure size 576x288 with 1 Axes>"
      ]
     },
     "metadata": {
      "needs_background": "light"
     },
     "output_type": "display_data"
    }
   ],
   "source": [
    "plt.figure(figsize=(8, 4))\n",
    "plt.imshow(ham_tricloud)\n",
    "plt.axis('off')\n",
    "plt.title('Ham', fontsize=25)"
   ]
  },
  {
   "cell_type": "code",
   "execution_count": 27,
   "metadata": {},
   "outputs": [
    {
     "data": {
      "text/plain": [
       "Text(0.5, 1.0, 'Spam')"
      ]
     },
     "execution_count": 27,
     "metadata": {},
     "output_type": "execute_result"
    },
    {
     "data": {
      "image/png": "[encoded data removed]",
      "text/plain": [
       "<Figure size 576x288 with 1 Axes>"
      ]
     },
     "metadata": {
      "needs_background": "light"
     },
     "output_type": "display_data"
    }
   ],
   "source": [
    "plt.figure(figsize=(8, 4))\n",
    "plt.imshow(spam_tricloud)\n",
    "plt.axis('off')\n",
    "plt.title('Spam', fontsize=25)"
   ]
  },
  {
   "cell_type": "code",
   "execution_count": 28,
   "metadata": {},
   "outputs": [
    {
     "data": {
      "text/plain": [
       "Text(0.5, 0, 'Frequency')"
      ]
     },
     "execution_count": 28,
     "metadata": {},
     "output_type": "execute_result"
    },
    {
     "data": {
      "image/png": "[encoded data removed]",
      "text/plain": [
       "<Figure size 720x576 with 1 Axes>"
      ]
     },
     "metadata": {
      "needs_background": "light"
     },
     "output_type": "display_data"
    }
   ],
   "source": [
    "spam_trigrams.head(10).plot.barh(color='red', width=.9, figsize=(10, 8))\n",
    "\n",
    "plt.title('10 Most Frequently Occuring Spam Trigrams')\n",
    "plt.ylabel('Trigram')\n",
    "plt.xlabel('Frequency')"
   ]
  },
  {
   "cell_type": "code",
   "execution_count": 29,
   "metadata": {},
   "outputs": [
    {
     "data": {
      "text/plain": [
       "Text(0.5, 0, 'Frequency')"
      ]
     },
     "execution_count": 29,
     "metadata": {},
     "output_type": "execute_result"
    },
    {
     "data": {
      "image/png": "[encoded data removed]",
      "text/plain": [
       "<Figure size 720x576 with 1 Axes>"
      ]
     },
     "metadata": {
      "needs_background": "light"
     },
     "output_type": "display_data"
    }
   ],
   "source": [
    "ham_trigrams.head(10).plot.barh(color='blue', width=.9, figsize=(10, 8))\n",
    "\n",
    "plt.title('10 Most Frequently Occuring Ham Trigrams')\n",
    "plt.ylabel('Trigram')\n",
    "plt.xlabel('Frequency')"
   ]
  },
  {
   "cell_type": "markdown",
   "metadata": {},
   "source": [
    "### Bonus: Plot document length information of spam vs. ham. Does there appear to be a difference?"
   ]
  },
  {
   "cell_type": "code",
   "execution_count": 30,
   "metadata": {},
   "outputs": [
    {
     "data": {
      "text/html": [
       "<div>\n",
       "<style scoped>\n",
       "    .dataframe tbody tr th:only-of-type {\n",
       "        vertical-align: middle;\n",
       "    }\n",
       "\n",
       "    .dataframe tbody tr th {\n",
       "        vertical-align: top;\n",
       "    }\n",
       "\n",
       "    .dataframe thead th {\n",
       "        text-align: right;\n",
       "    }\n",
       "</style>\n",
       "<table border=\"1\" class=\"dataframe\">\n",
       "  <thead>\n",
       "    <tr style=\"text-align: right;\">\n",
       "      <th></th>\n",
       "      <th>label</th>\n",
       "      <th>text</th>\n",
       "      <th>text_cleaned</th>\n",
       "      <th>text_tokenized</th>\n",
       "      <th>text_lemmatized</th>\n",
       "      <th>text_filtered</th>\n",
       "      <th>words</th>\n",
       "      <th>doc_length</th>\n",
       "      <th>bigrams</th>\n",
       "    </tr>\n",
       "  </thead>\n",
       "  <tbody>\n",
       "    <tr>\n",
       "      <th>0</th>\n",
       "      <td>ham</td>\n",
       "      <td>Go until jurong point, crazy.. Available only ...</td>\n",
       "      <td>go until jurong point crazy available only in ...</td>\n",
       "      <td>go until jurong point crazy available only in ...</td>\n",
       "      <td>go until jurong point crazy available only in ...</td>\n",
       "      <td>go jurong point crazy available bugis n great ...</td>\n",
       "      <td>[go, jurong, point, crazy, available, bugisgre...</td>\n",
       "      <td>12</td>\n",
       "      <td>[(go, jurong), (jurong, point), (point, crazy)...</td>\n",
       "    </tr>\n",
       "    <tr>\n",
       "      <th>1</th>\n",
       "      <td>ham</td>\n",
       "      <td>Ok lar... Joking wif u oni...</td>\n",
       "      <td>ok lar joking wif u oni</td>\n",
       "      <td>ok lar joking wif u oni</td>\n",
       "      <td>ok lar joking wif u oni</td>\n",
       "      <td>ok lar joking wif u oni</td>\n",
       "      <td>[ok, lar, joking, wifoni]</td>\n",
       "      <td>4</td>\n",
       "      <td>[(ok, lar), (lar, joking), (joking, wifoni)]</td>\n",
       "    </tr>\n",
       "    <tr>\n",
       "      <th>2</th>\n",
       "      <td>spam</td>\n",
       "      <td>Free entry in 2 a wkly comp to win FA Cup fina...</td>\n",
       "      <td>free entry in 2 a wkly comp to win fa cup fina...</td>\n",
       "      <td>free entry in 2 a wkly comp to win fa cup fina...</td>\n",
       "      <td>free entry in 2 a wkly comp to win fa cup fina...</td>\n",
       "      <td>free entry 2 wkly comp win fa cup final tkts 2...</td>\n",
       "      <td>[free, entrywkly, comp, win, fa, cup, final, t...</td>\n",
       "      <td>20</td>\n",
       "      <td>[(free, entrywkly), (entrywkly, comp), (comp, ...</td>\n",
       "    </tr>\n",
       "    <tr>\n",
       "      <th>3</th>\n",
       "      <td>ham</td>\n",
       "      <td>U dun say so early hor... U c already then say...</td>\n",
       "      <td>u dun say so early hor u c already then say</td>\n",
       "      <td>u dun say so early hor u c already then say</td>\n",
       "      <td>u dun say so early hor u c already then say</td>\n",
       "      <td>u dun say early hor u c already say</td>\n",
       "      <td>[u, dun, say, early, horc, already, say]</td>\n",
       "      <td>7</td>\n",
       "      <td>[(u, dun), (dun, say), (say, early), (early, h...</td>\n",
       "    </tr>\n",
       "    <tr>\n",
       "      <th>4</th>\n",
       "      <td>ham</td>\n",
       "      <td>Nah I don't think he goes to usf, he lives aro...</td>\n",
       "      <td>nah i don't think he goes to usf he lives arou...</td>\n",
       "      <td>nah i don ' t think he goes to usf he lives ar...</td>\n",
       "      <td>nah i don ' t think he go to usf he life aroun...</td>\n",
       "      <td>nah ' think go usf life around though</td>\n",
       "      <td>[nahthink, go, usf, life, around, though]</td>\n",
       "      <td>6</td>\n",
       "      <td>[(nahthink, go), (go, usf), (usf, life), (life...</td>\n",
       "    </tr>\n",
       "  </tbody>\n",
       "</table>\n",
       "</div>"
      ],
      "text/plain": [
       "  label                                               text  \\\n",
       "0   ham  Go until jurong point, crazy.. Available only ...   \n",
       "1   ham                      Ok lar... Joking wif u oni...   \n",
       "2  spam  Free entry in 2 a wkly comp to win FA Cup fina...   \n",
       "3   ham  U dun say so early hor... U c already then say...   \n",
       "4   ham  Nah I don't think he goes to usf, he lives aro...   \n",
       "\n",
       "                                        text_cleaned  \\\n",
       "0  go until jurong point crazy available only in ...   \n",
       "1                            ok lar joking wif u oni   \n",
       "2  free entry in 2 a wkly comp to win fa cup fina...   \n",
       "3        u dun say so early hor u c already then say   \n",
       "4  nah i don't think he goes to usf he lives arou...   \n",
       "\n",
       "                                      text_tokenized  \\\n",
       "0  go until jurong point crazy available only in ...   \n",
       "1                            ok lar joking wif u oni   \n",
       "2  free entry in 2 a wkly comp to win fa cup fina...   \n",
       "3        u dun say so early hor u c already then say   \n",
       "4  nah i don ' t think he goes to usf he lives ar...   \n",
       "\n",
       "                                     text_lemmatized  \\\n",
       "0  go until jurong point crazy available only in ...   \n",
       "1                            ok lar joking wif u oni   \n",
       "2  free entry in 2 a wkly comp to win fa cup fina...   \n",
       "3        u dun say so early hor u c already then say   \n",
       "4  nah i don ' t think he go to usf he life aroun...   \n",
       "\n",
       "                                       text_filtered  \\\n",
       "0  go jurong point crazy available bugis n great ...   \n",
       "1                            ok lar joking wif u oni   \n",
       "2  free entry 2 wkly comp win fa cup final tkts 2...   \n",
       "3                u dun say early hor u c already say   \n",
       "4              nah ' think go usf life around though   \n",
       "\n",
       "                                               words  doc_length  \\\n",
       "0  [go, jurong, point, crazy, available, bugisgre...          12   \n",
       "1                          [ok, lar, joking, wifoni]           4   \n",
       "2  [free, entrywkly, comp, win, fa, cup, final, t...          20   \n",
       "3           [u, dun, say, early, horc, already, say]           7   \n",
       "4          [nahthink, go, usf, life, around, though]           6   \n",
       "\n",
       "                                             bigrams  \n",
       "0  [(go, jurong), (jurong, point), (point, crazy)...  \n",
       "1       [(ok, lar), (lar, joking), (joking, wifoni)]  \n",
       "2  [(free, entrywkly), (entrywkly, comp), (comp, ...  \n",
       "3  [(u, dun), (dun, say), (say, early), (early, h...  \n",
       "4  [(nahthink, go), (go, usf), (usf, life), (life...  "
      ]
     },
     "execution_count": 30,
     "metadata": {},
     "output_type": "execute_result"
    }
   ],
   "source": [
    "spam.head()"
   ]
  },
  {
   "cell_type": "code",
   "execution_count": 31,
   "metadata": {},
   "outputs": [],
   "source": [
    "ham_doclen = spam[spam.label == 'ham'].doc_length\n",
    "spam_doclen = spam[spam.label == 'spam'].doc_length"
   ]
  },
  {
   "cell_type": "code",
   "execution_count": 32,
   "metadata": {},
   "outputs": [
    {
     "name": "stdout",
     "output_type": "stream",
     "text": [
      "Top 5 Doc Lengths for Ham Messages:\n",
      "3    650\n",
      "4    631\n",
      "5    565\n",
      "2    425\n",
      "6    424\n",
      "Name: doc_length, dtype: int64\n",
      "Top 5 Doc Lengths for Spam Messages:\n",
      "16    87\n",
      "17    87\n",
      "18    67\n",
      "14    64\n",
      "15    60\n",
      "Name: doc_length, dtype: int64\n"
     ]
    }
   ],
   "source": [
    "print('Top 5 Doc Lengths for Ham Messages:')\n",
    "print(ham_doclen.value_counts().head(5))\n",
    "print('Top 5 Doc Lengths for Spam Messages:')\n",
    "print(spam_doclen.value_counts().head(5))"
   ]
  },
  {
   "cell_type": "code",
   "execution_count": 33,
   "metadata": {},
   "outputs": [
    {
     "data": {
      "text/plain": [
       "<matplotlib.axes._subplots.AxesSubplot at 0x7fd298cb8610>"
      ]
     },
     "execution_count": 33,
     "metadata": {},
     "output_type": "execute_result"
    },
    {
     "data": {
      "image/png": "[encoded data removed]",
      "text/plain": [
       "<Figure size 864x432 with 1 Axes>"
      ]
     },
     "metadata": {
      "needs_background": "light"
     },
     "output_type": "display_data"
    }
   ],
   "source": [
    "ham_doclen.value_counts().head(10).plot.barh(color='blue', width=.9, figsize=(12, 6))"
   ]
  },
  {
   "cell_type": "code",
   "execution_count": 34,
   "metadata": {
    "scrolled": false
   },
   "outputs": [
    {
     "data": {
      "text/plain": [
       "<matplotlib.axes._subplots.AxesSubplot at 0x7fd298d3ced0>"
      ]
     },
     "execution_count": 34,
     "metadata": {},
     "output_type": "execute_result"
    },
    {
     "data": {
      "image/png": "[encoded data removed]",
      "text/plain": [
       "<Figure size 864x432 with 1 Axes>"
      ]
     },
     "metadata": {
      "needs_background": "light"
     },
     "output_type": "display_data"
    }
   ],
   "source": [
    "spam_doclen.value_counts().head(10).plot.barh(color='red', width=.9, figsize=(12, 6))"
   ]
  },
  {
   "cell_type": "code",
   "execution_count": 35,
   "metadata": {},
   "outputs": [
    {
     "name": "stdout",
     "output_type": "stream",
     "text": [
      "Percent of ham doc lengths of 4 or lower: 0.3861139896373057\n",
      "Percent of ham doc lengths of 10 or lower: 0.792538860103627\n"
     ]
    }
   ],
   "source": [
    "ham_doclen = pd.DataFrame(ham_doclen)\n",
    "print(f'Percent of ham doc lengths of 4 or lower: {len(ham_doclen[ham_doclen.doc_length <= 4]) / len(ham_doclen)}')\n",
    "\n",
    "print(f'Percent of ham doc lengths of 10 or lower: {len(ham_doclen[ham_doclen.doc_length <= 10]) / len(ham_doclen)}')"
   ]
  },
  {
   "cell_type": "code",
   "execution_count": 36,
   "metadata": {},
   "outputs": [
    {
     "name": "stdout",
     "output_type": "stream",
     "text": [
      "Percent of spam doc lengths of 16 or greater: 0.535475234270415\n",
      "Percent of spam doc lengths of 10 or greater: 0.8995983935742972\n"
     ]
    }
   ],
   "source": [
    "spam_doclen = pd.DataFrame(spam_doclen)\n",
    "print(f'Percent of spam doc lengths of 16 or greater: {len(spam_doclen[spam_doclen.doc_length >= 16]) / len(spam_doclen)}')\n",
    "\n",
    "print(f'Percent of spam doc lengths of 10 or greater: {len(spam_doclen[spam_doclen.doc_length >= 10]) / len(spam_doclen)}')"
   ]
  },
  {
   "cell_type": "markdown",
   "metadata": {},
   "source": [
    "## Blog Data\n",
    "### 2. Explore the blog articles using the techniques discussed in the exploration lesson."
   ]
  },
  {
   "cell_type": "code",
   "execution_count": 42,
   "metadata": {},
   "outputs": [
    {
     "data": {
      "text/html": [
       "<div>\n",
       "<style scoped>\n",
       "    .dataframe tbody tr th:only-of-type {\n",
       "        vertical-align: middle;\n",
       "    }\n",
       "\n",
       "    .dataframe tbody tr th {\n",
       "        vertical-align: top;\n",
       "    }\n",
       "\n",
       "    .dataframe thead th {\n",
       "        text-align: right;\n",
       "    }\n",
       "</style>\n",
       "<table border=\"1\" class=\"dataframe\">\n",
       "  <thead>\n",
       "    <tr style=\"text-align: right;\">\n",
       "      <th></th>\n",
       "      <th>title</th>\n",
       "      <th>article</th>\n",
       "      <th>text_cleaned</th>\n",
       "      <th>text_tokenized</th>\n",
       "      <th>text_filtered</th>\n",
       "      <th>text_lemmatized</th>\n",
       "    </tr>\n",
       "  </thead>\n",
       "  <tbody>\n",
       "    <tr>\n",
       "      <th>0</th>\n",
       "      <td>Codeup’s Data Science Career Accelerator is Here!</td>\n",
       "      <td>The rumors are true! The time has arrived. Cod...</td>\n",
       "      <td>the rumors are true the time has arrived codeu...</td>\n",
       "      <td>the rumors are true the time has arrived codeu...</td>\n",
       "      <td>rumors true time arrived codeup officially ope...</td>\n",
       "      <td>rumor true time arrived codeup officially open...</td>\n",
       "    </tr>\n",
       "    <tr>\n",
       "      <th>1</th>\n",
       "      <td>Data Science Myths</td>\n",
       "      <td>By Dimitri Antoniou and Maggie Giust\\nData Sci...</td>\n",
       "      <td>by dimitri antoniou and maggie giust\\ndata sci...</td>\n",
       "      <td>by dimitri antoniou and maggie giust\\ndata sci...</td>\n",
       "      <td>dimitri antoniou maggie giust data science big...</td>\n",
       "      <td>dimitri antoniou maggie giust data science big...</td>\n",
       "    </tr>\n",
       "    <tr>\n",
       "      <th>2</th>\n",
       "      <td>Data Science VS Data Analytics: What’s The Dif...</td>\n",
       "      <td>By Dimitri Antoniou\\nA week ago, Codeup launch...</td>\n",
       "      <td>by dimitri antoniou\\na week ago codeup launche...</td>\n",
       "      <td>by dimitri antoniou\\na week ago codeup launche...</td>\n",
       "      <td>dimitri antoniou week ago codeup launched imme...</td>\n",
       "      <td>dimitri antoniou week ago codeup launched imme...</td>\n",
       "    </tr>\n",
       "    <tr>\n",
       "      <th>3</th>\n",
       "      <td>10 Tips to Crush It at the SA Tech Job Fair</td>\n",
       "      <td>SA Tech Job Fair\\nThe third bi-annual San Anto...</td>\n",
       "      <td>sa tech job fair\\nthe third biannual san anton...</td>\n",
       "      <td>sa tech job fair\\nthe third biannual san anton...</td>\n",
       "      <td>sa tech job fair third biannual san antonio te...</td>\n",
       "      <td>sa tech job fair third biannual san antonio te...</td>\n",
       "    </tr>\n",
       "    <tr>\n",
       "      <th>4</th>\n",
       "      <td>Competitor Bootcamps Are Closing. Is the Model...</td>\n",
       "      <td>Competitor Bootcamps Are Closing. Is the Model...</td>\n",
       "      <td>competitor bootcamps are closing is the model ...</td>\n",
       "      <td>competitor bootcamps are closing is the model ...</td>\n",
       "      <td>competitor bootcamps closing model danger prog...</td>\n",
       "      <td>competitor bootcamps closing model danger prog...</td>\n",
       "    </tr>\n",
       "  </tbody>\n",
       "</table>\n",
       "</div>"
      ],
      "text/plain": [
       "                                               title  \\\n",
       "0  Codeup’s Data Science Career Accelerator is Here!   \n",
       "1                                 Data Science Myths   \n",
       "2  Data Science VS Data Analytics: What’s The Dif...   \n",
       "3        10 Tips to Crush It at the SA Tech Job Fair   \n",
       "4  Competitor Bootcamps Are Closing. Is the Model...   \n",
       "\n",
       "                                             article  \\\n",
       "0  The rumors are true! The time has arrived. Cod...   \n",
       "1  By Dimitri Antoniou and Maggie Giust\\nData Sci...   \n",
       "2  By Dimitri Antoniou\\nA week ago, Codeup launch...   \n",
       "3  SA Tech Job Fair\\nThe third bi-annual San Anto...   \n",
       "4  Competitor Bootcamps Are Closing. Is the Model...   \n",
       "\n",
       "                                        text_cleaned  \\\n",
       "0  the rumors are true the time has arrived codeu...   \n",
       "1  by dimitri antoniou and maggie giust\\ndata sci...   \n",
       "2  by dimitri antoniou\\na week ago codeup launche...   \n",
       "3  sa tech job fair\\nthe third biannual san anton...   \n",
       "4  competitor bootcamps are closing is the model ...   \n",
       "\n",
       "                                      text_tokenized  \\\n",
       "0  the rumors are true the time has arrived codeu...   \n",
       "1  by dimitri antoniou and maggie giust\\ndata sci...   \n",
       "2  by dimitri antoniou\\na week ago codeup launche...   \n",
       "3  sa tech job fair\\nthe third biannual san anton...   \n",
       "4  competitor bootcamps are closing is the model ...   \n",
       "\n",
       "                                       text_filtered  \\\n",
       "0  rumors true time arrived codeup officially ope...   \n",
       "1  dimitri antoniou maggie giust data science big...   \n",
       "2  dimitri antoniou week ago codeup launched imme...   \n",
       "3  sa tech job fair third biannual san antonio te...   \n",
       "4  competitor bootcamps closing model danger prog...   \n",
       "\n",
       "                                     text_lemmatized  \n",
       "0  rumor true time arrived codeup officially open...  \n",
       "1  dimitri antoniou maggie giust data science big...  \n",
       "2  dimitri antoniou week ago codeup launched imme...  \n",
       "3  sa tech job fair third biannual san antonio te...  \n",
       "4  competitor bootcamps closing model danger prog...  "
      ]
     },
     "execution_count": 42,
     "metadata": {},
     "output_type": "execute_result"
    }
   ],
   "source": [
    "blogs = pd.DataFrame(get_all_blogs())\n",
    "\n",
    "blogs['text_cleaned'] = blogs['article'].apply(basic_clean)\n",
    "blogs['text_tokenized'] = blogs['text_cleaned'].apply(tokenize)\n",
    "blogs['text_filtered'] = blogs['text_tokenized'].apply(remove_stopwords)\n",
    "blogs['text_lemmatized'] = blogs['text_filtered'].apply(lemmatize)\n",
    "\n",
    "blogs.head()"
   ]
  },
  {
   "cell_type": "code",
   "execution_count": 43,
   "metadata": {
    "scrolled": true
   },
   "outputs": [
    {
     "data": {
      "text/html": [
       "<div>\n",
       "<style scoped>\n",
       "    .dataframe tbody tr th:only-of-type {\n",
       "        vertical-align: middle;\n",
       "    }\n",
       "\n",
       "    .dataframe tbody tr th {\n",
       "        vertical-align: top;\n",
       "    }\n",
       "\n",
       "    .dataframe thead th {\n",
       "        text-align: right;\n",
       "    }\n",
       "</style>\n",
       "<table border=\"1\" class=\"dataframe\">\n",
       "  <thead>\n",
       "    <tr style=\"text-align: right;\">\n",
       "      <th></th>\n",
       "      <th>article</th>\n",
       "      <th>text_cleaned</th>\n",
       "      <th>text_tokenized</th>\n",
       "      <th>text_filtered</th>\n",
       "      <th>text_lemmatized</th>\n",
       "    </tr>\n",
       "  </thead>\n",
       "  <tbody>\n",
       "    <tr>\n",
       "      <th>0</th>\n",
       "      <td>The rumors are true! The time has arrived. Cod...</td>\n",
       "      <td>the rumors are true the time has arrived codeu...</td>\n",
       "      <td>the rumors are true the time has arrived codeu...</td>\n",
       "      <td>rumors true time arrived codeup officially ope...</td>\n",
       "      <td>rumor true time arrived codeup officially open...</td>\n",
       "    </tr>\n",
       "    <tr>\n",
       "      <th>1</th>\n",
       "      <td>By Dimitri Antoniou and Maggie Giust\\nData Sci...</td>\n",
       "      <td>by dimitri antoniou and maggie giust\\ndata sci...</td>\n",
       "      <td>by dimitri antoniou and maggie giust\\ndata sci...</td>\n",
       "      <td>dimitri antoniou maggie giust data science big...</td>\n",
       "      <td>dimitri antoniou maggie giust data science big...</td>\n",
       "    </tr>\n",
       "    <tr>\n",
       "      <th>2</th>\n",
       "      <td>By Dimitri Antoniou\\nA week ago, Codeup launch...</td>\n",
       "      <td>by dimitri antoniou\\na week ago codeup launche...</td>\n",
       "      <td>by dimitri antoniou\\na week ago codeup launche...</td>\n",
       "      <td>dimitri antoniou week ago codeup launched imme...</td>\n",
       "      <td>dimitri antoniou week ago codeup launched imme...</td>\n",
       "    </tr>\n",
       "    <tr>\n",
       "      <th>3</th>\n",
       "      <td>SA Tech Job Fair\\nThe third bi-annual San Anto...</td>\n",
       "      <td>sa tech job fair\\nthe third biannual san anton...</td>\n",
       "      <td>sa tech job fair\\nthe third biannual san anton...</td>\n",
       "      <td>sa tech job fair third biannual san antonio te...</td>\n",
       "      <td>sa tech job fair third biannual san antonio te...</td>\n",
       "    </tr>\n",
       "    <tr>\n",
       "      <th>4</th>\n",
       "      <td>Competitor Bootcamps Are Closing. Is the Model...</td>\n",
       "      <td>competitor bootcamps are closing is the model ...</td>\n",
       "      <td>competitor bootcamps are closing is the model ...</td>\n",
       "      <td>competitor bootcamps closing model danger prog...</td>\n",
       "      <td>competitor bootcamps closing model danger prog...</td>\n",
       "    </tr>\n",
       "  </tbody>\n",
       "</table>\n",
       "</div>"
      ],
      "text/plain": [
       "                                             article  \\\n",
       "0  The rumors are true! The time has arrived. Cod...   \n",
       "1  By Dimitri Antoniou and Maggie Giust\\nData Sci...   \n",
       "2  By Dimitri Antoniou\\nA week ago, Codeup launch...   \n",
       "3  SA Tech Job Fair\\nThe third bi-annual San Anto...   \n",
       "4  Competitor Bootcamps Are Closing. Is the Model...   \n",
       "\n",
       "                                        text_cleaned  \\\n",
       "0  the rumors are true the time has arrived codeu...   \n",
       "1  by dimitri antoniou and maggie giust\\ndata sci...   \n",
       "2  by dimitri antoniou\\na week ago codeup launche...   \n",
       "3  sa tech job fair\\nthe third biannual san anton...   \n",
       "4  competitor bootcamps are closing is the model ...   \n",
       "\n",
       "                                      text_tokenized  \\\n",
       "0  the rumors are true the time has arrived codeu...   \n",
       "1  by dimitri antoniou and maggie giust\\ndata sci...   \n",
       "2  by dimitri antoniou\\na week ago codeup launche...   \n",
       "3  sa tech job fair\\nthe third biannual san anton...   \n",
       "4  competitor bootcamps are closing is the model ...   \n",
       "\n",
       "                                       text_filtered  \\\n",
       "0  rumors true time arrived codeup officially ope...   \n",
       "1  dimitri antoniou maggie giust data science big...   \n",
       "2  dimitri antoniou week ago codeup launched imme...   \n",
       "3  sa tech job fair third biannual san antonio te...   \n",
       "4  competitor bootcamps closing model danger prog...   \n",
       "\n",
       "                                     text_lemmatized  \n",
       "0  rumor true time arrived codeup officially open...  \n",
       "1  dimitri antoniou maggie giust data science big...  \n",
       "2  dimitri antoniou week ago codeup launched imme...  \n",
       "3  sa tech job fair third biannual san antonio te...  \n",
       "4  competitor bootcamps closing model danger prog...  "
      ]
     },
     "execution_count": 43,
     "metadata": {},
     "output_type": "execute_result"
    }
   ],
   "source": [
    "blogs.drop(columns=['title'], inplace=True)\n",
    "blogs"
   ]
  },
  {
   "cell_type": "code",
   "execution_count": 52,
   "metadata": {},
   "outputs": [
    {
     "data": {
      "text/html": [
       "<div>\n",
       "<style scoped>\n",
       "    .dataframe tbody tr th:only-of-type {\n",
       "        vertical-align: middle;\n",
       "    }\n",
       "\n",
       "    .dataframe tbody tr th {\n",
       "        vertical-align: top;\n",
       "    }\n",
       "\n",
       "    .dataframe thead th {\n",
       "        text-align: right;\n",
       "    }\n",
       "</style>\n",
       "<table border=\"1\" class=\"dataframe\">\n",
       "  <thead>\n",
       "    <tr style=\"text-align: right;\">\n",
       "      <th></th>\n",
       "      <th>article</th>\n",
       "      <th>text_cleaned</th>\n",
       "      <th>text_tokenized</th>\n",
       "      <th>text_filtered</th>\n",
       "      <th>text_lemmatized</th>\n",
       "      <th>words</th>\n",
       "    </tr>\n",
       "  </thead>\n",
       "  <tbody>\n",
       "    <tr>\n",
       "      <th>0</th>\n",
       "      <td>The rumors are true! The time has arrived. Cod...</td>\n",
       "      <td>the rumors are true the time has arrived codeu...</td>\n",
       "      <td>the rumors are true the time has arrived codeu...</td>\n",
       "      <td>rumors true time arrived codeup officially ope...</td>\n",
       "      <td>rumor true time arrived codeup officially open...</td>\n",
       "      <td>[rumors, true, time, arrived, codeup, official...</td>\n",
       "    </tr>\n",
       "    <tr>\n",
       "      <th>1</th>\n",
       "      <td>By Dimitri Antoniou and Maggie Giust\\nData Sci...</td>\n",
       "      <td>by dimitri antoniou and maggie giust\\ndata sci...</td>\n",
       "      <td>by dimitri antoniou and maggie giust\\ndata sci...</td>\n",
       "      <td>dimitri antoniou maggie giust data science big...</td>\n",
       "      <td>dimitri antoniou maggie giust data science big...</td>\n",
       "      <td>[dimitri, antoniou, maggie, giust, data, scien...</td>\n",
       "    </tr>\n",
       "    <tr>\n",
       "      <th>2</th>\n",
       "      <td>By Dimitri Antoniou\\nA week ago, Codeup launch...</td>\n",
       "      <td>by dimitri antoniou\\na week ago codeup launche...</td>\n",
       "      <td>by dimitri antoniou\\na week ago codeup launche...</td>\n",
       "      <td>dimitri antoniou week ago codeup launched imme...</td>\n",
       "      <td>dimitri antoniou week ago codeup launched imme...</td>\n",
       "      <td>[dimitri, antoniou, week, ago, codeup, launche...</td>\n",
       "    </tr>\n",
       "    <tr>\n",
       "      <th>3</th>\n",
       "      <td>SA Tech Job Fair\\nThe third bi-annual San Anto...</td>\n",
       "      <td>sa tech job fair\\nthe third biannual san anton...</td>\n",
       "      <td>sa tech job fair\\nthe third biannual san anton...</td>\n",
       "      <td>sa tech job fair third biannual san antonio te...</td>\n",
       "      <td>sa tech job fair third biannual san antonio te...</td>\n",
       "      <td>[sa, tech, job, fair, third, biannual, san, an...</td>\n",
       "    </tr>\n",
       "    <tr>\n",
       "      <th>4</th>\n",
       "      <td>Competitor Bootcamps Are Closing. Is the Model...</td>\n",
       "      <td>competitor bootcamps are closing is the model ...</td>\n",
       "      <td>competitor bootcamps are closing is the model ...</td>\n",
       "      <td>competitor bootcamps closing model danger prog...</td>\n",
       "      <td>competitor bootcamps closing model danger prog...</td>\n",
       "      <td>[competitor, bootcamps, closing, model, danger...</td>\n",
       "    </tr>\n",
       "  </tbody>\n",
       "</table>\n",
       "</div>"
      ],
      "text/plain": [
       "                                             article  \\\n",
       "0  The rumors are true! The time has arrived. Cod...   \n",
       "1  By Dimitri Antoniou and Maggie Giust\\nData Sci...   \n",
       "2  By Dimitri Antoniou\\nA week ago, Codeup launch...   \n",
       "3  SA Tech Job Fair\\nThe third bi-annual San Anto...   \n",
       "4  Competitor Bootcamps Are Closing. Is the Model...   \n",
       "\n",
       "                                        text_cleaned  \\\n",
       "0  the rumors are true the time has arrived codeu...   \n",
       "1  by dimitri antoniou and maggie giust\\ndata sci...   \n",
       "2  by dimitri antoniou\\na week ago codeup launche...   \n",
       "3  sa tech job fair\\nthe third biannual san anton...   \n",
       "4  competitor bootcamps are closing is the model ...   \n",
       "\n",
       "                                      text_tokenized  \\\n",
       "0  the rumors are true the time has arrived codeu...   \n",
       "1  by dimitri antoniou and maggie giust\\ndata sci...   \n",
       "2  by dimitri antoniou\\na week ago codeup launche...   \n",
       "3  sa tech job fair\\nthe third biannual san anton...   \n",
       "4  competitor bootcamps are closing is the model ...   \n",
       "\n",
       "                                       text_filtered  \\\n",
       "0  rumors true time arrived codeup officially ope...   \n",
       "1  dimitri antoniou maggie giust data science big...   \n",
       "2  dimitri antoniou week ago codeup launched imme...   \n",
       "3  sa tech job fair third biannual san antonio te...   \n",
       "4  competitor bootcamps closing model danger prog...   \n",
       "\n",
       "                                     text_lemmatized  \\\n",
       "0  rumor true time arrived codeup officially open...   \n",
       "1  dimitri antoniou maggie giust data science big...   \n",
       "2  dimitri antoniou week ago codeup launched imme...   \n",
       "3  sa tech job fair third biannual san antonio te...   \n",
       "4  competitor bootcamps closing model danger prog...   \n",
       "\n",
       "                                               words  \n",
       "0  [rumors, true, time, arrived, codeup, official...  \n",
       "1  [dimitri, antoniou, maggie, giust, data, scien...  \n",
       "2  [dimitri, antoniou, week, ago, codeup, launche...  \n",
       "3  [sa, tech, job, fair, third, biannual, san, an...  \n",
       "4  [competitor, bootcamps, closing, model, danger...  "
      ]
     },
     "execution_count": 52,
     "metadata": {},
     "output_type": "execute_result"
    }
   ],
   "source": [
    "blog_words = [re.sub(r'([^a-z0-9\\s]|\\s.\\s)', '', doc).split() for doc in blogs.text_filtered]\n",
    "blogs = pd.concat([blogs, pd.DataFrame({'words': blog_words})], axis=1)\n",
    "blogs.head()"
   ]
  },
  {
   "cell_type": "code",
   "execution_count": 53,
   "metadata": {
    "scrolled": true
   },
   "outputs": [
    {
     "data": {
      "text/html": [
       "<div>\n",
       "<style scoped>\n",
       "    .dataframe tbody tr th:only-of-type {\n",
       "        vertical-align: middle;\n",
       "    }\n",
       "\n",
       "    .dataframe tbody tr th {\n",
       "        vertical-align: top;\n",
       "    }\n",
       "\n",
       "    .dataframe thead th {\n",
       "        text-align: right;\n",
       "    }\n",
       "</style>\n",
       "<table border=\"1\" class=\"dataframe\">\n",
       "  <thead>\n",
       "    <tr style=\"text-align: right;\">\n",
       "      <th></th>\n",
       "      <th>article</th>\n",
       "      <th>text_cleaned</th>\n",
       "      <th>text_tokenized</th>\n",
       "      <th>text_filtered</th>\n",
       "      <th>text_lemmatized</th>\n",
       "      <th>words</th>\n",
       "      <th>bigrams</th>\n",
       "    </tr>\n",
       "  </thead>\n",
       "  <tbody>\n",
       "    <tr>\n",
       "      <th>0</th>\n",
       "      <td>The rumors are true! The time has arrived. Cod...</td>\n",
       "      <td>the rumors are true the time has arrived codeu...</td>\n",
       "      <td>the rumors are true the time has arrived codeu...</td>\n",
       "      <td>rumors true time arrived codeup officially ope...</td>\n",
       "      <td>rumor true time arrived codeup officially open...</td>\n",
       "      <td>[rumors, true, time, arrived, codeup, official...</td>\n",
       "      <td>[(rumors, true), (true, time), (time, arrived)...</td>\n",
       "    </tr>\n",
       "    <tr>\n",
       "      <th>1</th>\n",
       "      <td>By Dimitri Antoniou and Maggie Giust\\nData Sci...</td>\n",
       "      <td>by dimitri antoniou and maggie giust\\ndata sci...</td>\n",
       "      <td>by dimitri antoniou and maggie giust\\ndata sci...</td>\n",
       "      <td>dimitri antoniou maggie giust data science big...</td>\n",
       "      <td>dimitri antoniou maggie giust data science big...</td>\n",
       "      <td>[dimitri, antoniou, maggie, giust, data, scien...</td>\n",
       "      <td>[(dimitri, antoniou), (antoniou, maggie), (mag...</td>\n",
       "    </tr>\n",
       "    <tr>\n",
       "      <th>2</th>\n",
       "      <td>By Dimitri Antoniou\\nA week ago, Codeup launch...</td>\n",
       "      <td>by dimitri antoniou\\na week ago codeup launche...</td>\n",
       "      <td>by dimitri antoniou\\na week ago codeup launche...</td>\n",
       "      <td>dimitri antoniou week ago codeup launched imme...</td>\n",
       "      <td>dimitri antoniou week ago codeup launched imme...</td>\n",
       "      <td>[dimitri, antoniou, week, ago, codeup, launche...</td>\n",
       "      <td>[(dimitri, antoniou), (antoniou, week), (week,...</td>\n",
       "    </tr>\n",
       "    <tr>\n",
       "      <th>3</th>\n",
       "      <td>SA Tech Job Fair\\nThe third bi-annual San Anto...</td>\n",
       "      <td>sa tech job fair\\nthe third biannual san anton...</td>\n",
       "      <td>sa tech job fair\\nthe third biannual san anton...</td>\n",
       "      <td>sa tech job fair third biannual san antonio te...</td>\n",
       "      <td>sa tech job fair third biannual san antonio te...</td>\n",
       "      <td>[sa, tech, job, fair, third, biannual, san, an...</td>\n",
       "      <td>[(sa, tech), (tech, job), (job, fair), (fair, ...</td>\n",
       "    </tr>\n",
       "    <tr>\n",
       "      <th>4</th>\n",
       "      <td>Competitor Bootcamps Are Closing. Is the Model...</td>\n",
       "      <td>competitor bootcamps are closing is the model ...</td>\n",
       "      <td>competitor bootcamps are closing is the model ...</td>\n",
       "      <td>competitor bootcamps closing model danger prog...</td>\n",
       "      <td>competitor bootcamps closing model danger prog...</td>\n",
       "      <td>[competitor, bootcamps, closing, model, danger...</td>\n",
       "      <td>[(competitor, bootcamps), (bootcamps, closing)...</td>\n",
       "    </tr>\n",
       "  </tbody>\n",
       "</table>\n",
       "</div>"
      ],
      "text/plain": [
       "                                             article  \\\n",
       "0  The rumors are true! The time has arrived. Cod...   \n",
       "1  By Dimitri Antoniou and Maggie Giust\\nData Sci...   \n",
       "2  By Dimitri Antoniou\\nA week ago, Codeup launch...   \n",
       "3  SA Tech Job Fair\\nThe third bi-annual San Anto...   \n",
       "4  Competitor Bootcamps Are Closing. Is the Model...   \n",
       "\n",
       "                                        text_cleaned  \\\n",
       "0  the rumors are true the time has arrived codeu...   \n",
       "1  by dimitri antoniou and maggie giust\\ndata sci...   \n",
       "2  by dimitri antoniou\\na week ago codeup launche...   \n",
       "3  sa tech job fair\\nthe third biannual san anton...   \n",
       "4  competitor bootcamps are closing is the model ...   \n",
       "\n",
       "                                      text_tokenized  \\\n",
       "0  the rumors are true the time has arrived codeu...   \n",
       "1  by dimitri antoniou and maggie giust\\ndata sci...   \n",
       "2  by dimitri antoniou\\na week ago codeup launche...   \n",
       "3  sa tech job fair\\nthe third biannual san anton...   \n",
       "4  competitor bootcamps are closing is the model ...   \n",
       "\n",
       "                                       text_filtered  \\\n",
       "0  rumors true time arrived codeup officially ope...   \n",
       "1  dimitri antoniou maggie giust data science big...   \n",
       "2  dimitri antoniou week ago codeup launched imme...   \n",
       "3  sa tech job fair third biannual san antonio te...   \n",
       "4  competitor bootcamps closing model danger prog...   \n",
       "\n",
       "                                     text_lemmatized  \\\n",
       "0  rumor true time arrived codeup officially open...   \n",
       "1  dimitri antoniou maggie giust data science big...   \n",
       "2  dimitri antoniou week ago codeup launched imme...   \n",
       "3  sa tech job fair third biannual san antonio te...   \n",
       "4  competitor bootcamps closing model danger prog...   \n",
       "\n",
       "                                               words  \\\n",
       "0  [rumors, true, time, arrived, codeup, official...   \n",
       "1  [dimitri, antoniou, maggie, giust, data, scien...   \n",
       "2  [dimitri, antoniou, week, ago, codeup, launche...   \n",
       "3  [sa, tech, job, fair, third, biannual, san, an...   \n",
       "4  [competitor, bootcamps, closing, model, danger...   \n",
       "\n",
       "                                             bigrams  \n",
       "0  [(rumors, true), (true, time), (time, arrived)...  \n",
       "1  [(dimitri, antoniou), (antoniou, maggie), (mag...  \n",
       "2  [(dimitri, antoniou), (antoniou, week), (week,...  \n",
       "3  [(sa, tech), (tech, job), (job, fair), (fair, ...  \n",
       "4  [(competitor, bootcamps), (bootcamps, closing)...  "
      ]
     },
     "execution_count": 53,
     "metadata": {},
     "output_type": "execute_result"
    }
   ],
   "source": [
    "blogs['bigrams'] = [list(nltk.ngrams(wordlist, 2)) for wordlist in blogs.words]\n",
    "blogs.head()"
   ]
  },
  {
   "cell_type": "code",
   "execution_count": 54,
   "metadata": {
    "scrolled": true
   },
   "outputs": [
    {
     "data": {
      "text/html": [
       "<div>\n",
       "<style scoped>\n",
       "    .dataframe tbody tr th:only-of-type {\n",
       "        vertical-align: middle;\n",
       "    }\n",
       "\n",
       "    .dataframe tbody tr th {\n",
       "        vertical-align: top;\n",
       "    }\n",
       "\n",
       "    .dataframe thead th {\n",
       "        text-align: right;\n",
       "    }\n",
       "</style>\n",
       "<table border=\"1\" class=\"dataframe\">\n",
       "  <thead>\n",
       "    <tr style=\"text-align: right;\">\n",
       "      <th></th>\n",
       "      <th>article</th>\n",
       "      <th>text_cleaned</th>\n",
       "      <th>text_tokenized</th>\n",
       "      <th>text_filtered</th>\n",
       "      <th>text_lemmatized</th>\n",
       "      <th>words</th>\n",
       "      <th>bigrams</th>\n",
       "      <th>trigrams</th>\n",
       "    </tr>\n",
       "  </thead>\n",
       "  <tbody>\n",
       "    <tr>\n",
       "      <th>0</th>\n",
       "      <td>The rumors are true! The time has arrived. Cod...</td>\n",
       "      <td>the rumors are true the time has arrived codeu...</td>\n",
       "      <td>the rumors are true the time has arrived codeu...</td>\n",
       "      <td>rumors true time arrived codeup officially ope...</td>\n",
       "      <td>rumor true time arrived codeup officially open...</td>\n",
       "      <td>[rumors, true, time, arrived, codeup, official...</td>\n",
       "      <td>[(rumors, true), (true, time), (time, arrived)...</td>\n",
       "      <td>[(rumors, true, time), (true, time, arrived), ...</td>\n",
       "    </tr>\n",
       "    <tr>\n",
       "      <th>1</th>\n",
       "      <td>By Dimitri Antoniou and Maggie Giust\\nData Sci...</td>\n",
       "      <td>by dimitri antoniou and maggie giust\\ndata sci...</td>\n",
       "      <td>by dimitri antoniou and maggie giust\\ndata sci...</td>\n",
       "      <td>dimitri antoniou maggie giust data science big...</td>\n",
       "      <td>dimitri antoniou maggie giust data science big...</td>\n",
       "      <td>[dimitri, antoniou, maggie, giust, data, scien...</td>\n",
       "      <td>[(dimitri, antoniou), (antoniou, maggie), (mag...</td>\n",
       "      <td>[(dimitri, antoniou, maggie), (antoniou, maggi...</td>\n",
       "    </tr>\n",
       "    <tr>\n",
       "      <th>2</th>\n",
       "      <td>By Dimitri Antoniou\\nA week ago, Codeup launch...</td>\n",
       "      <td>by dimitri antoniou\\na week ago codeup launche...</td>\n",
       "      <td>by dimitri antoniou\\na week ago codeup launche...</td>\n",
       "      <td>dimitri antoniou week ago codeup launched imme...</td>\n",
       "      <td>dimitri antoniou week ago codeup launched imme...</td>\n",
       "      <td>[dimitri, antoniou, week, ago, codeup, launche...</td>\n",
       "      <td>[(dimitri, antoniou), (antoniou, week), (week,...</td>\n",
       "      <td>[(dimitri, antoniou, week), (antoniou, week, a...</td>\n",
       "    </tr>\n",
       "    <tr>\n",
       "      <th>3</th>\n",
       "      <td>SA Tech Job Fair\\nThe third bi-annual San Anto...</td>\n",
       "      <td>sa tech job fair\\nthe third biannual san anton...</td>\n",
       "      <td>sa tech job fair\\nthe third biannual san anton...</td>\n",
       "      <td>sa tech job fair third biannual san antonio te...</td>\n",
       "      <td>sa tech job fair third biannual san antonio te...</td>\n",
       "      <td>[sa, tech, job, fair, third, biannual, san, an...</td>\n",
       "      <td>[(sa, tech), (tech, job), (job, fair), (fair, ...</td>\n",
       "      <td>[(sa, tech, job), (tech, job, fair), (job, fai...</td>\n",
       "    </tr>\n",
       "    <tr>\n",
       "      <th>4</th>\n",
       "      <td>Competitor Bootcamps Are Closing. Is the Model...</td>\n",
       "      <td>competitor bootcamps are closing is the model ...</td>\n",
       "      <td>competitor bootcamps are closing is the model ...</td>\n",
       "      <td>competitor bootcamps closing model danger prog...</td>\n",
       "      <td>competitor bootcamps closing model danger prog...</td>\n",
       "      <td>[competitor, bootcamps, closing, model, danger...</td>\n",
       "      <td>[(competitor, bootcamps), (bootcamps, closing)...</td>\n",
       "      <td>[(competitor, bootcamps, closing), (bootcamps,...</td>\n",
       "    </tr>\n",
       "  </tbody>\n",
       "</table>\n",
       "</div>"
      ],
      "text/plain": [
       "                                             article  \\\n",
       "0  The rumors are true! The time has arrived. Cod...   \n",
       "1  By Dimitri Antoniou and Maggie Giust\\nData Sci...   \n",
       "2  By Dimitri Antoniou\\nA week ago, Codeup launch...   \n",
       "3  SA Tech Job Fair\\nThe third bi-annual San Anto...   \n",
       "4  Competitor Bootcamps Are Closing. Is the Model...   \n",
       "\n",
       "                                        text_cleaned  \\\n",
       "0  the rumors are true the time has arrived codeu...   \n",
       "1  by dimitri antoniou and maggie giust\\ndata sci...   \n",
       "2  by dimitri antoniou\\na week ago codeup launche...   \n",
       "3  sa tech job fair\\nthe third biannual san anton...   \n",
       "4  competitor bootcamps are closing is the model ...   \n",
       "\n",
       "                                      text_tokenized  \\\n",
       "0  the rumors are true the time has arrived codeu...   \n",
       "1  by dimitri antoniou and maggie giust\\ndata sci...   \n",
       "2  by dimitri antoniou\\na week ago codeup launche...   \n",
       "3  sa tech job fair\\nthe third biannual san anton...   \n",
       "4  competitor bootcamps are closing is the model ...   \n",
       "\n",
       "                                       text_filtered  \\\n",
       "0  rumors true time arrived codeup officially ope...   \n",
       "1  dimitri antoniou maggie giust data science big...   \n",
       "2  dimitri antoniou week ago codeup launched imme...   \n",
       "3  sa tech job fair third biannual san antonio te...   \n",
       "4  competitor bootcamps closing model danger prog...   \n",
       "\n",
       "                                     text_lemmatized  \\\n",
       "0  rumor true time arrived codeup officially open...   \n",
       "1  dimitri antoniou maggie giust data science big...   \n",
       "2  dimitri antoniou week ago codeup launched imme...   \n",
       "3  sa tech job fair third biannual san antonio te...   \n",
       "4  competitor bootcamps closing model danger prog...   \n",
       "\n",
       "                                               words  \\\n",
       "0  [rumors, true, time, arrived, codeup, official...   \n",
       "1  [dimitri, antoniou, maggie, giust, data, scien...   \n",
       "2  [dimitri, antoniou, week, ago, codeup, launche...   \n",
       "3  [sa, tech, job, fair, third, biannual, san, an...   \n",
       "4  [competitor, bootcamps, closing, model, danger...   \n",
       "\n",
       "                                             bigrams  \\\n",
       "0  [(rumors, true), (true, time), (time, arrived)...   \n",
       "1  [(dimitri, antoniou), (antoniou, maggie), (mag...   \n",
       "2  [(dimitri, antoniou), (antoniou, week), (week,...   \n",
       "3  [(sa, tech), (tech, job), (job, fair), (fair, ...   \n",
       "4  [(competitor, bootcamps), (bootcamps, closing)...   \n",
       "\n",
       "                                            trigrams  \n",
       "0  [(rumors, true, time), (true, time, arrived), ...  \n",
       "1  [(dimitri, antoniou, maggie), (antoniou, maggi...  \n",
       "2  [(dimitri, antoniou, week), (antoniou, week, a...  \n",
       "3  [(sa, tech, job), (tech, job, fair), (job, fai...  \n",
       "4  [(competitor, bootcamps, closing), (bootcamps,...  "
      ]
     },
     "execution_count": 54,
     "metadata": {},
     "output_type": "execute_result"
    }
   ],
   "source": [
    "blogs['trigrams'] = [list(nltk.ngrams(wordlist, 3)) for wordlist in blogs.words]\n",
    "blogs.head()"
   ]
  },
  {
   "cell_type": "code",
   "execution_count": 60,
   "metadata": {},
   "outputs": [],
   "source": [
    "all_blog_words = ' '.join(blogs.text_filtered)\n",
    "all_blog_words = re.sub(r'\\s.\\s', '', all_blog_words)"
   ]
  },
  {
   "cell_type": "code",
   "execution_count": 61,
   "metadata": {},
   "outputs": [],
   "source": [
    "blog_bigrams = pd.Series(nltk.ngrams(all_blog_words.split(), 2)).value_counts()"
   ]
  },
  {
   "cell_type": "code",
   "execution_count": 64,
   "metadata": {},
   "outputs": [],
   "source": [
    "top20_blog_bigrams = blog_bigrams.head(20)"
   ]
  },
  {
   "cell_type": "code",
   "execution_count": 65,
   "metadata": {},
   "outputs": [],
   "source": [
    "blog_data = {k[0] + ' ' + k[1]: v for k, v in top20_blog_bigrams.to_dict().items()}"
   ]
  },
  {
   "cell_type": "code",
   "execution_count": 66,
   "metadata": {},
   "outputs": [],
   "source": [
    "blog_cloud = WordCloud(background_color='white',\n",
    "                     height=400, width=800).generate_from_frequencies(blog_data)"
   ]
  },
  {
   "cell_type": "code",
   "execution_count": 67,
   "metadata": {},
   "outputs": [
    {
     "data": {
      "text/plain": [
       "(-0.5, 799.5, 399.5, -0.5)"
      ]
     },
     "execution_count": 67,
     "metadata": {},
     "output_type": "execute_result"
    },
    {
     "data": {
      "image/png": "[encoded data removed]",
      "text/plain": [
       "<Figure size 576x288 with 1 Axes>"
      ]
     },
     "metadata": {
      "needs_background": "light"
     },
     "output_type": "display_data"
    }
   ],
   "source": [
    "plt.figure(figsize=(8, 4))\n",
    "plt.imshow(blog_cloud)\n",
    "plt.axis('off')"
   ]
  },
  {
   "cell_type": "code",
   "execution_count": 74,
   "metadata": {},
   "outputs": [
    {
     "data": {
      "text/plain": [
       "Text(0.5, 0, 'Frequency')"
      ]
     },
     "execution_count": 74,
     "metadata": {},
     "output_type": "execute_result"
    },
    {
     "data": {
      "image/png": "[encoded data removed]",
      "text/plain": [
       "<Figure size 720x576 with 1 Axes>"
      ]
     },
     "metadata": {
      "needs_background": "light"
     },
     "output_type": "display_data"
    }
   ],
   "source": [
    "blog_bigrams.head(10).plot.barh(color='red', width=.9, figsize=(10, 8))\n",
    "\n",
    "plt.title('10 Most Frequently Occuring Blog Bigrams')\n",
    "plt.ylabel('Bigram')\n",
    "plt.xlabel('Frequency')"
   ]
  },
  {
   "cell_type": "code",
   "execution_count": 68,
   "metadata": {},
   "outputs": [],
   "source": [
    "blog_trigrams = pd.Series(nltk.ngrams(all_blog_words.split(), 3)).value_counts()\n",
    "top20_blog_trigrams = blog_trigrams.head(20)\n",
    "blog_data = {k[0] + ' ' + k[1]: v for k, v in top20_blog_trigrams.to_dict().items()}\n",
    "blog_tricloud = WordCloud(background_color='white',\n",
    "                     height=400, width=800).generate_from_frequencies(blog_data)"
   ]
  },
  {
   "cell_type": "code",
   "execution_count": 69,
   "metadata": {},
   "outputs": [
    {
     "data": {
      "text/plain": [
       "(-0.5, 799.5, 399.5, -0.5)"
      ]
     },
     "execution_count": 69,
     "metadata": {},
     "output_type": "execute_result"
    },
    {
     "data": {
      "image/png": "[encoded data removed]",
      "text/plain": [
       "<Figure size 576x288 with 1 Axes>"
      ]
     },
     "metadata": {
      "needs_background": "light"
     },
     "output_type": "display_data"
    }
   ],
   "source": [
    "plt.figure(figsize=(8, 4))\n",
    "plt.imshow(blog_tricloud)\n",
    "plt.axis('off')"
   ]
  },
  {
   "cell_type": "code",
   "execution_count": 70,
   "metadata": {},
   "outputs": [
    {
     "data": {
      "text/plain": [
       "(via, giphy, mythdata)              4\n",
       "(tech, job, fair)                   4\n",
       "(busted, via, giphy)                4\n",
       "(25, seats, available)              3\n",
       "(giphy, mythdata, science)          3\n",
       "(sa, tech, job)                     3\n",
       "(jack, guenther, pavilion)          2\n",
       "(data, science, data)               2\n",
       "(person, company, using)            2\n",
       "(actionable, intelligence, data)    2\n",
       "(programming, bootcamp, model)      2\n",
       "(machine, learning, data)           2\n",
       "(company, using, term)              2\n",
       "(questions, reach, us)              2\n",
       "(data, science, method)             2\n",
       "(predict, future, events)           2\n",
       "(folk, data, science)               2\n",
       "(senior, data, scientist)           2\n",
       "(still, questions, reach)           2\n",
       "(action, building, automations)     2\n",
       "dtype: int64"
      ]
     },
     "execution_count": 70,
     "metadata": {},
     "output_type": "execute_result"
    }
   ],
   "source": [
    "top20_blog_trigrams"
   ]
  },
  {
   "cell_type": "markdown",
   "metadata": {},
   "source": [
    "### 3. Explore the news articles using the techniques discussed in the exploration lesson. Use the category variable when exploring."
   ]
  },
  {
   "cell_type": "code",
   "execution_count": 82,
   "metadata": {},
   "outputs": [
    {
     "data": {
      "text/html": [
       "<div>\n",
       "<style scoped>\n",
       "    .dataframe tbody tr th:only-of-type {\n",
       "        vertical-align: middle;\n",
       "    }\n",
       "\n",
       "    .dataframe tbody tr th {\n",
       "        vertical-align: top;\n",
       "    }\n",
       "\n",
       "    .dataframe thead th {\n",
       "        text-align: right;\n",
       "    }\n",
       "</style>\n",
       "<table border=\"1\" class=\"dataframe\">\n",
       "  <thead>\n",
       "    <tr style=\"text-align: right;\">\n",
       "      <th></th>\n",
       "      <th>title</th>\n",
       "      <th>article</th>\n",
       "      <th>category</th>\n",
       "    </tr>\n",
       "  </thead>\n",
       "  <tbody>\n",
       "    <tr>\n",
       "      <th>0</th>\n",
       "      <td>India lose 7th consecutive international match...</td>\n",
       "      <td>Australia defeated India in the second ODI in ...</td>\n",
       "      <td>sports</td>\n",
       "    </tr>\n",
       "    <tr>\n",
       "      <th>1</th>\n",
       "      <td>Tyson reveals he smoked marijuana before throw...</td>\n",
       "      <td>Boxer Mike Tyson, who returned to ring after 1...</td>\n",
       "      <td>sports</td>\n",
       "    </tr>\n",
       "    <tr>\n",
       "      <th>2</th>\n",
       "      <td>F1 driver survives huge crash after car splits...</td>\n",
       "      <td>Formula One driver Romain Grosjean was involve...</td>\n",
       "      <td>sports</td>\n",
       "    </tr>\n",
       "    <tr>\n",
       "      <th>3</th>\n",
       "      <td>Warner ruled out of 3rd ODI &amp; T20I series due ...</td>\n",
       "      <td>Opener David Warner was ruled out of the third...</td>\n",
       "      <td>sports</td>\n",
       "    </tr>\n",
       "    <tr>\n",
       "      <th>4</th>\n",
       "      <td>Referee saves MMA fighter from nearly flashing...</td>\n",
       "      <td>A video showing referee Jason Herzog saving MM...</td>\n",
       "      <td>sports</td>\n",
       "    </tr>\n",
       "  </tbody>\n",
       "</table>\n",
       "</div>"
      ],
      "text/plain": [
       "                                               title  \\\n",
       "0  India lose 7th consecutive international match...   \n",
       "1  Tyson reveals he smoked marijuana before throw...   \n",
       "2  F1 driver survives huge crash after car splits...   \n",
       "3  Warner ruled out of 3rd ODI & T20I series due ...   \n",
       "4  Referee saves MMA fighter from nearly flashing...   \n",
       "\n",
       "                                             article category  \n",
       "0  Australia defeated India in the second ODI in ...   sports  \n",
       "1  Boxer Mike Tyson, who returned to ring after 1...   sports  \n",
       "2  Formula One driver Romain Grosjean was involve...   sports  \n",
       "3  Opener David Warner was ruled out of the third...   sports  \n",
       "4  A video showing referee Jason Herzog saving MM...   sports  "
      ]
     },
     "execution_count": 82,
     "metadata": {},
     "output_type": "execute_result"
    }
   ],
   "source": [
    "news = pd.DataFrame(get_all_news())\n",
    "news.head()"
   ]
  },
  {
   "cell_type": "code",
   "execution_count": 83,
   "metadata": {},
   "outputs": [
    {
     "data": {
      "text/html": [
       "<div>\n",
       "<style scoped>\n",
       "    .dataframe tbody tr th:only-of-type {\n",
       "        vertical-align: middle;\n",
       "    }\n",
       "\n",
       "    .dataframe tbody tr th {\n",
       "        vertical-align: top;\n",
       "    }\n",
       "\n",
       "    .dataframe thead th {\n",
       "        text-align: right;\n",
       "    }\n",
       "</style>\n",
       "<table border=\"1\" class=\"dataframe\">\n",
       "  <thead>\n",
       "    <tr style=\"text-align: right;\">\n",
       "      <th></th>\n",
       "      <th>title</th>\n",
       "      <th>article</th>\n",
       "      <th>category</th>\n",
       "      <th>text_cleaned</th>\n",
       "      <th>text_tokenized</th>\n",
       "      <th>text_filtered</th>\n",
       "      <th>text_lemmatized</th>\n",
       "    </tr>\n",
       "  </thead>\n",
       "  <tbody>\n",
       "    <tr>\n",
       "      <th>0</th>\n",
       "      <td>India lose 7th consecutive international match...</td>\n",
       "      <td>Australia defeated India in the second ODI in ...</td>\n",
       "      <td>sports</td>\n",
       "      <td>australia defeated india in the second odi in ...</td>\n",
       "      <td>australia defeated india in the second odi in ...</td>\n",
       "      <td>australia defeated india second odi sydney 51 ...</td>\n",
       "      <td>australia defeated india second odi sydney 51 ...</td>\n",
       "    </tr>\n",
       "    <tr>\n",
       "      <th>1</th>\n",
       "      <td>Tyson reveals he smoked marijuana before throw...</td>\n",
       "      <td>Boxer Mike Tyson, who returned to ring after 1...</td>\n",
       "      <td>sports</td>\n",
       "      <td>boxer mike tyson who returned to ring after 15...</td>\n",
       "      <td>boxer mike tyson who returned to ring after 15...</td>\n",
       "      <td>boxer mike tyson returned ring 15 years exhibi...</td>\n",
       "      <td>boxer mike tyson returned ring 15 year exhibit...</td>\n",
       "    </tr>\n",
       "    <tr>\n",
       "      <th>2</th>\n",
       "      <td>F1 driver survives huge crash after car splits...</td>\n",
       "      <td>Formula One driver Romain Grosjean was involve...</td>\n",
       "      <td>sports</td>\n",
       "      <td>formula one driver romain grosjean was involve...</td>\n",
       "      <td>formula one driver romain grosjean was involve...</td>\n",
       "      <td>formula one driver romain grosjean involved hu...</td>\n",
       "      <td>formula one driver romain grosjean involved hu...</td>\n",
       "    </tr>\n",
       "    <tr>\n",
       "      <th>3</th>\n",
       "      <td>Warner ruled out of 3rd ODI &amp; T20I series due ...</td>\n",
       "      <td>Opener David Warner was ruled out of the third...</td>\n",
       "      <td>sports</td>\n",
       "      <td>opener david warner was ruled out of the third...</td>\n",
       "      <td>opener david warner was ruled out of the third...</td>\n",
       "      <td>opener david warner ruled third final odi thre...</td>\n",
       "      <td>opener david warner ruled third final odi thre...</td>\n",
       "    </tr>\n",
       "    <tr>\n",
       "      <th>4</th>\n",
       "      <td>Referee saves MMA fighter from nearly flashing...</td>\n",
       "      <td>A video showing referee Jason Herzog saving MM...</td>\n",
       "      <td>sports</td>\n",
       "      <td>a video showing referee jason herzog saving mm...</td>\n",
       "      <td>a video showing referee jason herzog saving mm...</td>\n",
       "      <td>video showing referee jason herzog saving mma ...</td>\n",
       "      <td>video showing referee jason herzog saving mma ...</td>\n",
       "    </tr>\n",
       "  </tbody>\n",
       "</table>\n",
       "</div>"
      ],
      "text/plain": [
       "                                               title  \\\n",
       "0  India lose 7th consecutive international match...   \n",
       "1  Tyson reveals he smoked marijuana before throw...   \n",
       "2  F1 driver survives huge crash after car splits...   \n",
       "3  Warner ruled out of 3rd ODI & T20I series due ...   \n",
       "4  Referee saves MMA fighter from nearly flashing...   \n",
       "\n",
       "                                             article category  \\\n",
       "0  Australia defeated India in the second ODI in ...   sports   \n",
       "1  Boxer Mike Tyson, who returned to ring after 1...   sports   \n",
       "2  Formula One driver Romain Grosjean was involve...   sports   \n",
       "3  Opener David Warner was ruled out of the third...   sports   \n",
       "4  A video showing referee Jason Herzog saving MM...   sports   \n",
       "\n",
       "                                        text_cleaned  \\\n",
       "0  australia defeated india in the second odi in ...   \n",
       "1  boxer mike tyson who returned to ring after 15...   \n",
       "2  formula one driver romain grosjean was involve...   \n",
       "3  opener david warner was ruled out of the third...   \n",
       "4  a video showing referee jason herzog saving mm...   \n",
       "\n",
       "                                      text_tokenized  \\\n",
       "0  australia defeated india in the second odi in ...   \n",
       "1  boxer mike tyson who returned to ring after 15...   \n",
       "2  formula one driver romain grosjean was involve...   \n",
       "3  opener david warner was ruled out of the third...   \n",
       "4  a video showing referee jason herzog saving mm...   \n",
       "\n",
       "                                       text_filtered  \\\n",
       "0  australia defeated india second odi sydney 51 ...   \n",
       "1  boxer mike tyson returned ring 15 years exhibi...   \n",
       "2  formula one driver romain grosjean involved hu...   \n",
       "3  opener david warner ruled third final odi thre...   \n",
       "4  video showing referee jason herzog saving mma ...   \n",
       "\n",
       "                                     text_lemmatized  \n",
       "0  australia defeated india second odi sydney 51 ...  \n",
       "1  boxer mike tyson returned ring 15 year exhibit...  \n",
       "2  formula one driver romain grosjean involved hu...  \n",
       "3  opener david warner ruled third final odi thre...  \n",
       "4  video showing referee jason herzog saving mma ...  "
      ]
     },
     "execution_count": 83,
     "metadata": {},
     "output_type": "execute_result"
    }
   ],
   "source": [
    "news['text_cleaned'] = news.article.apply(basic_clean)\n",
    "news['text_tokenized'] = news.text_cleaned.apply(tokenize)\n",
    "news['text_filtered'] = news.text_tokenized.apply(remove_stopwords)\n",
    "news['text_lemmatized'] = news.text_filtered.apply(lemmatize)\n",
    "\n",
    "news.head()"
   ]
  },
  {
   "cell_type": "code",
   "execution_count": 84,
   "metadata": {},
   "outputs": [
    {
     "data": {
      "text/html": [
       "<div>\n",
       "<style scoped>\n",
       "    .dataframe tbody tr th:only-of-type {\n",
       "        vertical-align: middle;\n",
       "    }\n",
       "\n",
       "    .dataframe tbody tr th {\n",
       "        vertical-align: top;\n",
       "    }\n",
       "\n",
       "    .dataframe thead th {\n",
       "        text-align: right;\n",
       "    }\n",
       "</style>\n",
       "<table border=\"1\" class=\"dataframe\">\n",
       "  <thead>\n",
       "    <tr style=\"text-align: right;\">\n",
       "      <th></th>\n",
       "      <th>article</th>\n",
       "      <th>category</th>\n",
       "      <th>text_cleaned</th>\n",
       "      <th>text_tokenized</th>\n",
       "      <th>text_filtered</th>\n",
       "      <th>text_lemmatized</th>\n",
       "    </tr>\n",
       "  </thead>\n",
       "  <tbody>\n",
       "    <tr>\n",
       "      <th>0</th>\n",
       "      <td>Australia defeated India in the second ODI in ...</td>\n",
       "      <td>sports</td>\n",
       "      <td>australia defeated india in the second odi in ...</td>\n",
       "      <td>australia defeated india in the second odi in ...</td>\n",
       "      <td>australia defeated india second odi sydney 51 ...</td>\n",
       "      <td>australia defeated india second odi sydney 51 ...</td>\n",
       "    </tr>\n",
       "    <tr>\n",
       "      <th>1</th>\n",
       "      <td>Boxer Mike Tyson, who returned to ring after 1...</td>\n",
       "      <td>sports</td>\n",
       "      <td>boxer mike tyson who returned to ring after 15...</td>\n",
       "      <td>boxer mike tyson who returned to ring after 15...</td>\n",
       "      <td>boxer mike tyson returned ring 15 years exhibi...</td>\n",
       "      <td>boxer mike tyson returned ring 15 year exhibit...</td>\n",
       "    </tr>\n",
       "    <tr>\n",
       "      <th>2</th>\n",
       "      <td>Formula One driver Romain Grosjean was involve...</td>\n",
       "      <td>sports</td>\n",
       "      <td>formula one driver romain grosjean was involve...</td>\n",
       "      <td>formula one driver romain grosjean was involve...</td>\n",
       "      <td>formula one driver romain grosjean involved hu...</td>\n",
       "      <td>formula one driver romain grosjean involved hu...</td>\n",
       "    </tr>\n",
       "    <tr>\n",
       "      <th>3</th>\n",
       "      <td>Opener David Warner was ruled out of the third...</td>\n",
       "      <td>sports</td>\n",
       "      <td>opener david warner was ruled out of the third...</td>\n",
       "      <td>opener david warner was ruled out of the third...</td>\n",
       "      <td>opener david warner ruled third final odi thre...</td>\n",
       "      <td>opener david warner ruled third final odi thre...</td>\n",
       "    </tr>\n",
       "    <tr>\n",
       "      <th>4</th>\n",
       "      <td>A video showing referee Jason Herzog saving MM...</td>\n",
       "      <td>sports</td>\n",
       "      <td>a video showing referee jason herzog saving mm...</td>\n",
       "      <td>a video showing referee jason herzog saving mm...</td>\n",
       "      <td>video showing referee jason herzog saving mma ...</td>\n",
       "      <td>video showing referee jason herzog saving mma ...</td>\n",
       "    </tr>\n",
       "  </tbody>\n",
       "</table>\n",
       "</div>"
      ],
      "text/plain": [
       "                                             article category  \\\n",
       "0  Australia defeated India in the second ODI in ...   sports   \n",
       "1  Boxer Mike Tyson, who returned to ring after 1...   sports   \n",
       "2  Formula One driver Romain Grosjean was involve...   sports   \n",
       "3  Opener David Warner was ruled out of the third...   sports   \n",
       "4  A video showing referee Jason Herzog saving MM...   sports   \n",
       "\n",
       "                                        text_cleaned  \\\n",
       "0  australia defeated india in the second odi in ...   \n",
       "1  boxer mike tyson who returned to ring after 15...   \n",
       "2  formula one driver romain grosjean was involve...   \n",
       "3  opener david warner was ruled out of the third...   \n",
       "4  a video showing referee jason herzog saving mm...   \n",
       "\n",
       "                                      text_tokenized  \\\n",
       "0  australia defeated india in the second odi in ...   \n",
       "1  boxer mike tyson who returned to ring after 15...   \n",
       "2  formula one driver romain grosjean was involve...   \n",
       "3  opener david warner was ruled out of the third...   \n",
       "4  a video showing referee jason herzog saving mm...   \n",
       "\n",
       "                                       text_filtered  \\\n",
       "0  australia defeated india second odi sydney 51 ...   \n",
       "1  boxer mike tyson returned ring 15 years exhibi...   \n",
       "2  formula one driver romain grosjean involved hu...   \n",
       "3  opener david warner ruled third final odi thre...   \n",
       "4  video showing referee jason herzog saving mma ...   \n",
       "\n",
       "                                     text_lemmatized  \n",
       "0  australia defeated india second odi sydney 51 ...  \n",
       "1  boxer mike tyson returned ring 15 year exhibit...  \n",
       "2  formula one driver romain grosjean involved hu...  \n",
       "3  opener david warner ruled third final odi thre...  \n",
       "4  video showing referee jason herzog saving mma ...  "
      ]
     },
     "execution_count": 84,
     "metadata": {},
     "output_type": "execute_result"
    }
   ],
   "source": [
    "news.drop(columns=['title'], inplace=True)\n",
    "news.head()"
   ]
  },
  {
   "cell_type": "code",
   "execution_count": 85,
   "metadata": {},
   "outputs": [
    {
     "data": {
      "text/html": [
       "<div>\n",
       "<style scoped>\n",
       "    .dataframe tbody tr th:only-of-type {\n",
       "        vertical-align: middle;\n",
       "    }\n",
       "\n",
       "    .dataframe tbody tr th {\n",
       "        vertical-align: top;\n",
       "    }\n",
       "\n",
       "    .dataframe thead th {\n",
       "        text-align: right;\n",
       "    }\n",
       "</style>\n",
       "<table border=\"1\" class=\"dataframe\">\n",
       "  <thead>\n",
       "    <tr style=\"text-align: right;\">\n",
       "      <th></th>\n",
       "      <th>article</th>\n",
       "      <th>category</th>\n",
       "      <th>text_cleaned</th>\n",
       "      <th>text_tokenized</th>\n",
       "      <th>text_filtered</th>\n",
       "      <th>text_lemmatized</th>\n",
       "      <th>words</th>\n",
       "    </tr>\n",
       "  </thead>\n",
       "  <tbody>\n",
       "    <tr>\n",
       "      <th>0</th>\n",
       "      <td>Australia defeated India in the second ODI in ...</td>\n",
       "      <td>sports</td>\n",
       "      <td>australia defeated india in the second odi in ...</td>\n",
       "      <td>australia defeated india in the second odi in ...</td>\n",
       "      <td>australia defeated india second odi sydney 51 ...</td>\n",
       "      <td>australia defeated india second odi sydney 51 ...</td>\n",
       "      <td>[australia, defeated, india, second, odi, sydn...</td>\n",
       "    </tr>\n",
       "    <tr>\n",
       "      <th>1</th>\n",
       "      <td>Boxer Mike Tyson, who returned to ring after 1...</td>\n",
       "      <td>sports</td>\n",
       "      <td>boxer mike tyson who returned to ring after 15...</td>\n",
       "      <td>boxer mike tyson who returned to ring after 15...</td>\n",
       "      <td>boxer mike tyson returned ring 15 years exhibi...</td>\n",
       "      <td>boxer mike tyson returned ring 15 year exhibit...</td>\n",
       "      <td>[boxer, mike, tyson, returned, ring, 15, years...</td>\n",
       "    </tr>\n",
       "    <tr>\n",
       "      <th>2</th>\n",
       "      <td>Formula One driver Romain Grosjean was involve...</td>\n",
       "      <td>sports</td>\n",
       "      <td>formula one driver romain grosjean was involve...</td>\n",
       "      <td>formula one driver romain grosjean was involve...</td>\n",
       "      <td>formula one driver romain grosjean involved hu...</td>\n",
       "      <td>formula one driver romain grosjean involved hu...</td>\n",
       "      <td>[formula, one, driver, romain, grosjean, invol...</td>\n",
       "    </tr>\n",
       "    <tr>\n",
       "      <th>3</th>\n",
       "      <td>Opener David Warner was ruled out of the third...</td>\n",
       "      <td>sports</td>\n",
       "      <td>opener david warner was ruled out of the third...</td>\n",
       "      <td>opener david warner was ruled out of the third...</td>\n",
       "      <td>opener david warner ruled third final odi thre...</td>\n",
       "      <td>opener david warner ruled third final odi thre...</td>\n",
       "      <td>[opener, david, warner, ruled, third, final, o...</td>\n",
       "    </tr>\n",
       "    <tr>\n",
       "      <th>4</th>\n",
       "      <td>A video showing referee Jason Herzog saving MM...</td>\n",
       "      <td>sports</td>\n",
       "      <td>a video showing referee jason herzog saving mm...</td>\n",
       "      <td>a video showing referee jason herzog saving mm...</td>\n",
       "      <td>video showing referee jason herzog saving mma ...</td>\n",
       "      <td>video showing referee jason herzog saving mma ...</td>\n",
       "      <td>[video, showing, referee, jason, herzog, savin...</td>\n",
       "    </tr>\n",
       "  </tbody>\n",
       "</table>\n",
       "</div>"
      ],
      "text/plain": [
       "                                             article category  \\\n",
       "0  Australia defeated India in the second ODI in ...   sports   \n",
       "1  Boxer Mike Tyson, who returned to ring after 1...   sports   \n",
       "2  Formula One driver Romain Grosjean was involve...   sports   \n",
       "3  Opener David Warner was ruled out of the third...   sports   \n",
       "4  A video showing referee Jason Herzog saving MM...   sports   \n",
       "\n",
       "                                        text_cleaned  \\\n",
       "0  australia defeated india in the second odi in ...   \n",
       "1  boxer mike tyson who returned to ring after 15...   \n",
       "2  formula one driver romain grosjean was involve...   \n",
       "3  opener david warner was ruled out of the third...   \n",
       "4  a video showing referee jason herzog saving mm...   \n",
       "\n",
       "                                      text_tokenized  \\\n",
       "0  australia defeated india in the second odi in ...   \n",
       "1  boxer mike tyson who returned to ring after 15...   \n",
       "2  formula one driver romain grosjean was involve...   \n",
       "3  opener david warner was ruled out of the third...   \n",
       "4  a video showing referee jason herzog saving mm...   \n",
       "\n",
       "                                       text_filtered  \\\n",
       "0  australia defeated india second odi sydney 51 ...   \n",
       "1  boxer mike tyson returned ring 15 years exhibi...   \n",
       "2  formula one driver romain grosjean involved hu...   \n",
       "3  opener david warner ruled third final odi thre...   \n",
       "4  video showing referee jason herzog saving mma ...   \n",
       "\n",
       "                                     text_lemmatized  \\\n",
       "0  australia defeated india second odi sydney 51 ...   \n",
       "1  boxer mike tyson returned ring 15 year exhibit...   \n",
       "2  formula one driver romain grosjean involved hu...   \n",
       "3  opener david warner ruled third final odi thre...   \n",
       "4  video showing referee jason herzog saving mma ...   \n",
       "\n",
       "                                               words  \n",
       "0  [australia, defeated, india, second, odi, sydn...  \n",
       "1  [boxer, mike, tyson, returned, ring, 15, years...  \n",
       "2  [formula, one, driver, romain, grosjean, invol...  \n",
       "3  [opener, david, warner, ruled, third, final, o...  \n",
       "4  [video, showing, referee, jason, herzog, savin...  "
      ]
     },
     "execution_count": 85,
     "metadata": {},
     "output_type": "execute_result"
    }
   ],
   "source": [
    "news_words = [re.sub(r'([^a-z0-9\\s]|\\s.\\s)', '', doc).split() for doc in news.text_filtered]\n",
    "news = pd.concat([news, pd.DataFrame({'words': news_words})], axis=1)\n",
    "news.head()"
   ]
  },
  {
   "cell_type": "code",
   "execution_count": 87,
   "metadata": {},
   "outputs": [],
   "source": [
    "news['bigrams'] = [list(nltk.ngrams(wordlist, 2)) for wordlist in news.words]\n",
    "news['trigrams'] = [list(nltk.ngrams(wordlist, 3)) for wordlist in news.words]\n",
    "\n",
    "all_news_words = ' '.join(news.text_filtered)\n",
    "sport_news_words = ' '.join(news[news.category=='sports'].text_filtered)\n",
    "business_news_words = ' '.join(news[news.category=='business'].text_filtered)\n",
    "tech_news_words = ' '.join(news[news.category=='technology'].text_filtered)\n",
    "ent_news_words = ' '.join(news[news.category=='entertainment'].text_filtered)\n",
    "\n",
    "all_news_words = re.sub(r'\\s.\\s', '', all_news_words)\n",
    "sport_news_words = re.sub(r'\\s.\\s', '', sport_news_words)\n",
    "business_news_words = re.sub(r'\\s.\\s', '', business_news_words)\n",
    "tech_news_words = re.sub(r'\\s.\\s', '', tech_news_words)\n",
    "ent_news_words = re.sub(r'\\s.\\s', '', ent_news_words)"
   ]
  },
  {
   "cell_type": "code",
   "execution_count": 88,
   "metadata": {},
   "outputs": [
    {
     "data": {
      "text/html": [
       "<div>\n",
       "<style scoped>\n",
       "    .dataframe tbody tr th:only-of-type {\n",
       "        vertical-align: middle;\n",
       "    }\n",
       "\n",
       "    .dataframe tbody tr th {\n",
       "        vertical-align: top;\n",
       "    }\n",
       "\n",
       "    .dataframe thead th {\n",
       "        text-align: right;\n",
       "    }\n",
       "</style>\n",
       "<table border=\"1\" class=\"dataframe\">\n",
       "  <thead>\n",
       "    <tr style=\"text-align: right;\">\n",
       "      <th></th>\n",
       "      <th>article</th>\n",
       "      <th>category</th>\n",
       "      <th>text_cleaned</th>\n",
       "      <th>text_tokenized</th>\n",
       "      <th>text_filtered</th>\n",
       "      <th>text_lemmatized</th>\n",
       "      <th>words</th>\n",
       "      <th>bigrams</th>\n",
       "      <th>trigrams</th>\n",
       "    </tr>\n",
       "  </thead>\n",
       "  <tbody>\n",
       "    <tr>\n",
       "      <th>0</th>\n",
       "      <td>Australia defeated India in the second ODI in ...</td>\n",
       "      <td>sports</td>\n",
       "      <td>australia defeated india in the second odi in ...</td>\n",
       "      <td>australia defeated india in the second odi in ...</td>\n",
       "      <td>australia defeated india second odi sydney 51 ...</td>\n",
       "      <td>australia defeated india second odi sydney 51 ...</td>\n",
       "      <td>[australia, defeated, india, second, odi, sydn...</td>\n",
       "      <td>[(australia, defeated), (defeated, india), (in...</td>\n",
       "      <td>[(australia, defeated, india), (defeated, indi...</td>\n",
       "    </tr>\n",
       "    <tr>\n",
       "      <th>1</th>\n",
       "      <td>Boxer Mike Tyson, who returned to ring after 1...</td>\n",
       "      <td>sports</td>\n",
       "      <td>boxer mike tyson who returned to ring after 15...</td>\n",
       "      <td>boxer mike tyson who returned to ring after 15...</td>\n",
       "      <td>boxer mike tyson returned ring 15 years exhibi...</td>\n",
       "      <td>boxer mike tyson returned ring 15 year exhibit...</td>\n",
       "      <td>[boxer, mike, tyson, returned, ring, 15, years...</td>\n",
       "      <td>[(boxer, mike), (mike, tyson), (tyson, returne...</td>\n",
       "      <td>[(boxer, mike, tyson), (mike, tyson, returned)...</td>\n",
       "    </tr>\n",
       "    <tr>\n",
       "      <th>2</th>\n",
       "      <td>Formula One driver Romain Grosjean was involve...</td>\n",
       "      <td>sports</td>\n",
       "      <td>formula one driver romain grosjean was involve...</td>\n",
       "      <td>formula one driver romain grosjean was involve...</td>\n",
       "      <td>formula one driver romain grosjean involved hu...</td>\n",
       "      <td>formula one driver romain grosjean involved hu...</td>\n",
       "      <td>[formula, one, driver, romain, grosjean, invol...</td>\n",
       "      <td>[(formula, one), (one, driver), (driver, romai...</td>\n",
       "      <td>[(formula, one, driver), (one, driver, romain)...</td>\n",
       "    </tr>\n",
       "    <tr>\n",
       "      <th>3</th>\n",
       "      <td>Opener David Warner was ruled out of the third...</td>\n",
       "      <td>sports</td>\n",
       "      <td>opener david warner was ruled out of the third...</td>\n",
       "      <td>opener david warner was ruled out of the third...</td>\n",
       "      <td>opener david warner ruled third final odi thre...</td>\n",
       "      <td>opener david warner ruled third final odi thre...</td>\n",
       "      <td>[opener, david, warner, ruled, third, final, o...</td>\n",
       "      <td>[(opener, david), (david, warner), (warner, ru...</td>\n",
       "      <td>[(opener, david, warner), (david, warner, rule...</td>\n",
       "    </tr>\n",
       "    <tr>\n",
       "      <th>4</th>\n",
       "      <td>A video showing referee Jason Herzog saving MM...</td>\n",
       "      <td>sports</td>\n",
       "      <td>a video showing referee jason herzog saving mm...</td>\n",
       "      <td>a video showing referee jason herzog saving mm...</td>\n",
       "      <td>video showing referee jason herzog saving mma ...</td>\n",
       "      <td>video showing referee jason herzog saving mma ...</td>\n",
       "      <td>[video, showing, referee, jason, herzog, savin...</td>\n",
       "      <td>[(video, showing), (showing, referee), (refere...</td>\n",
       "      <td>[(video, showing, referee), (showing, referee,...</td>\n",
       "    </tr>\n",
       "  </tbody>\n",
       "</table>\n",
       "</div>"
      ],
      "text/plain": [
       "                                             article category  \\\n",
       "0  Australia defeated India in the second ODI in ...   sports   \n",
       "1  Boxer Mike Tyson, who returned to ring after 1...   sports   \n",
       "2  Formula One driver Romain Grosjean was involve...   sports   \n",
       "3  Opener David Warner was ruled out of the third...   sports   \n",
       "4  A video showing referee Jason Herzog saving MM...   sports   \n",
       "\n",
       "                                        text_cleaned  \\\n",
       "0  australia defeated india in the second odi in ...   \n",
       "1  boxer mike tyson who returned to ring after 15...   \n",
       "2  formula one driver romain grosjean was involve...   \n",
       "3  opener david warner was ruled out of the third...   \n",
       "4  a video showing referee jason herzog saving mm...   \n",
       "\n",
       "                                      text_tokenized  \\\n",
       "0  australia defeated india in the second odi in ...   \n",
       "1  boxer mike tyson who returned to ring after 15...   \n",
       "2  formula one driver romain grosjean was involve...   \n",
       "3  opener david warner was ruled out of the third...   \n",
       "4  a video showing referee jason herzog saving mm...   \n",
       "\n",
       "                                       text_filtered  \\\n",
       "0  australia defeated india second odi sydney 51 ...   \n",
       "1  boxer mike tyson returned ring 15 years exhibi...   \n",
       "2  formula one driver romain grosjean involved hu...   \n",
       "3  opener david warner ruled third final odi thre...   \n",
       "4  video showing referee jason herzog saving mma ...   \n",
       "\n",
       "                                     text_lemmatized  \\\n",
       "0  australia defeated india second odi sydney 51 ...   \n",
       "1  boxer mike tyson returned ring 15 year exhibit...   \n",
       "2  formula one driver romain grosjean involved hu...   \n",
       "3  opener david warner ruled third final odi thre...   \n",
       "4  video showing referee jason herzog saving mma ...   \n",
       "\n",
       "                                               words  \\\n",
       "0  [australia, defeated, india, second, odi, sydn...   \n",
       "1  [boxer, mike, tyson, returned, ring, 15, years...   \n",
       "2  [formula, one, driver, romain, grosjean, invol...   \n",
       "3  [opener, david, warner, ruled, third, final, o...   \n",
       "4  [video, showing, referee, jason, herzog, savin...   \n",
       "\n",
       "                                             bigrams  \\\n",
       "0  [(australia, defeated), (defeated, india), (in...   \n",
       "1  [(boxer, mike), (mike, tyson), (tyson, returne...   \n",
       "2  [(formula, one), (one, driver), (driver, romai...   \n",
       "3  [(opener, david), (david, warner), (warner, ru...   \n",
       "4  [(video, showing), (showing, referee), (refere...   \n",
       "\n",
       "                                            trigrams  \n",
       "0  [(australia, defeated, india), (defeated, indi...  \n",
       "1  [(boxer, mike, tyson), (mike, tyson, returned)...  \n",
       "2  [(formula, one, driver), (one, driver, romain)...  \n",
       "3  [(opener, david, warner), (david, warner, rule...  \n",
       "4  [(video, showing, referee), (showing, referee,...  "
      ]
     },
     "execution_count": 88,
     "metadata": {},
     "output_type": "execute_result"
    }
   ],
   "source": [
    "news.head()"
   ]
  },
  {
   "cell_type": "code",
   "execution_count": 89,
   "metadata": {},
   "outputs": [],
   "source": [
    "all_news_bigrams = pd.Series(nltk.ngrams(all_news_words.split(), 2)).value_counts()\n",
    "sport_news_bigrams = pd.Series(nltk.ngrams(sport_news_words.split(), 2)).value_counts()\n",
    "business_news_bigrams = pd.Series(nltk.ngrams(business_news_words.split(), 2)).value_counts()\n",
    "tech_news_bigrams = pd.Series(nltk.ngrams(tech_news_words.split(), 2)).value_counts()\n",
    "ent_news_bigrams = pd.Series(nltk.ngrams(ent_news_words.split(), 2)).value_counts()\n",
    "\n",
    "top20_news_bigrams = all_news_bigrams.head(20)\n",
    "top20_sport_bigrams = sport_news_bigrams.head(20)\n",
    "top20_business_bigrams = business_news_bigrams.head(20)\n",
    "top20_tech_bigrams = tech_news_bigrams.head(20)\n",
    "top20_ent_bigrams = ent_news_bigrams.head(20)\n",
    "\n",
    "news_data = {k[0] + ' ' + k[1]: v for k, v in top20_news_bigrams.to_dict().items()}\n",
    "sport_data = {k[0] + ' ' + k[1]: v for k, v in top20_sport_bigrams.to_dict().items()}\n",
    "business_data = {k[0] + ' ' + k[1]: v for k, v in top20_business_bigrams.to_dict().items()}\n",
    "tech_data = {k[0] + ' ' + k[1]: v for k, v in top20_tech_bigrams.to_dict().items()}\n",
    "ent_data = {k[0] + ' ' + k[1]: v for k, v in top20_ent_bigrams.to_dict().items()}"
   ]
  },
  {
   "cell_type": "code",
   "execution_count": 90,
   "metadata": {},
   "outputs": [
    {
     "data": {
      "text/plain": [
       "Text(0.5, 0, 'Frequency')"
      ]
     },
     "execution_count": 90,
     "metadata": {},
     "output_type": "execute_result"
    },
    {
     "data": {
      "image/png": "[encoded data removed]",
      "text/plain": [
       "<Figure size 720x576 with 1 Axes>"
      ]
     },
     "metadata": {
      "needs_background": "light"
     },
     "output_type": "display_data"
    }
   ],
   "source": [
    "all_news_bigrams.head(10).plot.barh(color='red', width=.9, figsize=(10, 8))\n",
    "\n",
    "plt.title('10 Most Frequently Occuring News Bigrams')\n",
    "plt.ylabel('Bigram')\n",
    "plt.xlabel('Frequency')"
   ]
  },
  {
   "cell_type": "code",
   "execution_count": 91,
   "metadata": {},
   "outputs": [
    {
     "data": {
      "text/plain": [
       "Text(0.5, 0, 'Frequency')"
      ]
     },
     "execution_count": 91,
     "metadata": {},
     "output_type": "execute_result"
    },
    {
     "data": {
      "image/png": "[encoded data removed]",
      "text/plain": [
       "<Figure size 720x576 with 1 Axes>"
      ]
     },
     "metadata": {
      "needs_background": "light"
     },
     "output_type": "display_data"
    }
   ],
   "source": [
    "sport_news_bigrams.head(10).plot.barh(color='red', width=.9, figsize=(10, 8))\n",
    "\n",
    "plt.title('10 Most Frequently Occuring Sport News Bigrams')\n",
    "plt.ylabel('Bigram')\n",
    "plt.xlabel('Frequency')"
   ]
  },
  {
   "cell_type": "code",
   "execution_count": 95,
   "metadata": {},
   "outputs": [
    {
     "data": {
      "text/plain": [
       "Text(0.5, 0, 'Frequency')"
      ]
     },
     "execution_count": 95,
     "metadata": {},
     "output_type": "execute_result"
    },
    {
     "data": {
      "image/png": "[encoded data removed]",
      "text/plain": [
       "<Figure size 720x576 with 1 Axes>"
      ]
     },
     "metadata": {
      "needs_background": "light"
     },
     "output_type": "display_data"
    }
   ],
   "source": [
    "business_news_bigrams.head(10).plot.barh(color='red', width=.9, figsize=(10, 8))\n",
    "\n",
    "plt.title('10 Most Frequently Occuring Business News Bigrams')\n",
    "plt.ylabel('Bigram')\n",
    "plt.xlabel('Frequency')"
   ]
  },
  {
   "cell_type": "code",
   "execution_count": 96,
   "metadata": {},
   "outputs": [
    {
     "data": {
      "text/plain": [
       "Text(0.5, 0, 'Frequency')"
      ]
     },
     "execution_count": 96,
     "metadata": {},
     "output_type": "execute_result"
    },
    {
     "data": {
      "image/png": "[encoded data removed]",
      "text/plain": [
       "<Figure size 720x576 with 1 Axes>"
      ]
     },
     "metadata": {
      "needs_background": "light"
     },
     "output_type": "display_data"
    }
   ],
   "source": [
    "tech_news_bigrams.head(10).plot.barh(color='red', width=.9, figsize=(10, 8))\n",
    "\n",
    "plt.title('10 Most Frequently Occuring Tech News Bigrams')\n",
    "plt.ylabel('Bigram')\n",
    "plt.xlabel('Frequency')"
   ]
  },
  {
   "cell_type": "code",
   "execution_count": 97,
   "metadata": {},
   "outputs": [
    {
     "data": {
      "text/plain": [
       "Text(0.5, 0, 'Frequency')"
      ]
     },
     "execution_count": 97,
     "metadata": {},
     "output_type": "execute_result"
    },
    {
     "data": {
      "image/png": "[encoded data removed]",
      "text/plain": [
       "<Figure size 720x576 with 1 Axes>"
      ]
     },
     "metadata": {
      "needs_background": "light"
     },
     "output_type": "display_data"
    }
   ],
   "source": [
    "ent_news_bigrams.head(10).plot.barh(color='red', width=.9, figsize=(10, 8))\n",
    "\n",
    "plt.title('10 Most Frequently Occuring Entertainment News Bigrams')\n",
    "plt.ylabel('Bigram')\n",
    "plt.xlabel('Frequency')"
   ]
  },
  {
   "cell_type": "code",
   "execution_count": null,
   "metadata": {},
   "outputs": [],
   "source": []
  }
 ],
 "metadata": {
  "kernelspec": {
   "display_name": "Python 3",
   "language": "python",
   "name": "python3"
  },
  "language_info": {
   "codemirror_mode": {
    "name": "ipython",
    "version": 3
   },
   "file_extension": ".py",
   "mimetype": "text/x-python",
   "name": "python",
   "nbconvert_exporter": "python",
   "pygments_lexer": "ipython3",
   "version": "3.7.6"
  }
 },
 "nbformat": 4,
 "nbformat_minor": 4
}
